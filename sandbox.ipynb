{
 "cells": [
  {
   "cell_type": "code",
   "execution_count": 1,
   "id": "e797490f",
   "metadata": {},
   "outputs": [],
   "source": [
    "from neuron import Neuron"
   ]
  },
  {
   "cell_type": "code",
   "execution_count": 2,
   "id": "6ec8d421",
   "metadata": {},
   "outputs": [],
   "source": [
    "inputs = [0.1, 0.4, 0.2]"
   ]
  },
  {
   "cell_type": "code",
   "execution_count": 3,
   "id": "8f90144d",
   "metadata": {},
   "outputs": [],
   "source": [
    "neuron = Neuron(len(inputs))"
   ]
  },
  {
   "cell_type": "code",
   "execution_count": 4,
   "id": "3e6fbb4a",
   "metadata": {},
   "outputs": [
    {
     "data": {
      "text/plain": [
       "0.33559509336130805"
      ]
     },
     "execution_count": 4,
     "metadata": {},
     "output_type": "execute_result"
    }
   ],
   "source": [
    "neuron.feedforward(inputs)"
   ]
  },
  {
   "cell_type": "code",
   "execution_count": 5,
   "id": "78eb96a5",
   "metadata": {},
   "outputs": [],
   "source": [
    "from layer import Layer"
   ]
  },
  {
   "cell_type": "code",
   "execution_count": 6,
   "id": "28cc7b98",
   "metadata": {},
   "outputs": [],
   "source": [
    "layer = Layer(num_neurons=5, neuron_input_size=3)"
   ]
  },
  {
   "cell_type": "code",
   "execution_count": 7,
   "id": "1df26915",
   "metadata": {},
   "outputs": [
    {
     "data": {
      "text/plain": [
       "array([0.81266943, 0.73499058, 0.39539231, 0.25776031, 0.19453405])"
      ]
     },
     "execution_count": 7,
     "metadata": {},
     "output_type": "execute_result"
    }
   ],
   "source": [
    "layer.feedforward(inputs)"
   ]
  },
  {
   "cell_type": "code",
   "execution_count": 8,
   "id": "bf0e7466",
   "metadata": {},
   "outputs": [],
   "source": [
    "from neural_network import NeuralNetwork"
   ]
  },
  {
   "cell_type": "code",
   "execution_count": 9,
   "id": "a2ee9d95",
   "metadata": {},
   "outputs": [],
   "source": [
    "config = [len(inputs), 10, 11, 15, 1]"
   ]
  },
  {
   "cell_type": "code",
   "execution_count": 10,
   "id": "7ee03bd7",
   "metadata": {},
   "outputs": [],
   "source": [
    "neural_network = NeuralNetwork(config)"
   ]
  },
  {
   "cell_type": "code",
   "execution_count": 11,
   "id": "d41025fd",
   "metadata": {},
   "outputs": [
    {
     "data": {
      "text/plain": [
       "array([0.50371044])"
      ]
     },
     "execution_count": 11,
     "metadata": {},
     "output_type": "execute_result"
    }
   ],
   "source": [
    "neural_network.feedforward(inputs)"
   ]
  },
  {
   "cell_type": "code",
   "execution_count": 12,
   "id": "90e34f5f",
   "metadata": {},
   "outputs": [],
   "source": [
    "import utils"
   ]
  },
  {
   "cell_type": "code",
   "execution_count": 13,
   "id": "3e5f4b78",
   "metadata": {},
   "outputs": [
    {
     "data": {
      "application/vnd.plotly.v1+json": {
       "config": {
        "plotlyServerURL": "https://plot.ly"
       },
       "data": [],
       "layout": {
        "shapes": [
         {
          "layer": "above",
          "line": {
           "color": "gray",
           "width": 1
          },
          "type": "line",
          "x0": 0.5,
          "x1": 5.5,
          "xref": "x",
          "y0": -2,
          "y1": -9,
          "yref": "y"
         },
         {
          "layer": "above",
          "line": {
           "color": "gray",
           "width": 1
          },
          "type": "line",
          "x0": 0.5,
          "x1": 5.5,
          "xref": "x",
          "y0": -2,
          "y1": -7,
          "yref": "y"
         },
         {
          "layer": "above",
          "line": {
           "color": "gray",
           "width": 1
          },
          "type": "line",
          "x0": 0.5,
          "x1": 5.5,
          "xref": "x",
          "y0": -2,
          "y1": -5,
          "yref": "y"
         },
         {
          "layer": "above",
          "line": {
           "color": "gray",
           "width": 1
          },
          "type": "line",
          "x0": 0.5,
          "x1": 5.5,
          "xref": "x",
          "y0": -2,
          "y1": -3,
          "yref": "y"
         },
         {
          "layer": "above",
          "line": {
           "color": "gray",
           "width": 1
          },
          "type": "line",
          "x0": 0.5,
          "x1": 5.5,
          "xref": "x",
          "y0": -2,
          "y1": -1,
          "yref": "y"
         },
         {
          "layer": "above",
          "line": {
           "color": "gray",
           "width": 1
          },
          "type": "line",
          "x0": 0.5,
          "x1": 5.5,
          "xref": "x",
          "y0": -2,
          "y1": 1,
          "yref": "y"
         },
         {
          "layer": "above",
          "line": {
           "color": "gray",
           "width": 1
          },
          "type": "line",
          "x0": 0.5,
          "x1": 5.5,
          "xref": "x",
          "y0": -2,
          "y1": 3,
          "yref": "y"
         },
         {
          "layer": "above",
          "line": {
           "color": "gray",
           "width": 1
          },
          "type": "line",
          "x0": 0.5,
          "x1": 5.5,
          "xref": "x",
          "y0": -2,
          "y1": 5,
          "yref": "y"
         },
         {
          "layer": "above",
          "line": {
           "color": "gray",
           "width": 1
          },
          "type": "line",
          "x0": 0.5,
          "x1": 5.5,
          "xref": "x",
          "y0": -2,
          "y1": 7,
          "yref": "y"
         },
         {
          "layer": "above",
          "line": {
           "color": "gray",
           "width": 1
          },
          "type": "line",
          "x0": 0.5,
          "x1": 5.5,
          "xref": "x",
          "y0": -2,
          "y1": 9,
          "yref": "y"
         },
         {
          "layer": "above",
          "line": {
           "color": "gray",
           "width": 1
          },
          "type": "line",
          "x0": 0.5,
          "x1": 5.5,
          "xref": "x",
          "y0": 0,
          "y1": -9,
          "yref": "y"
         },
         {
          "layer": "above",
          "line": {
           "color": "gray",
           "width": 1
          },
          "type": "line",
          "x0": 0.5,
          "x1": 5.5,
          "xref": "x",
          "y0": 0,
          "y1": -7,
          "yref": "y"
         },
         {
          "layer": "above",
          "line": {
           "color": "gray",
           "width": 1
          },
          "type": "line",
          "x0": 0.5,
          "x1": 5.5,
          "xref": "x",
          "y0": 0,
          "y1": -5,
          "yref": "y"
         },
         {
          "layer": "above",
          "line": {
           "color": "gray",
           "width": 1
          },
          "type": "line",
          "x0": 0.5,
          "x1": 5.5,
          "xref": "x",
          "y0": 0,
          "y1": -3,
          "yref": "y"
         },
         {
          "layer": "above",
          "line": {
           "color": "gray",
           "width": 1
          },
          "type": "line",
          "x0": 0.5,
          "x1": 5.5,
          "xref": "x",
          "y0": 0,
          "y1": -1,
          "yref": "y"
         },
         {
          "layer": "above",
          "line": {
           "color": "gray",
           "width": 1
          },
          "type": "line",
          "x0": 0.5,
          "x1": 5.5,
          "xref": "x",
          "y0": 0,
          "y1": 1,
          "yref": "y"
         },
         {
          "layer": "above",
          "line": {
           "color": "gray",
           "width": 1
          },
          "type": "line",
          "x0": 0.5,
          "x1": 5.5,
          "xref": "x",
          "y0": 0,
          "y1": 3,
          "yref": "y"
         },
         {
          "layer": "above",
          "line": {
           "color": "gray",
           "width": 1
          },
          "type": "line",
          "x0": 0.5,
          "x1": 5.5,
          "xref": "x",
          "y0": 0,
          "y1": 5,
          "yref": "y"
         },
         {
          "layer": "above",
          "line": {
           "color": "gray",
           "width": 1
          },
          "type": "line",
          "x0": 0.5,
          "x1": 5.5,
          "xref": "x",
          "y0": 0,
          "y1": 7,
          "yref": "y"
         },
         {
          "layer": "above",
          "line": {
           "color": "gray",
           "width": 1
          },
          "type": "line",
          "x0": 0.5,
          "x1": 5.5,
          "xref": "x",
          "y0": 0,
          "y1": 9,
          "yref": "y"
         },
         {
          "layer": "above",
          "line": {
           "color": "gray",
           "width": 1
          },
          "type": "line",
          "x0": 0.5,
          "x1": 5.5,
          "xref": "x",
          "y0": 2,
          "y1": -9,
          "yref": "y"
         },
         {
          "layer": "above",
          "line": {
           "color": "gray",
           "width": 1
          },
          "type": "line",
          "x0": 0.5,
          "x1": 5.5,
          "xref": "x",
          "y0": 2,
          "y1": -7,
          "yref": "y"
         },
         {
          "layer": "above",
          "line": {
           "color": "gray",
           "width": 1
          },
          "type": "line",
          "x0": 0.5,
          "x1": 5.5,
          "xref": "x",
          "y0": 2,
          "y1": -5,
          "yref": "y"
         },
         {
          "layer": "above",
          "line": {
           "color": "gray",
           "width": 1
          },
          "type": "line",
          "x0": 0.5,
          "x1": 5.5,
          "xref": "x",
          "y0": 2,
          "y1": -3,
          "yref": "y"
         },
         {
          "layer": "above",
          "line": {
           "color": "gray",
           "width": 1
          },
          "type": "line",
          "x0": 0.5,
          "x1": 5.5,
          "xref": "x",
          "y0": 2,
          "y1": -1,
          "yref": "y"
         },
         {
          "layer": "above",
          "line": {
           "color": "gray",
           "width": 1
          },
          "type": "line",
          "x0": 0.5,
          "x1": 5.5,
          "xref": "x",
          "y0": 2,
          "y1": 1,
          "yref": "y"
         },
         {
          "layer": "above",
          "line": {
           "color": "gray",
           "width": 1
          },
          "type": "line",
          "x0": 0.5,
          "x1": 5.5,
          "xref": "x",
          "y0": 2,
          "y1": 3,
          "yref": "y"
         },
         {
          "layer": "above",
          "line": {
           "color": "gray",
           "width": 1
          },
          "type": "line",
          "x0": 0.5,
          "x1": 5.5,
          "xref": "x",
          "y0": 2,
          "y1": 5,
          "yref": "y"
         },
         {
          "layer": "above",
          "line": {
           "color": "gray",
           "width": 1
          },
          "type": "line",
          "x0": 0.5,
          "x1": 5.5,
          "xref": "x",
          "y0": 2,
          "y1": 7,
          "yref": "y"
         },
         {
          "layer": "above",
          "line": {
           "color": "gray",
           "width": 1
          },
          "type": "line",
          "x0": 0.5,
          "x1": 5.5,
          "xref": "x",
          "y0": 2,
          "y1": 9,
          "yref": "y"
         },
         {
          "layer": "above",
          "line": {
           "color": "gray",
           "width": 1
          },
          "type": "line",
          "x0": 5.5,
          "x1": 10.5,
          "xref": "x",
          "y0": -9,
          "y1": -10,
          "yref": "y"
         },
         {
          "layer": "above",
          "line": {
           "color": "gray",
           "width": 1
          },
          "type": "line",
          "x0": 5.5,
          "x1": 10.5,
          "xref": "x",
          "y0": -9,
          "y1": -8,
          "yref": "y"
         },
         {
          "layer": "above",
          "line": {
           "color": "gray",
           "width": 1
          },
          "type": "line",
          "x0": 5.5,
          "x1": 10.5,
          "xref": "x",
          "y0": -9,
          "y1": -6,
          "yref": "y"
         },
         {
          "layer": "above",
          "line": {
           "color": "gray",
           "width": 1
          },
          "type": "line",
          "x0": 5.5,
          "x1": 10.5,
          "xref": "x",
          "y0": -9,
          "y1": -4,
          "yref": "y"
         },
         {
          "layer": "above",
          "line": {
           "color": "gray",
           "width": 1
          },
          "type": "line",
          "x0": 5.5,
          "x1": 10.5,
          "xref": "x",
          "y0": -9,
          "y1": -2,
          "yref": "y"
         },
         {
          "layer": "above",
          "line": {
           "color": "gray",
           "width": 1
          },
          "type": "line",
          "x0": 5.5,
          "x1": 10.5,
          "xref": "x",
          "y0": -9,
          "y1": 0,
          "yref": "y"
         },
         {
          "layer": "above",
          "line": {
           "color": "gray",
           "width": 1
          },
          "type": "line",
          "x0": 5.5,
          "x1": 10.5,
          "xref": "x",
          "y0": -9,
          "y1": 2,
          "yref": "y"
         },
         {
          "layer": "above",
          "line": {
           "color": "gray",
           "width": 1
          },
          "type": "line",
          "x0": 5.5,
          "x1": 10.5,
          "xref": "x",
          "y0": -9,
          "y1": 4,
          "yref": "y"
         },
         {
          "layer": "above",
          "line": {
           "color": "gray",
           "width": 1
          },
          "type": "line",
          "x0": 5.5,
          "x1": 10.5,
          "xref": "x",
          "y0": -9,
          "y1": 6,
          "yref": "y"
         },
         {
          "layer": "above",
          "line": {
           "color": "gray",
           "width": 1
          },
          "type": "line",
          "x0": 5.5,
          "x1": 10.5,
          "xref": "x",
          "y0": -9,
          "y1": 8,
          "yref": "y"
         },
         {
          "layer": "above",
          "line": {
           "color": "gray",
           "width": 1
          },
          "type": "line",
          "x0": 5.5,
          "x1": 10.5,
          "xref": "x",
          "y0": -9,
          "y1": 10,
          "yref": "y"
         },
         {
          "layer": "above",
          "line": {
           "color": "gray",
           "width": 1
          },
          "type": "line",
          "x0": 5.5,
          "x1": 10.5,
          "xref": "x",
          "y0": -7,
          "y1": -10,
          "yref": "y"
         },
         {
          "layer": "above",
          "line": {
           "color": "gray",
           "width": 1
          },
          "type": "line",
          "x0": 5.5,
          "x1": 10.5,
          "xref": "x",
          "y0": -7,
          "y1": -8,
          "yref": "y"
         },
         {
          "layer": "above",
          "line": {
           "color": "gray",
           "width": 1
          },
          "type": "line",
          "x0": 5.5,
          "x1": 10.5,
          "xref": "x",
          "y0": -7,
          "y1": -6,
          "yref": "y"
         },
         {
          "layer": "above",
          "line": {
           "color": "gray",
           "width": 1
          },
          "type": "line",
          "x0": 5.5,
          "x1": 10.5,
          "xref": "x",
          "y0": -7,
          "y1": -4,
          "yref": "y"
         },
         {
          "layer": "above",
          "line": {
           "color": "gray",
           "width": 1
          },
          "type": "line",
          "x0": 5.5,
          "x1": 10.5,
          "xref": "x",
          "y0": -7,
          "y1": -2,
          "yref": "y"
         },
         {
          "layer": "above",
          "line": {
           "color": "gray",
           "width": 1
          },
          "type": "line",
          "x0": 5.5,
          "x1": 10.5,
          "xref": "x",
          "y0": -7,
          "y1": 0,
          "yref": "y"
         },
         {
          "layer": "above",
          "line": {
           "color": "gray",
           "width": 1
          },
          "type": "line",
          "x0": 5.5,
          "x1": 10.5,
          "xref": "x",
          "y0": -7,
          "y1": 2,
          "yref": "y"
         },
         {
          "layer": "above",
          "line": {
           "color": "gray",
           "width": 1
          },
          "type": "line",
          "x0": 5.5,
          "x1": 10.5,
          "xref": "x",
          "y0": -7,
          "y1": 4,
          "yref": "y"
         },
         {
          "layer": "above",
          "line": {
           "color": "gray",
           "width": 1
          },
          "type": "line",
          "x0": 5.5,
          "x1": 10.5,
          "xref": "x",
          "y0": -7,
          "y1": 6,
          "yref": "y"
         },
         {
          "layer": "above",
          "line": {
           "color": "gray",
           "width": 1
          },
          "type": "line",
          "x0": 5.5,
          "x1": 10.5,
          "xref": "x",
          "y0": -7,
          "y1": 8,
          "yref": "y"
         },
         {
          "layer": "above",
          "line": {
           "color": "gray",
           "width": 1
          },
          "type": "line",
          "x0": 5.5,
          "x1": 10.5,
          "xref": "x",
          "y0": -7,
          "y1": 10,
          "yref": "y"
         },
         {
          "layer": "above",
          "line": {
           "color": "gray",
           "width": 1
          },
          "type": "line",
          "x0": 5.5,
          "x1": 10.5,
          "xref": "x",
          "y0": -5,
          "y1": -10,
          "yref": "y"
         },
         {
          "layer": "above",
          "line": {
           "color": "gray",
           "width": 1
          },
          "type": "line",
          "x0": 5.5,
          "x1": 10.5,
          "xref": "x",
          "y0": -5,
          "y1": -8,
          "yref": "y"
         },
         {
          "layer": "above",
          "line": {
           "color": "gray",
           "width": 1
          },
          "type": "line",
          "x0": 5.5,
          "x1": 10.5,
          "xref": "x",
          "y0": -5,
          "y1": -6,
          "yref": "y"
         },
         {
          "layer": "above",
          "line": {
           "color": "gray",
           "width": 1
          },
          "type": "line",
          "x0": 5.5,
          "x1": 10.5,
          "xref": "x",
          "y0": -5,
          "y1": -4,
          "yref": "y"
         },
         {
          "layer": "above",
          "line": {
           "color": "gray",
           "width": 1
          },
          "type": "line",
          "x0": 5.5,
          "x1": 10.5,
          "xref": "x",
          "y0": -5,
          "y1": -2,
          "yref": "y"
         },
         {
          "layer": "above",
          "line": {
           "color": "gray",
           "width": 1
          },
          "type": "line",
          "x0": 5.5,
          "x1": 10.5,
          "xref": "x",
          "y0": -5,
          "y1": 0,
          "yref": "y"
         },
         {
          "layer": "above",
          "line": {
           "color": "gray",
           "width": 1
          },
          "type": "line",
          "x0": 5.5,
          "x1": 10.5,
          "xref": "x",
          "y0": -5,
          "y1": 2,
          "yref": "y"
         },
         {
          "layer": "above",
          "line": {
           "color": "gray",
           "width": 1
          },
          "type": "line",
          "x0": 5.5,
          "x1": 10.5,
          "xref": "x",
          "y0": -5,
          "y1": 4,
          "yref": "y"
         },
         {
          "layer": "above",
          "line": {
           "color": "gray",
           "width": 1
          },
          "type": "line",
          "x0": 5.5,
          "x1": 10.5,
          "xref": "x",
          "y0": -5,
          "y1": 6,
          "yref": "y"
         },
         {
          "layer": "above",
          "line": {
           "color": "gray",
           "width": 1
          },
          "type": "line",
          "x0": 5.5,
          "x1": 10.5,
          "xref": "x",
          "y0": -5,
          "y1": 8,
          "yref": "y"
         },
         {
          "layer": "above",
          "line": {
           "color": "gray",
           "width": 1
          },
          "type": "line",
          "x0": 5.5,
          "x1": 10.5,
          "xref": "x",
          "y0": -5,
          "y1": 10,
          "yref": "y"
         },
         {
          "layer": "above",
          "line": {
           "color": "gray",
           "width": 1
          },
          "type": "line",
          "x0": 5.5,
          "x1": 10.5,
          "xref": "x",
          "y0": -3,
          "y1": -10,
          "yref": "y"
         },
         {
          "layer": "above",
          "line": {
           "color": "gray",
           "width": 1
          },
          "type": "line",
          "x0": 5.5,
          "x1": 10.5,
          "xref": "x",
          "y0": -3,
          "y1": -8,
          "yref": "y"
         },
         {
          "layer": "above",
          "line": {
           "color": "gray",
           "width": 1
          },
          "type": "line",
          "x0": 5.5,
          "x1": 10.5,
          "xref": "x",
          "y0": -3,
          "y1": -6,
          "yref": "y"
         },
         {
          "layer": "above",
          "line": {
           "color": "gray",
           "width": 1
          },
          "type": "line",
          "x0": 5.5,
          "x1": 10.5,
          "xref": "x",
          "y0": -3,
          "y1": -4,
          "yref": "y"
         },
         {
          "layer": "above",
          "line": {
           "color": "gray",
           "width": 1
          },
          "type": "line",
          "x0": 5.5,
          "x1": 10.5,
          "xref": "x",
          "y0": -3,
          "y1": -2,
          "yref": "y"
         },
         {
          "layer": "above",
          "line": {
           "color": "gray",
           "width": 1
          },
          "type": "line",
          "x0": 5.5,
          "x1": 10.5,
          "xref": "x",
          "y0": -3,
          "y1": 0,
          "yref": "y"
         },
         {
          "layer": "above",
          "line": {
           "color": "gray",
           "width": 1
          },
          "type": "line",
          "x0": 5.5,
          "x1": 10.5,
          "xref": "x",
          "y0": -3,
          "y1": 2,
          "yref": "y"
         },
         {
          "layer": "above",
          "line": {
           "color": "gray",
           "width": 1
          },
          "type": "line",
          "x0": 5.5,
          "x1": 10.5,
          "xref": "x",
          "y0": -3,
          "y1": 4,
          "yref": "y"
         },
         {
          "layer": "above",
          "line": {
           "color": "gray",
           "width": 1
          },
          "type": "line",
          "x0": 5.5,
          "x1": 10.5,
          "xref": "x",
          "y0": -3,
          "y1": 6,
          "yref": "y"
         },
         {
          "layer": "above",
          "line": {
           "color": "gray",
           "width": 1
          },
          "type": "line",
          "x0": 5.5,
          "x1": 10.5,
          "xref": "x",
          "y0": -3,
          "y1": 8,
          "yref": "y"
         },
         {
          "layer": "above",
          "line": {
           "color": "gray",
           "width": 1
          },
          "type": "line",
          "x0": 5.5,
          "x1": 10.5,
          "xref": "x",
          "y0": -3,
          "y1": 10,
          "yref": "y"
         },
         {
          "layer": "above",
          "line": {
           "color": "gray",
           "width": 1
          },
          "type": "line",
          "x0": 5.5,
          "x1": 10.5,
          "xref": "x",
          "y0": -1,
          "y1": -10,
          "yref": "y"
         },
         {
          "layer": "above",
          "line": {
           "color": "gray",
           "width": 1
          },
          "type": "line",
          "x0": 5.5,
          "x1": 10.5,
          "xref": "x",
          "y0": -1,
          "y1": -8,
          "yref": "y"
         },
         {
          "layer": "above",
          "line": {
           "color": "gray",
           "width": 1
          },
          "type": "line",
          "x0": 5.5,
          "x1": 10.5,
          "xref": "x",
          "y0": -1,
          "y1": -6,
          "yref": "y"
         },
         {
          "layer": "above",
          "line": {
           "color": "gray",
           "width": 1
          },
          "type": "line",
          "x0": 5.5,
          "x1": 10.5,
          "xref": "x",
          "y0": -1,
          "y1": -4,
          "yref": "y"
         },
         {
          "layer": "above",
          "line": {
           "color": "gray",
           "width": 1
          },
          "type": "line",
          "x0": 5.5,
          "x1": 10.5,
          "xref": "x",
          "y0": -1,
          "y1": -2,
          "yref": "y"
         },
         {
          "layer": "above",
          "line": {
           "color": "gray",
           "width": 1
          },
          "type": "line",
          "x0": 5.5,
          "x1": 10.5,
          "xref": "x",
          "y0": -1,
          "y1": 0,
          "yref": "y"
         },
         {
          "layer": "above",
          "line": {
           "color": "gray",
           "width": 1
          },
          "type": "line",
          "x0": 5.5,
          "x1": 10.5,
          "xref": "x",
          "y0": -1,
          "y1": 2,
          "yref": "y"
         },
         {
          "layer": "above",
          "line": {
           "color": "gray",
           "width": 1
          },
          "type": "line",
          "x0": 5.5,
          "x1": 10.5,
          "xref": "x",
          "y0": -1,
          "y1": 4,
          "yref": "y"
         },
         {
          "layer": "above",
          "line": {
           "color": "gray",
           "width": 1
          },
          "type": "line",
          "x0": 5.5,
          "x1": 10.5,
          "xref": "x",
          "y0": -1,
          "y1": 6,
          "yref": "y"
         },
         {
          "layer": "above",
          "line": {
           "color": "gray",
           "width": 1
          },
          "type": "line",
          "x0": 5.5,
          "x1": 10.5,
          "xref": "x",
          "y0": -1,
          "y1": 8,
          "yref": "y"
         },
         {
          "layer": "above",
          "line": {
           "color": "gray",
           "width": 1
          },
          "type": "line",
          "x0": 5.5,
          "x1": 10.5,
          "xref": "x",
          "y0": -1,
          "y1": 10,
          "yref": "y"
         },
         {
          "layer": "above",
          "line": {
           "color": "gray",
           "width": 1
          },
          "type": "line",
          "x0": 5.5,
          "x1": 10.5,
          "xref": "x",
          "y0": 1,
          "y1": -10,
          "yref": "y"
         },
         {
          "layer": "above",
          "line": {
           "color": "gray",
           "width": 1
          },
          "type": "line",
          "x0": 5.5,
          "x1": 10.5,
          "xref": "x",
          "y0": 1,
          "y1": -8,
          "yref": "y"
         },
         {
          "layer": "above",
          "line": {
           "color": "gray",
           "width": 1
          },
          "type": "line",
          "x0": 5.5,
          "x1": 10.5,
          "xref": "x",
          "y0": 1,
          "y1": -6,
          "yref": "y"
         },
         {
          "layer": "above",
          "line": {
           "color": "gray",
           "width": 1
          },
          "type": "line",
          "x0": 5.5,
          "x1": 10.5,
          "xref": "x",
          "y0": 1,
          "y1": -4,
          "yref": "y"
         },
         {
          "layer": "above",
          "line": {
           "color": "gray",
           "width": 1
          },
          "type": "line",
          "x0": 5.5,
          "x1": 10.5,
          "xref": "x",
          "y0": 1,
          "y1": -2,
          "yref": "y"
         },
         {
          "layer": "above",
          "line": {
           "color": "gray",
           "width": 1
          },
          "type": "line",
          "x0": 5.5,
          "x1": 10.5,
          "xref": "x",
          "y0": 1,
          "y1": 0,
          "yref": "y"
         },
         {
          "layer": "above",
          "line": {
           "color": "gray",
           "width": 1
          },
          "type": "line",
          "x0": 5.5,
          "x1": 10.5,
          "xref": "x",
          "y0": 1,
          "y1": 2,
          "yref": "y"
         },
         {
          "layer": "above",
          "line": {
           "color": "gray",
           "width": 1
          },
          "type": "line",
          "x0": 5.5,
          "x1": 10.5,
          "xref": "x",
          "y0": 1,
          "y1": 4,
          "yref": "y"
         },
         {
          "layer": "above",
          "line": {
           "color": "gray",
           "width": 1
          },
          "type": "line",
          "x0": 5.5,
          "x1": 10.5,
          "xref": "x",
          "y0": 1,
          "y1": 6,
          "yref": "y"
         },
         {
          "layer": "above",
          "line": {
           "color": "gray",
           "width": 1
          },
          "type": "line",
          "x0": 5.5,
          "x1": 10.5,
          "xref": "x",
          "y0": 1,
          "y1": 8,
          "yref": "y"
         },
         {
          "layer": "above",
          "line": {
           "color": "gray",
           "width": 1
          },
          "type": "line",
          "x0": 5.5,
          "x1": 10.5,
          "xref": "x",
          "y0": 1,
          "y1": 10,
          "yref": "y"
         },
         {
          "layer": "above",
          "line": {
           "color": "gray",
           "width": 1
          },
          "type": "line",
          "x0": 5.5,
          "x1": 10.5,
          "xref": "x",
          "y0": 3,
          "y1": -10,
          "yref": "y"
         },
         {
          "layer": "above",
          "line": {
           "color": "gray",
           "width": 1
          },
          "type": "line",
          "x0": 5.5,
          "x1": 10.5,
          "xref": "x",
          "y0": 3,
          "y1": -8,
          "yref": "y"
         },
         {
          "layer": "above",
          "line": {
           "color": "gray",
           "width": 1
          },
          "type": "line",
          "x0": 5.5,
          "x1": 10.5,
          "xref": "x",
          "y0": 3,
          "y1": -6,
          "yref": "y"
         },
         {
          "layer": "above",
          "line": {
           "color": "gray",
           "width": 1
          },
          "type": "line",
          "x0": 5.5,
          "x1": 10.5,
          "xref": "x",
          "y0": 3,
          "y1": -4,
          "yref": "y"
         },
         {
          "layer": "above",
          "line": {
           "color": "gray",
           "width": 1
          },
          "type": "line",
          "x0": 5.5,
          "x1": 10.5,
          "xref": "x",
          "y0": 3,
          "y1": -2,
          "yref": "y"
         },
         {
          "layer": "above",
          "line": {
           "color": "gray",
           "width": 1
          },
          "type": "line",
          "x0": 5.5,
          "x1": 10.5,
          "xref": "x",
          "y0": 3,
          "y1": 0,
          "yref": "y"
         },
         {
          "layer": "above",
          "line": {
           "color": "gray",
           "width": 1
          },
          "type": "line",
          "x0": 5.5,
          "x1": 10.5,
          "xref": "x",
          "y0": 3,
          "y1": 2,
          "yref": "y"
         },
         {
          "layer": "above",
          "line": {
           "color": "gray",
           "width": 1
          },
          "type": "line",
          "x0": 5.5,
          "x1": 10.5,
          "xref": "x",
          "y0": 3,
          "y1": 4,
          "yref": "y"
         },
         {
          "layer": "above",
          "line": {
           "color": "gray",
           "width": 1
          },
          "type": "line",
          "x0": 5.5,
          "x1": 10.5,
          "xref": "x",
          "y0": 3,
          "y1": 6,
          "yref": "y"
         },
         {
          "layer": "above",
          "line": {
           "color": "gray",
           "width": 1
          },
          "type": "line",
          "x0": 5.5,
          "x1": 10.5,
          "xref": "x",
          "y0": 3,
          "y1": 8,
          "yref": "y"
         },
         {
          "layer": "above",
          "line": {
           "color": "gray",
           "width": 1
          },
          "type": "line",
          "x0": 5.5,
          "x1": 10.5,
          "xref": "x",
          "y0": 3,
          "y1": 10,
          "yref": "y"
         },
         {
          "layer": "above",
          "line": {
           "color": "gray",
           "width": 1
          },
          "type": "line",
          "x0": 5.5,
          "x1": 10.5,
          "xref": "x",
          "y0": 5,
          "y1": -10,
          "yref": "y"
         },
         {
          "layer": "above",
          "line": {
           "color": "gray",
           "width": 1
          },
          "type": "line",
          "x0": 5.5,
          "x1": 10.5,
          "xref": "x",
          "y0": 5,
          "y1": -8,
          "yref": "y"
         },
         {
          "layer": "above",
          "line": {
           "color": "gray",
           "width": 1
          },
          "type": "line",
          "x0": 5.5,
          "x1": 10.5,
          "xref": "x",
          "y0": 5,
          "y1": -6,
          "yref": "y"
         },
         {
          "layer": "above",
          "line": {
           "color": "gray",
           "width": 1
          },
          "type": "line",
          "x0": 5.5,
          "x1": 10.5,
          "xref": "x",
          "y0": 5,
          "y1": -4,
          "yref": "y"
         },
         {
          "layer": "above",
          "line": {
           "color": "gray",
           "width": 1
          },
          "type": "line",
          "x0": 5.5,
          "x1": 10.5,
          "xref": "x",
          "y0": 5,
          "y1": -2,
          "yref": "y"
         },
         {
          "layer": "above",
          "line": {
           "color": "gray",
           "width": 1
          },
          "type": "line",
          "x0": 5.5,
          "x1": 10.5,
          "xref": "x",
          "y0": 5,
          "y1": 0,
          "yref": "y"
         },
         {
          "layer": "above",
          "line": {
           "color": "gray",
           "width": 1
          },
          "type": "line",
          "x0": 5.5,
          "x1": 10.5,
          "xref": "x",
          "y0": 5,
          "y1": 2,
          "yref": "y"
         },
         {
          "layer": "above",
          "line": {
           "color": "gray",
           "width": 1
          },
          "type": "line",
          "x0": 5.5,
          "x1": 10.5,
          "xref": "x",
          "y0": 5,
          "y1": 4,
          "yref": "y"
         },
         {
          "layer": "above",
          "line": {
           "color": "gray",
           "width": 1
          },
          "type": "line",
          "x0": 5.5,
          "x1": 10.5,
          "xref": "x",
          "y0": 5,
          "y1": 6,
          "yref": "y"
         },
         {
          "layer": "above",
          "line": {
           "color": "gray",
           "width": 1
          },
          "type": "line",
          "x0": 5.5,
          "x1": 10.5,
          "xref": "x",
          "y0": 5,
          "y1": 8,
          "yref": "y"
         },
         {
          "layer": "above",
          "line": {
           "color": "gray",
           "width": 1
          },
          "type": "line",
          "x0": 5.5,
          "x1": 10.5,
          "xref": "x",
          "y0": 5,
          "y1": 10,
          "yref": "y"
         },
         {
          "layer": "above",
          "line": {
           "color": "gray",
           "width": 1
          },
          "type": "line",
          "x0": 5.5,
          "x1": 10.5,
          "xref": "x",
          "y0": 7,
          "y1": -10,
          "yref": "y"
         },
         {
          "layer": "above",
          "line": {
           "color": "gray",
           "width": 1
          },
          "type": "line",
          "x0": 5.5,
          "x1": 10.5,
          "xref": "x",
          "y0": 7,
          "y1": -8,
          "yref": "y"
         },
         {
          "layer": "above",
          "line": {
           "color": "gray",
           "width": 1
          },
          "type": "line",
          "x0": 5.5,
          "x1": 10.5,
          "xref": "x",
          "y0": 7,
          "y1": -6,
          "yref": "y"
         },
         {
          "layer": "above",
          "line": {
           "color": "gray",
           "width": 1
          },
          "type": "line",
          "x0": 5.5,
          "x1": 10.5,
          "xref": "x",
          "y0": 7,
          "y1": -4,
          "yref": "y"
         },
         {
          "layer": "above",
          "line": {
           "color": "gray",
           "width": 1
          },
          "type": "line",
          "x0": 5.5,
          "x1": 10.5,
          "xref": "x",
          "y0": 7,
          "y1": -2,
          "yref": "y"
         },
         {
          "layer": "above",
          "line": {
           "color": "gray",
           "width": 1
          },
          "type": "line",
          "x0": 5.5,
          "x1": 10.5,
          "xref": "x",
          "y0": 7,
          "y1": 0,
          "yref": "y"
         },
         {
          "layer": "above",
          "line": {
           "color": "gray",
           "width": 1
          },
          "type": "line",
          "x0": 5.5,
          "x1": 10.5,
          "xref": "x",
          "y0": 7,
          "y1": 2,
          "yref": "y"
         },
         {
          "layer": "above",
          "line": {
           "color": "gray",
           "width": 1
          },
          "type": "line",
          "x0": 5.5,
          "x1": 10.5,
          "xref": "x",
          "y0": 7,
          "y1": 4,
          "yref": "y"
         },
         {
          "layer": "above",
          "line": {
           "color": "gray",
           "width": 1
          },
          "type": "line",
          "x0": 5.5,
          "x1": 10.5,
          "xref": "x",
          "y0": 7,
          "y1": 6,
          "yref": "y"
         },
         {
          "layer": "above",
          "line": {
           "color": "gray",
           "width": 1
          },
          "type": "line",
          "x0": 5.5,
          "x1": 10.5,
          "xref": "x",
          "y0": 7,
          "y1": 8,
          "yref": "y"
         },
         {
          "layer": "above",
          "line": {
           "color": "gray",
           "width": 1
          },
          "type": "line",
          "x0": 5.5,
          "x1": 10.5,
          "xref": "x",
          "y0": 7,
          "y1": 10,
          "yref": "y"
         },
         {
          "layer": "above",
          "line": {
           "color": "gray",
           "width": 1
          },
          "type": "line",
          "x0": 5.5,
          "x1": 10.5,
          "xref": "x",
          "y0": 9,
          "y1": -10,
          "yref": "y"
         },
         {
          "layer": "above",
          "line": {
           "color": "gray",
           "width": 1
          },
          "type": "line",
          "x0": 5.5,
          "x1": 10.5,
          "xref": "x",
          "y0": 9,
          "y1": -8,
          "yref": "y"
         },
         {
          "layer": "above",
          "line": {
           "color": "gray",
           "width": 1
          },
          "type": "line",
          "x0": 5.5,
          "x1": 10.5,
          "xref": "x",
          "y0": 9,
          "y1": -6,
          "yref": "y"
         },
         {
          "layer": "above",
          "line": {
           "color": "gray",
           "width": 1
          },
          "type": "line",
          "x0": 5.5,
          "x1": 10.5,
          "xref": "x",
          "y0": 9,
          "y1": -4,
          "yref": "y"
         },
         {
          "layer": "above",
          "line": {
           "color": "gray",
           "width": 1
          },
          "type": "line",
          "x0": 5.5,
          "x1": 10.5,
          "xref": "x",
          "y0": 9,
          "y1": -2,
          "yref": "y"
         },
         {
          "layer": "above",
          "line": {
           "color": "gray",
           "width": 1
          },
          "type": "line",
          "x0": 5.5,
          "x1": 10.5,
          "xref": "x",
          "y0": 9,
          "y1": 0,
          "yref": "y"
         },
         {
          "layer": "above",
          "line": {
           "color": "gray",
           "width": 1
          },
          "type": "line",
          "x0": 5.5,
          "x1": 10.5,
          "xref": "x",
          "y0": 9,
          "y1": 2,
          "yref": "y"
         },
         {
          "layer": "above",
          "line": {
           "color": "gray",
           "width": 1
          },
          "type": "line",
          "x0": 5.5,
          "x1": 10.5,
          "xref": "x",
          "y0": 9,
          "y1": 4,
          "yref": "y"
         },
         {
          "layer": "above",
          "line": {
           "color": "gray",
           "width": 1
          },
          "type": "line",
          "x0": 5.5,
          "x1": 10.5,
          "xref": "x",
          "y0": 9,
          "y1": 6,
          "yref": "y"
         },
         {
          "layer": "above",
          "line": {
           "color": "gray",
           "width": 1
          },
          "type": "line",
          "x0": 5.5,
          "x1": 10.5,
          "xref": "x",
          "y0": 9,
          "y1": 8,
          "yref": "y"
         },
         {
          "layer": "above",
          "line": {
           "color": "gray",
           "width": 1
          },
          "type": "line",
          "x0": 5.5,
          "x1": 10.5,
          "xref": "x",
          "y0": 9,
          "y1": 10,
          "yref": "y"
         },
         {
          "layer": "above",
          "line": {
           "color": "gray",
           "width": 1
          },
          "type": "line",
          "x0": 10.5,
          "x1": 15.5,
          "xref": "x",
          "y0": -10,
          "y1": -10,
          "yref": "y"
         },
         {
          "layer": "above",
          "line": {
           "color": "gray",
           "width": 1
          },
          "type": "line",
          "x0": 10.5,
          "x1": 15.5,
          "xref": "x",
          "y0": -10,
          "y1": -8,
          "yref": "y"
         },
         {
          "layer": "above",
          "line": {
           "color": "gray",
           "width": 1
          },
          "type": "line",
          "x0": 10.5,
          "x1": 15.5,
          "xref": "x",
          "y0": -10,
          "y1": -6,
          "yref": "y"
         },
         {
          "layer": "above",
          "line": {
           "color": "gray",
           "width": 1
          },
          "type": "line",
          "x0": 10.5,
          "x1": 15.5,
          "xref": "x",
          "y0": -10,
          "y1": -4,
          "yref": "y"
         },
         {
          "layer": "above",
          "line": {
           "color": "gray",
           "width": 1
          },
          "type": "line",
          "x0": 10.5,
          "x1": 15.5,
          "xref": "x",
          "y0": -10,
          "y1": -2,
          "yref": "y"
         },
         {
          "layer": "above",
          "line": {
           "color": "gray",
           "width": 1
          },
          "type": "line",
          "x0": 10.5,
          "x1": 15.5,
          "xref": "x",
          "y0": -10,
          "y1": 2,
          "yref": "y"
         },
         {
          "layer": "above",
          "line": {
           "color": "gray",
           "width": 1
          },
          "type": "line",
          "x0": 10.5,
          "x1": 15.5,
          "xref": "x",
          "y0": -10,
          "y1": 4,
          "yref": "y"
         },
         {
          "layer": "above",
          "line": {
           "color": "gray",
           "width": 1
          },
          "type": "line",
          "x0": 10.5,
          "x1": 15.5,
          "xref": "x",
          "y0": -10,
          "y1": 6,
          "yref": "y"
         },
         {
          "layer": "above",
          "line": {
           "color": "gray",
           "width": 1
          },
          "type": "line",
          "x0": 10.5,
          "x1": 15.5,
          "xref": "x",
          "y0": -10,
          "y1": 8,
          "yref": "y"
         },
         {
          "layer": "above",
          "line": {
           "color": "gray",
           "width": 1
          },
          "type": "line",
          "x0": 10.5,
          "x1": 15.5,
          "xref": "x",
          "y0": -10,
          "y1": 10,
          "yref": "y"
         },
         {
          "layer": "above",
          "line": {
           "color": "gray",
           "width": 1
          },
          "type": "line",
          "x0": 10.5,
          "x1": 15.5,
          "xref": "x",
          "y0": -8,
          "y1": -10,
          "yref": "y"
         },
         {
          "layer": "above",
          "line": {
           "color": "gray",
           "width": 1
          },
          "type": "line",
          "x0": 10.5,
          "x1": 15.5,
          "xref": "x",
          "y0": -8,
          "y1": -8,
          "yref": "y"
         },
         {
          "layer": "above",
          "line": {
           "color": "gray",
           "width": 1
          },
          "type": "line",
          "x0": 10.5,
          "x1": 15.5,
          "xref": "x",
          "y0": -8,
          "y1": -6,
          "yref": "y"
         },
         {
          "layer": "above",
          "line": {
           "color": "gray",
           "width": 1
          },
          "type": "line",
          "x0": 10.5,
          "x1": 15.5,
          "xref": "x",
          "y0": -8,
          "y1": -4,
          "yref": "y"
         },
         {
          "layer": "above",
          "line": {
           "color": "gray",
           "width": 1
          },
          "type": "line",
          "x0": 10.5,
          "x1": 15.5,
          "xref": "x",
          "y0": -8,
          "y1": -2,
          "yref": "y"
         },
         {
          "layer": "above",
          "line": {
           "color": "gray",
           "width": 1
          },
          "type": "line",
          "x0": 10.5,
          "x1": 15.5,
          "xref": "x",
          "y0": -8,
          "y1": 2,
          "yref": "y"
         },
         {
          "layer": "above",
          "line": {
           "color": "gray",
           "width": 1
          },
          "type": "line",
          "x0": 10.5,
          "x1": 15.5,
          "xref": "x",
          "y0": -8,
          "y1": 4,
          "yref": "y"
         },
         {
          "layer": "above",
          "line": {
           "color": "gray",
           "width": 1
          },
          "type": "line",
          "x0": 10.5,
          "x1": 15.5,
          "xref": "x",
          "y0": -8,
          "y1": 6,
          "yref": "y"
         },
         {
          "layer": "above",
          "line": {
           "color": "gray",
           "width": 1
          },
          "type": "line",
          "x0": 10.5,
          "x1": 15.5,
          "xref": "x",
          "y0": -8,
          "y1": 8,
          "yref": "y"
         },
         {
          "layer": "above",
          "line": {
           "color": "gray",
           "width": 1
          },
          "type": "line",
          "x0": 10.5,
          "x1": 15.5,
          "xref": "x",
          "y0": -8,
          "y1": 10,
          "yref": "y"
         },
         {
          "layer": "above",
          "line": {
           "color": "gray",
           "width": 1
          },
          "type": "line",
          "x0": 10.5,
          "x1": 15.5,
          "xref": "x",
          "y0": -6,
          "y1": -10,
          "yref": "y"
         },
         {
          "layer": "above",
          "line": {
           "color": "gray",
           "width": 1
          },
          "type": "line",
          "x0": 10.5,
          "x1": 15.5,
          "xref": "x",
          "y0": -6,
          "y1": -8,
          "yref": "y"
         },
         {
          "layer": "above",
          "line": {
           "color": "gray",
           "width": 1
          },
          "type": "line",
          "x0": 10.5,
          "x1": 15.5,
          "xref": "x",
          "y0": -6,
          "y1": -6,
          "yref": "y"
         },
         {
          "layer": "above",
          "line": {
           "color": "gray",
           "width": 1
          },
          "type": "line",
          "x0": 10.5,
          "x1": 15.5,
          "xref": "x",
          "y0": -6,
          "y1": -4,
          "yref": "y"
         },
         {
          "layer": "above",
          "line": {
           "color": "gray",
           "width": 1
          },
          "type": "line",
          "x0": 10.5,
          "x1": 15.5,
          "xref": "x",
          "y0": -6,
          "y1": -2,
          "yref": "y"
         },
         {
          "layer": "above",
          "line": {
           "color": "gray",
           "width": 1
          },
          "type": "line",
          "x0": 10.5,
          "x1": 15.5,
          "xref": "x",
          "y0": -6,
          "y1": 2,
          "yref": "y"
         },
         {
          "layer": "above",
          "line": {
           "color": "gray",
           "width": 1
          },
          "type": "line",
          "x0": 10.5,
          "x1": 15.5,
          "xref": "x",
          "y0": -6,
          "y1": 4,
          "yref": "y"
         },
         {
          "layer": "above",
          "line": {
           "color": "gray",
           "width": 1
          },
          "type": "line",
          "x0": 10.5,
          "x1": 15.5,
          "xref": "x",
          "y0": -6,
          "y1": 6,
          "yref": "y"
         },
         {
          "layer": "above",
          "line": {
           "color": "gray",
           "width": 1
          },
          "type": "line",
          "x0": 10.5,
          "x1": 15.5,
          "xref": "x",
          "y0": -6,
          "y1": 8,
          "yref": "y"
         },
         {
          "layer": "above",
          "line": {
           "color": "gray",
           "width": 1
          },
          "type": "line",
          "x0": 10.5,
          "x1": 15.5,
          "xref": "x",
          "y0": -6,
          "y1": 10,
          "yref": "y"
         },
         {
          "layer": "above",
          "line": {
           "color": "gray",
           "width": 1
          },
          "type": "line",
          "x0": 10.5,
          "x1": 15.5,
          "xref": "x",
          "y0": -4,
          "y1": -10,
          "yref": "y"
         },
         {
          "layer": "above",
          "line": {
           "color": "gray",
           "width": 1
          },
          "type": "line",
          "x0": 10.5,
          "x1": 15.5,
          "xref": "x",
          "y0": -4,
          "y1": -8,
          "yref": "y"
         },
         {
          "layer": "above",
          "line": {
           "color": "gray",
           "width": 1
          },
          "type": "line",
          "x0": 10.5,
          "x1": 15.5,
          "xref": "x",
          "y0": -4,
          "y1": -6,
          "yref": "y"
         },
         {
          "layer": "above",
          "line": {
           "color": "gray",
           "width": 1
          },
          "type": "line",
          "x0": 10.5,
          "x1": 15.5,
          "xref": "x",
          "y0": -4,
          "y1": -4,
          "yref": "y"
         },
         {
          "layer": "above",
          "line": {
           "color": "gray",
           "width": 1
          },
          "type": "line",
          "x0": 10.5,
          "x1": 15.5,
          "xref": "x",
          "y0": -4,
          "y1": -2,
          "yref": "y"
         },
         {
          "layer": "above",
          "line": {
           "color": "gray",
           "width": 1
          },
          "type": "line",
          "x0": 10.5,
          "x1": 15.5,
          "xref": "x",
          "y0": -4,
          "y1": 2,
          "yref": "y"
         },
         {
          "layer": "above",
          "line": {
           "color": "gray",
           "width": 1
          },
          "type": "line",
          "x0": 10.5,
          "x1": 15.5,
          "xref": "x",
          "y0": -4,
          "y1": 4,
          "yref": "y"
         },
         {
          "layer": "above",
          "line": {
           "color": "gray",
           "width": 1
          },
          "type": "line",
          "x0": 10.5,
          "x1": 15.5,
          "xref": "x",
          "y0": -4,
          "y1": 6,
          "yref": "y"
         },
         {
          "layer": "above",
          "line": {
           "color": "gray",
           "width": 1
          },
          "type": "line",
          "x0": 10.5,
          "x1": 15.5,
          "xref": "x",
          "y0": -4,
          "y1": 8,
          "yref": "y"
         },
         {
          "layer": "above",
          "line": {
           "color": "gray",
           "width": 1
          },
          "type": "line",
          "x0": 10.5,
          "x1": 15.5,
          "xref": "x",
          "y0": -4,
          "y1": 10,
          "yref": "y"
         },
         {
          "layer": "above",
          "line": {
           "color": "gray",
           "width": 1
          },
          "type": "line",
          "x0": 10.5,
          "x1": 15.5,
          "xref": "x",
          "y0": -2,
          "y1": -10,
          "yref": "y"
         },
         {
          "layer": "above",
          "line": {
           "color": "gray",
           "width": 1
          },
          "type": "line",
          "x0": 10.5,
          "x1": 15.5,
          "xref": "x",
          "y0": -2,
          "y1": -8,
          "yref": "y"
         },
         {
          "layer": "above",
          "line": {
           "color": "gray",
           "width": 1
          },
          "type": "line",
          "x0": 10.5,
          "x1": 15.5,
          "xref": "x",
          "y0": -2,
          "y1": -6,
          "yref": "y"
         },
         {
          "layer": "above",
          "line": {
           "color": "gray",
           "width": 1
          },
          "type": "line",
          "x0": 10.5,
          "x1": 15.5,
          "xref": "x",
          "y0": -2,
          "y1": -4,
          "yref": "y"
         },
         {
          "layer": "above",
          "line": {
           "color": "gray",
           "width": 1
          },
          "type": "line",
          "x0": 10.5,
          "x1": 15.5,
          "xref": "x",
          "y0": -2,
          "y1": -2,
          "yref": "y"
         },
         {
          "layer": "above",
          "line": {
           "color": "gray",
           "width": 1
          },
          "type": "line",
          "x0": 10.5,
          "x1": 15.5,
          "xref": "x",
          "y0": -2,
          "y1": 2,
          "yref": "y"
         },
         {
          "layer": "above",
          "line": {
           "color": "gray",
           "width": 1
          },
          "type": "line",
          "x0": 10.5,
          "x1": 15.5,
          "xref": "x",
          "y0": -2,
          "y1": 4,
          "yref": "y"
         },
         {
          "layer": "above",
          "line": {
           "color": "gray",
           "width": 1
          },
          "type": "line",
          "x0": 10.5,
          "x1": 15.5,
          "xref": "x",
          "y0": -2,
          "y1": 6,
          "yref": "y"
         },
         {
          "layer": "above",
          "line": {
           "color": "gray",
           "width": 1
          },
          "type": "line",
          "x0": 10.5,
          "x1": 15.5,
          "xref": "x",
          "y0": -2,
          "y1": 8,
          "yref": "y"
         },
         {
          "layer": "above",
          "line": {
           "color": "gray",
           "width": 1
          },
          "type": "line",
          "x0": 10.5,
          "x1": 15.5,
          "xref": "x",
          "y0": -2,
          "y1": 10,
          "yref": "y"
         },
         {
          "layer": "above",
          "line": {
           "color": "gray",
           "width": 1
          },
          "type": "line",
          "x0": 10.5,
          "x1": 15.5,
          "xref": "x",
          "y0": 0,
          "y1": -10,
          "yref": "y"
         },
         {
          "layer": "above",
          "line": {
           "color": "gray",
           "width": 1
          },
          "type": "line",
          "x0": 10.5,
          "x1": 15.5,
          "xref": "x",
          "y0": 0,
          "y1": -8,
          "yref": "y"
         },
         {
          "layer": "above",
          "line": {
           "color": "gray",
           "width": 1
          },
          "type": "line",
          "x0": 10.5,
          "x1": 15.5,
          "xref": "x",
          "y0": 0,
          "y1": -6,
          "yref": "y"
         },
         {
          "layer": "above",
          "line": {
           "color": "gray",
           "width": 1
          },
          "type": "line",
          "x0": 10.5,
          "x1": 15.5,
          "xref": "x",
          "y0": 0,
          "y1": -4,
          "yref": "y"
         },
         {
          "layer": "above",
          "line": {
           "color": "gray",
           "width": 1
          },
          "type": "line",
          "x0": 10.5,
          "x1": 15.5,
          "xref": "x",
          "y0": 0,
          "y1": -2,
          "yref": "y"
         },
         {
          "layer": "above",
          "line": {
           "color": "gray",
           "width": 1
          },
          "type": "line",
          "x0": 10.5,
          "x1": 15.5,
          "xref": "x",
          "y0": 0,
          "y1": 2,
          "yref": "y"
         },
         {
          "layer": "above",
          "line": {
           "color": "gray",
           "width": 1
          },
          "type": "line",
          "x0": 10.5,
          "x1": 15.5,
          "xref": "x",
          "y0": 0,
          "y1": 4,
          "yref": "y"
         },
         {
          "layer": "above",
          "line": {
           "color": "gray",
           "width": 1
          },
          "type": "line",
          "x0": 10.5,
          "x1": 15.5,
          "xref": "x",
          "y0": 0,
          "y1": 6,
          "yref": "y"
         },
         {
          "layer": "above",
          "line": {
           "color": "gray",
           "width": 1
          },
          "type": "line",
          "x0": 10.5,
          "x1": 15.5,
          "xref": "x",
          "y0": 0,
          "y1": 8,
          "yref": "y"
         },
         {
          "layer": "above",
          "line": {
           "color": "gray",
           "width": 1
          },
          "type": "line",
          "x0": 10.5,
          "x1": 15.5,
          "xref": "x",
          "y0": 0,
          "y1": 10,
          "yref": "y"
         },
         {
          "layer": "above",
          "line": {
           "color": "gray",
           "width": 1
          },
          "type": "line",
          "x0": 10.5,
          "x1": 15.5,
          "xref": "x",
          "y0": 2,
          "y1": -10,
          "yref": "y"
         },
         {
          "layer": "above",
          "line": {
           "color": "gray",
           "width": 1
          },
          "type": "line",
          "x0": 10.5,
          "x1": 15.5,
          "xref": "x",
          "y0": 2,
          "y1": -8,
          "yref": "y"
         },
         {
          "layer": "above",
          "line": {
           "color": "gray",
           "width": 1
          },
          "type": "line",
          "x0": 10.5,
          "x1": 15.5,
          "xref": "x",
          "y0": 2,
          "y1": -6,
          "yref": "y"
         },
         {
          "layer": "above",
          "line": {
           "color": "gray",
           "width": 1
          },
          "type": "line",
          "x0": 10.5,
          "x1": 15.5,
          "xref": "x",
          "y0": 2,
          "y1": -4,
          "yref": "y"
         },
         {
          "layer": "above",
          "line": {
           "color": "gray",
           "width": 1
          },
          "type": "line",
          "x0": 10.5,
          "x1": 15.5,
          "xref": "x",
          "y0": 2,
          "y1": -2,
          "yref": "y"
         },
         {
          "layer": "above",
          "line": {
           "color": "gray",
           "width": 1
          },
          "type": "line",
          "x0": 10.5,
          "x1": 15.5,
          "xref": "x",
          "y0": 2,
          "y1": 2,
          "yref": "y"
         },
         {
          "layer": "above",
          "line": {
           "color": "gray",
           "width": 1
          },
          "type": "line",
          "x0": 10.5,
          "x1": 15.5,
          "xref": "x",
          "y0": 2,
          "y1": 4,
          "yref": "y"
         },
         {
          "layer": "above",
          "line": {
           "color": "gray",
           "width": 1
          },
          "type": "line",
          "x0": 10.5,
          "x1": 15.5,
          "xref": "x",
          "y0": 2,
          "y1": 6,
          "yref": "y"
         },
         {
          "layer": "above",
          "line": {
           "color": "gray",
           "width": 1
          },
          "type": "line",
          "x0": 10.5,
          "x1": 15.5,
          "xref": "x",
          "y0": 2,
          "y1": 8,
          "yref": "y"
         },
         {
          "layer": "above",
          "line": {
           "color": "gray",
           "width": 1
          },
          "type": "line",
          "x0": 10.5,
          "x1": 15.5,
          "xref": "x",
          "y0": 2,
          "y1": 10,
          "yref": "y"
         },
         {
          "layer": "above",
          "line": {
           "color": "gray",
           "width": 1
          },
          "type": "line",
          "x0": 10.5,
          "x1": 15.5,
          "xref": "x",
          "y0": 4,
          "y1": -10,
          "yref": "y"
         },
         {
          "layer": "above",
          "line": {
           "color": "gray",
           "width": 1
          },
          "type": "line",
          "x0": 10.5,
          "x1": 15.5,
          "xref": "x",
          "y0": 4,
          "y1": -8,
          "yref": "y"
         },
         {
          "layer": "above",
          "line": {
           "color": "gray",
           "width": 1
          },
          "type": "line",
          "x0": 10.5,
          "x1": 15.5,
          "xref": "x",
          "y0": 4,
          "y1": -6,
          "yref": "y"
         },
         {
          "layer": "above",
          "line": {
           "color": "gray",
           "width": 1
          },
          "type": "line",
          "x0": 10.5,
          "x1": 15.5,
          "xref": "x",
          "y0": 4,
          "y1": -4,
          "yref": "y"
         },
         {
          "layer": "above",
          "line": {
           "color": "gray",
           "width": 1
          },
          "type": "line",
          "x0": 10.5,
          "x1": 15.5,
          "xref": "x",
          "y0": 4,
          "y1": -2,
          "yref": "y"
         },
         {
          "layer": "above",
          "line": {
           "color": "gray",
           "width": 1
          },
          "type": "line",
          "x0": 10.5,
          "x1": 15.5,
          "xref": "x",
          "y0": 4,
          "y1": 2,
          "yref": "y"
         },
         {
          "layer": "above",
          "line": {
           "color": "gray",
           "width": 1
          },
          "type": "line",
          "x0": 10.5,
          "x1": 15.5,
          "xref": "x",
          "y0": 4,
          "y1": 4,
          "yref": "y"
         },
         {
          "layer": "above",
          "line": {
           "color": "gray",
           "width": 1
          },
          "type": "line",
          "x0": 10.5,
          "x1": 15.5,
          "xref": "x",
          "y0": 4,
          "y1": 6,
          "yref": "y"
         },
         {
          "layer": "above",
          "line": {
           "color": "gray",
           "width": 1
          },
          "type": "line",
          "x0": 10.5,
          "x1": 15.5,
          "xref": "x",
          "y0": 4,
          "y1": 8,
          "yref": "y"
         },
         {
          "layer": "above",
          "line": {
           "color": "gray",
           "width": 1
          },
          "type": "line",
          "x0": 10.5,
          "x1": 15.5,
          "xref": "x",
          "y0": 4,
          "y1": 10,
          "yref": "y"
         },
         {
          "layer": "above",
          "line": {
           "color": "gray",
           "width": 1
          },
          "type": "line",
          "x0": 10.5,
          "x1": 15.5,
          "xref": "x",
          "y0": 6,
          "y1": -10,
          "yref": "y"
         },
         {
          "layer": "above",
          "line": {
           "color": "gray",
           "width": 1
          },
          "type": "line",
          "x0": 10.5,
          "x1": 15.5,
          "xref": "x",
          "y0": 6,
          "y1": -8,
          "yref": "y"
         },
         {
          "layer": "above",
          "line": {
           "color": "gray",
           "width": 1
          },
          "type": "line",
          "x0": 10.5,
          "x1": 15.5,
          "xref": "x",
          "y0": 6,
          "y1": -6,
          "yref": "y"
         },
         {
          "layer": "above",
          "line": {
           "color": "gray",
           "width": 1
          },
          "type": "line",
          "x0": 10.5,
          "x1": 15.5,
          "xref": "x",
          "y0": 6,
          "y1": -4,
          "yref": "y"
         },
         {
          "layer": "above",
          "line": {
           "color": "gray",
           "width": 1
          },
          "type": "line",
          "x0": 10.5,
          "x1": 15.5,
          "xref": "x",
          "y0": 6,
          "y1": -2,
          "yref": "y"
         },
         {
          "layer": "above",
          "line": {
           "color": "gray",
           "width": 1
          },
          "type": "line",
          "x0": 10.5,
          "x1": 15.5,
          "xref": "x",
          "y0": 6,
          "y1": 2,
          "yref": "y"
         },
         {
          "layer": "above",
          "line": {
           "color": "gray",
           "width": 1
          },
          "type": "line",
          "x0": 10.5,
          "x1": 15.5,
          "xref": "x",
          "y0": 6,
          "y1": 4,
          "yref": "y"
         },
         {
          "layer": "above",
          "line": {
           "color": "gray",
           "width": 1
          },
          "type": "line",
          "x0": 10.5,
          "x1": 15.5,
          "xref": "x",
          "y0": 6,
          "y1": 6,
          "yref": "y"
         },
         {
          "layer": "above",
          "line": {
           "color": "gray",
           "width": 1
          },
          "type": "line",
          "x0": 10.5,
          "x1": 15.5,
          "xref": "x",
          "y0": 6,
          "y1": 8,
          "yref": "y"
         },
         {
          "layer": "above",
          "line": {
           "color": "gray",
           "width": 1
          },
          "type": "line",
          "x0": 10.5,
          "x1": 15.5,
          "xref": "x",
          "y0": 6,
          "y1": 10,
          "yref": "y"
         },
         {
          "layer": "above",
          "line": {
           "color": "gray",
           "width": 1
          },
          "type": "line",
          "x0": 10.5,
          "x1": 15.5,
          "xref": "x",
          "y0": 8,
          "y1": -10,
          "yref": "y"
         },
         {
          "layer": "above",
          "line": {
           "color": "gray",
           "width": 1
          },
          "type": "line",
          "x0": 10.5,
          "x1": 15.5,
          "xref": "x",
          "y0": 8,
          "y1": -8,
          "yref": "y"
         },
         {
          "layer": "above",
          "line": {
           "color": "gray",
           "width": 1
          },
          "type": "line",
          "x0": 10.5,
          "x1": 15.5,
          "xref": "x",
          "y0": 8,
          "y1": -6,
          "yref": "y"
         },
         {
          "layer": "above",
          "line": {
           "color": "gray",
           "width": 1
          },
          "type": "line",
          "x0": 10.5,
          "x1": 15.5,
          "xref": "x",
          "y0": 8,
          "y1": -4,
          "yref": "y"
         },
         {
          "layer": "above",
          "line": {
           "color": "gray",
           "width": 1
          },
          "type": "line",
          "x0": 10.5,
          "x1": 15.5,
          "xref": "x",
          "y0": 8,
          "y1": -2,
          "yref": "y"
         },
         {
          "layer": "above",
          "line": {
           "color": "gray",
           "width": 1
          },
          "type": "line",
          "x0": 10.5,
          "x1": 15.5,
          "xref": "x",
          "y0": 8,
          "y1": 2,
          "yref": "y"
         },
         {
          "layer": "above",
          "line": {
           "color": "gray",
           "width": 1
          },
          "type": "line",
          "x0": 10.5,
          "x1": 15.5,
          "xref": "x",
          "y0": 8,
          "y1": 4,
          "yref": "y"
         },
         {
          "layer": "above",
          "line": {
           "color": "gray",
           "width": 1
          },
          "type": "line",
          "x0": 10.5,
          "x1": 15.5,
          "xref": "x",
          "y0": 8,
          "y1": 6,
          "yref": "y"
         },
         {
          "layer": "above",
          "line": {
           "color": "gray",
           "width": 1
          },
          "type": "line",
          "x0": 10.5,
          "x1": 15.5,
          "xref": "x",
          "y0": 8,
          "y1": 8,
          "yref": "y"
         },
         {
          "layer": "above",
          "line": {
           "color": "gray",
           "width": 1
          },
          "type": "line",
          "x0": 10.5,
          "x1": 15.5,
          "xref": "x",
          "y0": 8,
          "y1": 10,
          "yref": "y"
         },
         {
          "layer": "above",
          "line": {
           "color": "gray",
           "width": 1
          },
          "type": "line",
          "x0": 10.5,
          "x1": 15.5,
          "xref": "x",
          "y0": 10,
          "y1": -10,
          "yref": "y"
         },
         {
          "layer": "above",
          "line": {
           "color": "gray",
           "width": 1
          },
          "type": "line",
          "x0": 10.5,
          "x1": 15.5,
          "xref": "x",
          "y0": 10,
          "y1": -8,
          "yref": "y"
         },
         {
          "layer": "above",
          "line": {
           "color": "gray",
           "width": 1
          },
          "type": "line",
          "x0": 10.5,
          "x1": 15.5,
          "xref": "x",
          "y0": 10,
          "y1": -6,
          "yref": "y"
         },
         {
          "layer": "above",
          "line": {
           "color": "gray",
           "width": 1
          },
          "type": "line",
          "x0": 10.5,
          "x1": 15.5,
          "xref": "x",
          "y0": 10,
          "y1": -4,
          "yref": "y"
         },
         {
          "layer": "above",
          "line": {
           "color": "gray",
           "width": 1
          },
          "type": "line",
          "x0": 10.5,
          "x1": 15.5,
          "xref": "x",
          "y0": 10,
          "y1": -2,
          "yref": "y"
         },
         {
          "layer": "above",
          "line": {
           "color": "gray",
           "width": 1
          },
          "type": "line",
          "x0": 10.5,
          "x1": 15.5,
          "xref": "x",
          "y0": 10,
          "y1": 2,
          "yref": "y"
         },
         {
          "layer": "above",
          "line": {
           "color": "gray",
           "width": 1
          },
          "type": "line",
          "x0": 10.5,
          "x1": 15.5,
          "xref": "x",
          "y0": 10,
          "y1": 4,
          "yref": "y"
         },
         {
          "layer": "above",
          "line": {
           "color": "gray",
           "width": 1
          },
          "type": "line",
          "x0": 10.5,
          "x1": 15.5,
          "xref": "x",
          "y0": 10,
          "y1": 6,
          "yref": "y"
         },
         {
          "layer": "above",
          "line": {
           "color": "gray",
           "width": 1
          },
          "type": "line",
          "x0": 10.5,
          "x1": 15.5,
          "xref": "x",
          "y0": 10,
          "y1": 8,
          "yref": "y"
         },
         {
          "layer": "above",
          "line": {
           "color": "gray",
           "width": 1
          },
          "type": "line",
          "x0": 10.5,
          "x1": 15.5,
          "xref": "x",
          "y0": 10,
          "y1": 10,
          "yref": "y"
         },
         {
          "layer": "above",
          "line": {
           "color": "gray",
           "width": 1
          },
          "type": "line",
          "x0": 15.5,
          "x1": 20.5,
          "xref": "x",
          "y0": -10,
          "y1": 0,
          "yref": "y"
         },
         {
          "layer": "above",
          "line": {
           "color": "gray",
           "width": 1
          },
          "type": "line",
          "x0": 15.5,
          "x1": 20.5,
          "xref": "x",
          "y0": -8,
          "y1": 0,
          "yref": "y"
         },
         {
          "layer": "above",
          "line": {
           "color": "gray",
           "width": 1
          },
          "type": "line",
          "x0": 15.5,
          "x1": 20.5,
          "xref": "x",
          "y0": -6,
          "y1": 0,
          "yref": "y"
         },
         {
          "layer": "above",
          "line": {
           "color": "gray",
           "width": 1
          },
          "type": "line",
          "x0": 15.5,
          "x1": 20.5,
          "xref": "x",
          "y0": -4,
          "y1": 0,
          "yref": "y"
         },
         {
          "layer": "above",
          "line": {
           "color": "gray",
           "width": 1
          },
          "type": "line",
          "x0": 15.5,
          "x1": 20.5,
          "xref": "x",
          "y0": -2,
          "y1": 0,
          "yref": "y"
         },
         {
          "layer": "above",
          "line": {
           "color": "gray",
           "width": 1
          },
          "type": "line",
          "x0": 15.5,
          "x1": 20.5,
          "xref": "x",
          "y0": 2,
          "y1": 0,
          "yref": "y"
         },
         {
          "layer": "above",
          "line": {
           "color": "gray",
           "width": 1
          },
          "type": "line",
          "x0": 15.5,
          "x1": 20.5,
          "xref": "x",
          "y0": 4,
          "y1": 0,
          "yref": "y"
         },
         {
          "layer": "above",
          "line": {
           "color": "gray",
           "width": 1
          },
          "type": "line",
          "x0": 15.5,
          "x1": 20.5,
          "xref": "x",
          "y0": 6,
          "y1": 0,
          "yref": "y"
         },
         {
          "layer": "above",
          "line": {
           "color": "gray",
           "width": 1
          },
          "type": "line",
          "x0": 15.5,
          "x1": 20.5,
          "xref": "x",
          "y0": 8,
          "y1": 0,
          "yref": "y"
         },
         {
          "layer": "above",
          "line": {
           "color": "gray",
           "width": 1
          },
          "type": "line",
          "x0": 15.5,
          "x1": 20.5,
          "xref": "x",
          "y0": 10,
          "y1": 0,
          "yref": "y"
         },
         {
          "fillcolor": "rgba(0,200,0,1)",
          "layer": "above",
          "type": "circle",
          "x0": 0,
          "x1": 1,
          "xref": "x",
          "y0": -2.5,
          "y1": -1.5,
          "yref": "y"
         },
         {
          "fillcolor": "rgba(0,200,0,1)",
          "layer": "above",
          "type": "circle",
          "x0": 0,
          "x1": 1,
          "xref": "x",
          "y0": -0.5,
          "y1": 0.5,
          "yref": "y"
         },
         {
          "fillcolor": "rgba(0,200,0,1)",
          "layer": "above",
          "type": "circle",
          "x0": 0,
          "x1": 1,
          "xref": "x",
          "y0": 1.5,
          "y1": 2.5,
          "yref": "y"
         },
         {
          "fillcolor": "rgba(0,200,0,1)",
          "layer": "above",
          "type": "circle",
          "x0": 5,
          "x1": 6,
          "xref": "x",
          "y0": -9.5,
          "y1": -8.5,
          "yref": "y"
         },
         {
          "fillcolor": "rgba(0,200,0,1)",
          "layer": "above",
          "type": "circle",
          "x0": 5,
          "x1": 6,
          "xref": "x",
          "y0": -7.5,
          "y1": -6.5,
          "yref": "y"
         },
         {
          "fillcolor": "rgba(0,200,0,1)",
          "layer": "above",
          "type": "circle",
          "x0": 5,
          "x1": 6,
          "xref": "x",
          "y0": -5.5,
          "y1": -4.5,
          "yref": "y"
         },
         {
          "fillcolor": "rgba(0,200,0,1)",
          "layer": "above",
          "type": "circle",
          "x0": 5,
          "x1": 6,
          "xref": "x",
          "y0": -3.5,
          "y1": -2.5,
          "yref": "y"
         },
         {
          "fillcolor": "rgba(0,200,0,1)",
          "layer": "above",
          "type": "circle",
          "x0": 5,
          "x1": 6,
          "xref": "x",
          "y0": -1.5,
          "y1": -0.5,
          "yref": "y"
         },
         {
          "fillcolor": "rgba(0,200,0,1)",
          "layer": "above",
          "type": "circle",
          "x0": 5,
          "x1": 6,
          "xref": "x",
          "y0": 0.5,
          "y1": 1.5,
          "yref": "y"
         },
         {
          "fillcolor": "rgba(0,200,0,1)",
          "layer": "above",
          "type": "circle",
          "x0": 5,
          "x1": 6,
          "xref": "x",
          "y0": 2.5,
          "y1": 3.5,
          "yref": "y"
         },
         {
          "fillcolor": "rgba(0,200,0,1)",
          "layer": "above",
          "type": "circle",
          "x0": 5,
          "x1": 6,
          "xref": "x",
          "y0": 4.5,
          "y1": 5.5,
          "yref": "y"
         },
         {
          "fillcolor": "rgba(0,200,0,1)",
          "layer": "above",
          "type": "circle",
          "x0": 5,
          "x1": 6,
          "xref": "x",
          "y0": 6.5,
          "y1": 7.5,
          "yref": "y"
         },
         {
          "fillcolor": "rgba(0,200,0,1)",
          "layer": "above",
          "type": "circle",
          "x0": 5,
          "x1": 6,
          "xref": "x",
          "y0": 8.5,
          "y1": 9.5,
          "yref": "y"
         },
         {
          "fillcolor": "rgba(0,200,0,1)",
          "layer": "above",
          "type": "circle",
          "x0": 10,
          "x1": 11,
          "xref": "x",
          "y0": -10.5,
          "y1": -9.5,
          "yref": "y"
         },
         {
          "fillcolor": "rgba(0,200,0,1)",
          "layer": "above",
          "type": "circle",
          "x0": 10,
          "x1": 11,
          "xref": "x",
          "y0": -8.5,
          "y1": -7.5,
          "yref": "y"
         },
         {
          "fillcolor": "rgba(0,200,0,1)",
          "layer": "above",
          "type": "circle",
          "x0": 10,
          "x1": 11,
          "xref": "x",
          "y0": -6.5,
          "y1": -5.5,
          "yref": "y"
         },
         {
          "fillcolor": "rgba(0,200,0,1)",
          "layer": "above",
          "type": "circle",
          "x0": 10,
          "x1": 11,
          "xref": "x",
          "y0": -4.5,
          "y1": -3.5,
          "yref": "y"
         },
         {
          "fillcolor": "rgba(0,200,0,1)",
          "layer": "above",
          "type": "circle",
          "x0": 10,
          "x1": 11,
          "xref": "x",
          "y0": -2.5,
          "y1": -1.5,
          "yref": "y"
         },
         {
          "fillcolor": "rgba(0,200,0,1)",
          "layer": "above",
          "type": "circle",
          "x0": 10,
          "x1": 11,
          "xref": "x",
          "y0": -0.5,
          "y1": 0.5,
          "yref": "y"
         },
         {
          "fillcolor": "rgba(0,200,0,1)",
          "layer": "above",
          "type": "circle",
          "x0": 10,
          "x1": 11,
          "xref": "x",
          "y0": 1.5,
          "y1": 2.5,
          "yref": "y"
         },
         {
          "fillcolor": "rgba(0,200,0,1)",
          "layer": "above",
          "type": "circle",
          "x0": 10,
          "x1": 11,
          "xref": "x",
          "y0": 3.5,
          "y1": 4.5,
          "yref": "y"
         },
         {
          "fillcolor": "rgba(0,200,0,1)",
          "layer": "above",
          "type": "circle",
          "x0": 10,
          "x1": 11,
          "xref": "x",
          "y0": 5.5,
          "y1": 6.5,
          "yref": "y"
         },
         {
          "fillcolor": "rgba(0,200,0,1)",
          "layer": "above",
          "type": "circle",
          "x0": 10,
          "x1": 11,
          "xref": "x",
          "y0": 7.5,
          "y1": 8.5,
          "yref": "y"
         },
         {
          "fillcolor": "rgba(0,200,0,1)",
          "layer": "above",
          "type": "circle",
          "x0": 10,
          "x1": 11,
          "xref": "x",
          "y0": 9.5,
          "y1": 10.5,
          "yref": "y"
         },
         {
          "fillcolor": "rgba(0,200,0,1)",
          "layer": "above",
          "type": "circle",
          "x0": 15,
          "x1": 16,
          "xref": "x",
          "y0": -10.5,
          "y1": -9.5,
          "yref": "y"
         },
         {
          "fillcolor": "rgba(0,200,0,1)",
          "layer": "above",
          "type": "circle",
          "x0": 15,
          "x1": 16,
          "xref": "x",
          "y0": -8.5,
          "y1": -7.5,
          "yref": "y"
         },
         {
          "fillcolor": "rgba(0,200,0,1)",
          "layer": "above",
          "type": "circle",
          "x0": 15,
          "x1": 16,
          "xref": "x",
          "y0": -6.5,
          "y1": -5.5,
          "yref": "y"
         },
         {
          "fillcolor": "rgba(0,200,0,1)",
          "layer": "above",
          "type": "circle",
          "x0": 15,
          "x1": 16,
          "xref": "x",
          "y0": -4.5,
          "y1": -3.5,
          "yref": "y"
         },
         {
          "fillcolor": "rgba(0,200,0,1)",
          "layer": "above",
          "type": "circle",
          "x0": 15,
          "x1": 16,
          "xref": "x",
          "y0": -2.5,
          "y1": -1.5,
          "yref": "y"
         },
         {
          "fillcolor": "rgba(50,50,50,1)",
          "layer": "above",
          "type": "circle",
          "x0": 15.4,
          "x1": 15.6,
          "xref": "x",
          "y0": -0.85,
          "y1": -0.65,
          "yref": "y"
         },
         {
          "fillcolor": "rgba(50,50,50,1)",
          "layer": "above",
          "type": "circle",
          "x0": 15.4,
          "x1": 15.6,
          "xref": "x",
          "y0": -0.1,
          "y1": 0.1,
          "yref": "y"
         },
         {
          "fillcolor": "rgba(50,50,50,1)",
          "layer": "above",
          "type": "circle",
          "x0": 15.4,
          "x1": 15.6,
          "xref": "x",
          "y0": 0.65,
          "y1": 0.85,
          "yref": "y"
         },
         {
          "fillcolor": "rgba(0,200,0,1)",
          "layer": "above",
          "type": "circle",
          "x0": 15,
          "x1": 16,
          "xref": "x",
          "y0": 1.5,
          "y1": 2.5,
          "yref": "y"
         },
         {
          "fillcolor": "rgba(0,200,0,1)",
          "layer": "above",
          "type": "circle",
          "x0": 15,
          "x1": 16,
          "xref": "x",
          "y0": 3.5,
          "y1": 4.5,
          "yref": "y"
         },
         {
          "fillcolor": "rgba(0,200,0,1)",
          "layer": "above",
          "type": "circle",
          "x0": 15,
          "x1": 16,
          "xref": "x",
          "y0": 5.5,
          "y1": 6.5,
          "yref": "y"
         },
         {
          "fillcolor": "rgba(0,200,0,1)",
          "layer": "above",
          "type": "circle",
          "x0": 15,
          "x1": 16,
          "xref": "x",
          "y0": 7.5,
          "y1": 8.5,
          "yref": "y"
         },
         {
          "fillcolor": "rgba(0,200,0,1)",
          "layer": "above",
          "type": "circle",
          "x0": 15,
          "x1": 16,
          "xref": "x",
          "y0": 9.5,
          "y1": 10.5,
          "yref": "y"
         },
         {
          "fillcolor": "rgba(0,200,0,1)",
          "layer": "above",
          "type": "circle",
          "x0": 20,
          "x1": 21,
          "xref": "x",
          "y0": -0.5,
          "y1": 0.5,
          "yref": "y"
         }
        ],
        "template": {
         "data": {
          "bar": [
           {
            "error_x": {
             "color": "#2a3f5f"
            },
            "error_y": {
             "color": "#2a3f5f"
            },
            "marker": {
             "line": {
              "color": "#E5ECF6",
              "width": 0.5
             },
             "pattern": {
              "fillmode": "overlay",
              "size": 10,
              "solidity": 0.2
             }
            },
            "type": "bar"
           }
          ],
          "barpolar": [
           {
            "marker": {
             "line": {
              "color": "#E5ECF6",
              "width": 0.5
             },
             "pattern": {
              "fillmode": "overlay",
              "size": 10,
              "solidity": 0.2
             }
            },
            "type": "barpolar"
           }
          ],
          "carpet": [
           {
            "aaxis": {
             "endlinecolor": "#2a3f5f",
             "gridcolor": "white",
             "linecolor": "white",
             "minorgridcolor": "white",
             "startlinecolor": "#2a3f5f"
            },
            "baxis": {
             "endlinecolor": "#2a3f5f",
             "gridcolor": "white",
             "linecolor": "white",
             "minorgridcolor": "white",
             "startlinecolor": "#2a3f5f"
            },
            "type": "carpet"
           }
          ],
          "choropleth": [
           {
            "colorbar": {
             "outlinewidth": 0,
             "ticks": ""
            },
            "type": "choropleth"
           }
          ],
          "contour": [
           {
            "colorbar": {
             "outlinewidth": 0,
             "ticks": ""
            },
            "colorscale": [
             [
              0,
              "#0d0887"
             ],
             [
              0.1111111111111111,
              "#46039f"
             ],
             [
              0.2222222222222222,
              "#7201a8"
             ],
             [
              0.3333333333333333,
              "#9c179e"
             ],
             [
              0.4444444444444444,
              "#bd3786"
             ],
             [
              0.5555555555555556,
              "#d8576b"
             ],
             [
              0.6666666666666666,
              "#ed7953"
             ],
             [
              0.7777777777777778,
              "#fb9f3a"
             ],
             [
              0.8888888888888888,
              "#fdca26"
             ],
             [
              1,
              "#f0f921"
             ]
            ],
            "type": "contour"
           }
          ],
          "contourcarpet": [
           {
            "colorbar": {
             "outlinewidth": 0,
             "ticks": ""
            },
            "type": "contourcarpet"
           }
          ],
          "heatmap": [
           {
            "colorbar": {
             "outlinewidth": 0,
             "ticks": ""
            },
            "colorscale": [
             [
              0,
              "#0d0887"
             ],
             [
              0.1111111111111111,
              "#46039f"
             ],
             [
              0.2222222222222222,
              "#7201a8"
             ],
             [
              0.3333333333333333,
              "#9c179e"
             ],
             [
              0.4444444444444444,
              "#bd3786"
             ],
             [
              0.5555555555555556,
              "#d8576b"
             ],
             [
              0.6666666666666666,
              "#ed7953"
             ],
             [
              0.7777777777777778,
              "#fb9f3a"
             ],
             [
              0.8888888888888888,
              "#fdca26"
             ],
             [
              1,
              "#f0f921"
             ]
            ],
            "type": "heatmap"
           }
          ],
          "heatmapgl": [
           {
            "colorbar": {
             "outlinewidth": 0,
             "ticks": ""
            },
            "colorscale": [
             [
              0,
              "#0d0887"
             ],
             [
              0.1111111111111111,
              "#46039f"
             ],
             [
              0.2222222222222222,
              "#7201a8"
             ],
             [
              0.3333333333333333,
              "#9c179e"
             ],
             [
              0.4444444444444444,
              "#bd3786"
             ],
             [
              0.5555555555555556,
              "#d8576b"
             ],
             [
              0.6666666666666666,
              "#ed7953"
             ],
             [
              0.7777777777777778,
              "#fb9f3a"
             ],
             [
              0.8888888888888888,
              "#fdca26"
             ],
             [
              1,
              "#f0f921"
             ]
            ],
            "type": "heatmapgl"
           }
          ],
          "histogram": [
           {
            "marker": {
             "pattern": {
              "fillmode": "overlay",
              "size": 10,
              "solidity": 0.2
             }
            },
            "type": "histogram"
           }
          ],
          "histogram2d": [
           {
            "colorbar": {
             "outlinewidth": 0,
             "ticks": ""
            },
            "colorscale": [
             [
              0,
              "#0d0887"
             ],
             [
              0.1111111111111111,
              "#46039f"
             ],
             [
              0.2222222222222222,
              "#7201a8"
             ],
             [
              0.3333333333333333,
              "#9c179e"
             ],
             [
              0.4444444444444444,
              "#bd3786"
             ],
             [
              0.5555555555555556,
              "#d8576b"
             ],
             [
              0.6666666666666666,
              "#ed7953"
             ],
             [
              0.7777777777777778,
              "#fb9f3a"
             ],
             [
              0.8888888888888888,
              "#fdca26"
             ],
             [
              1,
              "#f0f921"
             ]
            ],
            "type": "histogram2d"
           }
          ],
          "histogram2dcontour": [
           {
            "colorbar": {
             "outlinewidth": 0,
             "ticks": ""
            },
            "colorscale": [
             [
              0,
              "#0d0887"
             ],
             [
              0.1111111111111111,
              "#46039f"
             ],
             [
              0.2222222222222222,
              "#7201a8"
             ],
             [
              0.3333333333333333,
              "#9c179e"
             ],
             [
              0.4444444444444444,
              "#bd3786"
             ],
             [
              0.5555555555555556,
              "#d8576b"
             ],
             [
              0.6666666666666666,
              "#ed7953"
             ],
             [
              0.7777777777777778,
              "#fb9f3a"
             ],
             [
              0.8888888888888888,
              "#fdca26"
             ],
             [
              1,
              "#f0f921"
             ]
            ],
            "type": "histogram2dcontour"
           }
          ],
          "mesh3d": [
           {
            "colorbar": {
             "outlinewidth": 0,
             "ticks": ""
            },
            "type": "mesh3d"
           }
          ],
          "parcoords": [
           {
            "line": {
             "colorbar": {
              "outlinewidth": 0,
              "ticks": ""
             }
            },
            "type": "parcoords"
           }
          ],
          "pie": [
           {
            "automargin": true,
            "type": "pie"
           }
          ],
          "scatter": [
           {
            "fillpattern": {
             "fillmode": "overlay",
             "size": 10,
             "solidity": 0.2
            },
            "type": "scatter"
           }
          ],
          "scatter3d": [
           {
            "line": {
             "colorbar": {
              "outlinewidth": 0,
              "ticks": ""
             }
            },
            "marker": {
             "colorbar": {
              "outlinewidth": 0,
              "ticks": ""
             }
            },
            "type": "scatter3d"
           }
          ],
          "scattercarpet": [
           {
            "marker": {
             "colorbar": {
              "outlinewidth": 0,
              "ticks": ""
             }
            },
            "type": "scattercarpet"
           }
          ],
          "scattergeo": [
           {
            "marker": {
             "colorbar": {
              "outlinewidth": 0,
              "ticks": ""
             }
            },
            "type": "scattergeo"
           }
          ],
          "scattergl": [
           {
            "marker": {
             "colorbar": {
              "outlinewidth": 0,
              "ticks": ""
             }
            },
            "type": "scattergl"
           }
          ],
          "scattermapbox": [
           {
            "marker": {
             "colorbar": {
              "outlinewidth": 0,
              "ticks": ""
             }
            },
            "type": "scattermapbox"
           }
          ],
          "scatterpolar": [
           {
            "marker": {
             "colorbar": {
              "outlinewidth": 0,
              "ticks": ""
             }
            },
            "type": "scatterpolar"
           }
          ],
          "scatterpolargl": [
           {
            "marker": {
             "colorbar": {
              "outlinewidth": 0,
              "ticks": ""
             }
            },
            "type": "scatterpolargl"
           }
          ],
          "scatterternary": [
           {
            "marker": {
             "colorbar": {
              "outlinewidth": 0,
              "ticks": ""
             }
            },
            "type": "scatterternary"
           }
          ],
          "surface": [
           {
            "colorbar": {
             "outlinewidth": 0,
             "ticks": ""
            },
            "colorscale": [
             [
              0,
              "#0d0887"
             ],
             [
              0.1111111111111111,
              "#46039f"
             ],
             [
              0.2222222222222222,
              "#7201a8"
             ],
             [
              0.3333333333333333,
              "#9c179e"
             ],
             [
              0.4444444444444444,
              "#bd3786"
             ],
             [
              0.5555555555555556,
              "#d8576b"
             ],
             [
              0.6666666666666666,
              "#ed7953"
             ],
             [
              0.7777777777777778,
              "#fb9f3a"
             ],
             [
              0.8888888888888888,
              "#fdca26"
             ],
             [
              1,
              "#f0f921"
             ]
            ],
            "type": "surface"
           }
          ],
          "table": [
           {
            "cells": {
             "fill": {
              "color": "#EBF0F8"
             },
             "line": {
              "color": "white"
             }
            },
            "header": {
             "fill": {
              "color": "#C8D4E3"
             },
             "line": {
              "color": "white"
             }
            },
            "type": "table"
           }
          ]
         },
         "layout": {
          "annotationdefaults": {
           "arrowcolor": "#2a3f5f",
           "arrowhead": 0,
           "arrowwidth": 1
          },
          "autotypenumbers": "strict",
          "coloraxis": {
           "colorbar": {
            "outlinewidth": 0,
            "ticks": ""
           }
          },
          "colorscale": {
           "diverging": [
            [
             0,
             "#8e0152"
            ],
            [
             0.1,
             "#c51b7d"
            ],
            [
             0.2,
             "#de77ae"
            ],
            [
             0.3,
             "#f1b6da"
            ],
            [
             0.4,
             "#fde0ef"
            ],
            [
             0.5,
             "#f7f7f7"
            ],
            [
             0.6,
             "#e6f5d0"
            ],
            [
             0.7,
             "#b8e186"
            ],
            [
             0.8,
             "#7fbc41"
            ],
            [
             0.9,
             "#4d9221"
            ],
            [
             1,
             "#276419"
            ]
           ],
           "sequential": [
            [
             0,
             "#0d0887"
            ],
            [
             0.1111111111111111,
             "#46039f"
            ],
            [
             0.2222222222222222,
             "#7201a8"
            ],
            [
             0.3333333333333333,
             "#9c179e"
            ],
            [
             0.4444444444444444,
             "#bd3786"
            ],
            [
             0.5555555555555556,
             "#d8576b"
            ],
            [
             0.6666666666666666,
             "#ed7953"
            ],
            [
             0.7777777777777778,
             "#fb9f3a"
            ],
            [
             0.8888888888888888,
             "#fdca26"
            ],
            [
             1,
             "#f0f921"
            ]
           ],
           "sequentialminus": [
            [
             0,
             "#0d0887"
            ],
            [
             0.1111111111111111,
             "#46039f"
            ],
            [
             0.2222222222222222,
             "#7201a8"
            ],
            [
             0.3333333333333333,
             "#9c179e"
            ],
            [
             0.4444444444444444,
             "#bd3786"
            ],
            [
             0.5555555555555556,
             "#d8576b"
            ],
            [
             0.6666666666666666,
             "#ed7953"
            ],
            [
             0.7777777777777778,
             "#fb9f3a"
            ],
            [
             0.8888888888888888,
             "#fdca26"
            ],
            [
             1,
             "#f0f921"
            ]
           ]
          },
          "colorway": [
           "#636efa",
           "#EF553B",
           "#00cc96",
           "#ab63fa",
           "#FFA15A",
           "#19d3f3",
           "#FF6692",
           "#B6E880",
           "#FF97FF",
           "#FECB52"
          ],
          "font": {
           "color": "#2a3f5f"
          },
          "geo": {
           "bgcolor": "white",
           "lakecolor": "white",
           "landcolor": "#E5ECF6",
           "showlakes": true,
           "showland": true,
           "subunitcolor": "white"
          },
          "hoverlabel": {
           "align": "left"
          },
          "hovermode": "closest",
          "mapbox": {
           "style": "light"
          },
          "paper_bgcolor": "white",
          "plot_bgcolor": "#E5ECF6",
          "polar": {
           "angularaxis": {
            "gridcolor": "white",
            "linecolor": "white",
            "ticks": ""
           },
           "bgcolor": "#E5ECF6",
           "radialaxis": {
            "gridcolor": "white",
            "linecolor": "white",
            "ticks": ""
           }
          },
          "scene": {
           "xaxis": {
            "backgroundcolor": "#E5ECF6",
            "gridcolor": "white",
            "gridwidth": 2,
            "linecolor": "white",
            "showbackground": true,
            "ticks": "",
            "zerolinecolor": "white"
           },
           "yaxis": {
            "backgroundcolor": "#E5ECF6",
            "gridcolor": "white",
            "gridwidth": 2,
            "linecolor": "white",
            "showbackground": true,
            "ticks": "",
            "zerolinecolor": "white"
           },
           "zaxis": {
            "backgroundcolor": "#E5ECF6",
            "gridcolor": "white",
            "gridwidth": 2,
            "linecolor": "white",
            "showbackground": true,
            "ticks": "",
            "zerolinecolor": "white"
           }
          },
          "shapedefaults": {
           "line": {
            "color": "#2a3f5f"
           }
          },
          "ternary": {
           "aaxis": {
            "gridcolor": "white",
            "linecolor": "white",
            "ticks": ""
           },
           "baxis": {
            "gridcolor": "white",
            "linecolor": "white",
            "ticks": ""
           },
           "bgcolor": "#E5ECF6",
           "caxis": {
            "gridcolor": "white",
            "linecolor": "white",
            "ticks": ""
           }
          },
          "title": {
           "x": 0.05
          },
          "xaxis": {
           "automargin": true,
           "gridcolor": "white",
           "linecolor": "white",
           "ticks": "",
           "title": {
            "standoff": 15
           },
           "zerolinecolor": "white",
           "zerolinewidth": 2
          },
          "yaxis": {
           "automargin": true,
           "gridcolor": "white",
           "linecolor": "white",
           "ticks": "",
           "title": {
            "standoff": 15
           },
           "zerolinecolor": "white",
           "zerolinewidth": 2
          }
         }
        },
        "xaxis": {
         "range": [
          0,
          25
         ]
        },
        "yaxis": {
         "range": [
          -11,
          11
         ],
         "scaleanchor": "x",
         "scaleratio": 1
        }
       }
      }
     },
     "metadata": {},
     "output_type": "display_data"
    }
   ],
   "source": [
    "utils.draw_neural_network(neural_network)"
   ]
  },
  {
   "cell_type": "code",
   "execution_count": 14,
   "id": "368a07c6",
   "metadata": {},
   "outputs": [],
   "source": [
    "import numpy as np"
   ]
  },
  {
   "cell_type": "code",
   "execution_count": 15,
   "id": "c7b52fc7",
   "metadata": {},
   "outputs": [],
   "source": [
    "X_train = np.array([\n",
    "        [0, 0],\n",
    "        [0, 1],\n",
    "        [1, 0],\n",
    "        [1, 1]\n",
    "    ])\n",
    "    \n",
    "y_train = np.array([\n",
    "    [0],  # 0 XOR 0 = 0\n",
    "    [1],  # 0 XOR 1 = 1\n",
    "    [1],  # 1 XOR 0 = 1\n",
    "    [0]   # 1 XOR 1 = 0\n",
    "])"
   ]
  },
  {
   "cell_type": "code",
   "execution_count": 47,
   "id": "e58d1810",
   "metadata": {},
   "outputs": [
    {
     "data": {
      "text/plain": [
       "[2, 4, 4, 1]"
      ]
     },
     "execution_count": 47,
     "metadata": {},
     "output_type": "execute_result"
    }
   ],
   "source": [
    "config = [len(X_train[0]), 4, 4, len(y_train[0])]\n",
    "config"
   ]
  },
  {
   "cell_type": "code",
   "execution_count": 48,
   "id": "6f634c95",
   "metadata": {},
   "outputs": [],
   "source": [
    "neural_network = NeuralNetwork(config)"
   ]
  },
  {
   "cell_type": "code",
   "execution_count": 49,
   "id": "b69be671",
   "metadata": {},
   "outputs": [
    {
     "data": {
      "application/vnd.plotly.v1+json": {
       "config": {
        "plotlyServerURL": "https://plot.ly"
       },
       "data": [],
       "layout": {
        "shapes": [
         {
          "layer": "above",
          "line": {
           "color": "gray",
           "width": 1
          },
          "type": "line",
          "x0": 0.5,
          "x1": 5.5,
          "xref": "x",
          "y0": -1,
          "y1": -3,
          "yref": "y"
         },
         {
          "layer": "above",
          "line": {
           "color": "gray",
           "width": 1
          },
          "type": "line",
          "x0": 0.5,
          "x1": 5.5,
          "xref": "x",
          "y0": -1,
          "y1": -1,
          "yref": "y"
         },
         {
          "layer": "above",
          "line": {
           "color": "gray",
           "width": 1
          },
          "type": "line",
          "x0": 0.5,
          "x1": 5.5,
          "xref": "x",
          "y0": -1,
          "y1": 1,
          "yref": "y"
         },
         {
          "layer": "above",
          "line": {
           "color": "gray",
           "width": 1
          },
          "type": "line",
          "x0": 0.5,
          "x1": 5.5,
          "xref": "x",
          "y0": -1,
          "y1": 3,
          "yref": "y"
         },
         {
          "layer": "above",
          "line": {
           "color": "gray",
           "width": 1
          },
          "type": "line",
          "x0": 0.5,
          "x1": 5.5,
          "xref": "x",
          "y0": 1,
          "y1": -3,
          "yref": "y"
         },
         {
          "layer": "above",
          "line": {
           "color": "gray",
           "width": 1
          },
          "type": "line",
          "x0": 0.5,
          "x1": 5.5,
          "xref": "x",
          "y0": 1,
          "y1": -1,
          "yref": "y"
         },
         {
          "layer": "above",
          "line": {
           "color": "gray",
           "width": 1
          },
          "type": "line",
          "x0": 0.5,
          "x1": 5.5,
          "xref": "x",
          "y0": 1,
          "y1": 1,
          "yref": "y"
         },
         {
          "layer": "above",
          "line": {
           "color": "gray",
           "width": 1
          },
          "type": "line",
          "x0": 0.5,
          "x1": 5.5,
          "xref": "x",
          "y0": 1,
          "y1": 3,
          "yref": "y"
         },
         {
          "layer": "above",
          "line": {
           "color": "gray",
           "width": 1
          },
          "type": "line",
          "x0": 5.5,
          "x1": 10.5,
          "xref": "x",
          "y0": -3,
          "y1": -3,
          "yref": "y"
         },
         {
          "layer": "above",
          "line": {
           "color": "gray",
           "width": 1
          },
          "type": "line",
          "x0": 5.5,
          "x1": 10.5,
          "xref": "x",
          "y0": -3,
          "y1": -1,
          "yref": "y"
         },
         {
          "layer": "above",
          "line": {
           "color": "gray",
           "width": 1
          },
          "type": "line",
          "x0": 5.5,
          "x1": 10.5,
          "xref": "x",
          "y0": -3,
          "y1": 1,
          "yref": "y"
         },
         {
          "layer": "above",
          "line": {
           "color": "gray",
           "width": 1
          },
          "type": "line",
          "x0": 5.5,
          "x1": 10.5,
          "xref": "x",
          "y0": -3,
          "y1": 3,
          "yref": "y"
         },
         {
          "layer": "above",
          "line": {
           "color": "gray",
           "width": 1
          },
          "type": "line",
          "x0": 5.5,
          "x1": 10.5,
          "xref": "x",
          "y0": -1,
          "y1": -3,
          "yref": "y"
         },
         {
          "layer": "above",
          "line": {
           "color": "gray",
           "width": 1
          },
          "type": "line",
          "x0": 5.5,
          "x1": 10.5,
          "xref": "x",
          "y0": -1,
          "y1": -1,
          "yref": "y"
         },
         {
          "layer": "above",
          "line": {
           "color": "gray",
           "width": 1
          },
          "type": "line",
          "x0": 5.5,
          "x1": 10.5,
          "xref": "x",
          "y0": -1,
          "y1": 1,
          "yref": "y"
         },
         {
          "layer": "above",
          "line": {
           "color": "gray",
           "width": 1
          },
          "type": "line",
          "x0": 5.5,
          "x1": 10.5,
          "xref": "x",
          "y0": -1,
          "y1": 3,
          "yref": "y"
         },
         {
          "layer": "above",
          "line": {
           "color": "gray",
           "width": 1
          },
          "type": "line",
          "x0": 5.5,
          "x1": 10.5,
          "xref": "x",
          "y0": 1,
          "y1": -3,
          "yref": "y"
         },
         {
          "layer": "above",
          "line": {
           "color": "gray",
           "width": 1
          },
          "type": "line",
          "x0": 5.5,
          "x1": 10.5,
          "xref": "x",
          "y0": 1,
          "y1": -1,
          "yref": "y"
         },
         {
          "layer": "above",
          "line": {
           "color": "gray",
           "width": 1
          },
          "type": "line",
          "x0": 5.5,
          "x1": 10.5,
          "xref": "x",
          "y0": 1,
          "y1": 1,
          "yref": "y"
         },
         {
          "layer": "above",
          "line": {
           "color": "gray",
           "width": 1
          },
          "type": "line",
          "x0": 5.5,
          "x1": 10.5,
          "xref": "x",
          "y0": 1,
          "y1": 3,
          "yref": "y"
         },
         {
          "layer": "above",
          "line": {
           "color": "gray",
           "width": 1
          },
          "type": "line",
          "x0": 5.5,
          "x1": 10.5,
          "xref": "x",
          "y0": 3,
          "y1": -3,
          "yref": "y"
         },
         {
          "layer": "above",
          "line": {
           "color": "gray",
           "width": 1
          },
          "type": "line",
          "x0": 5.5,
          "x1": 10.5,
          "xref": "x",
          "y0": 3,
          "y1": -1,
          "yref": "y"
         },
         {
          "layer": "above",
          "line": {
           "color": "gray",
           "width": 1
          },
          "type": "line",
          "x0": 5.5,
          "x1": 10.5,
          "xref": "x",
          "y0": 3,
          "y1": 1,
          "yref": "y"
         },
         {
          "layer": "above",
          "line": {
           "color": "gray",
           "width": 1
          },
          "type": "line",
          "x0": 5.5,
          "x1": 10.5,
          "xref": "x",
          "y0": 3,
          "y1": 3,
          "yref": "y"
         },
         {
          "layer": "above",
          "line": {
           "color": "gray",
           "width": 1
          },
          "type": "line",
          "x0": 10.5,
          "x1": 15.5,
          "xref": "x",
          "y0": -3,
          "y1": 0,
          "yref": "y"
         },
         {
          "layer": "above",
          "line": {
           "color": "gray",
           "width": 1
          },
          "type": "line",
          "x0": 10.5,
          "x1": 15.5,
          "xref": "x",
          "y0": -1,
          "y1": 0,
          "yref": "y"
         },
         {
          "layer": "above",
          "line": {
           "color": "gray",
           "width": 1
          },
          "type": "line",
          "x0": 10.5,
          "x1": 15.5,
          "xref": "x",
          "y0": 1,
          "y1": 0,
          "yref": "y"
         },
         {
          "layer": "above",
          "line": {
           "color": "gray",
           "width": 1
          },
          "type": "line",
          "x0": 10.5,
          "x1": 15.5,
          "xref": "x",
          "y0": 3,
          "y1": 0,
          "yref": "y"
         },
         {
          "fillcolor": "rgba(0,200,0,1)",
          "layer": "above",
          "type": "circle",
          "x0": 0,
          "x1": 1,
          "xref": "x",
          "y0": -1.5,
          "y1": -0.5,
          "yref": "y"
         },
         {
          "fillcolor": "rgba(0,200,0,1)",
          "layer": "above",
          "type": "circle",
          "x0": 0,
          "x1": 1,
          "xref": "x",
          "y0": 0.5,
          "y1": 1.5,
          "yref": "y"
         },
         {
          "fillcolor": "rgba(0,200,0,1)",
          "layer": "above",
          "type": "circle",
          "x0": 5,
          "x1": 6,
          "xref": "x",
          "y0": -3.5,
          "y1": -2.5,
          "yref": "y"
         },
         {
          "fillcolor": "rgba(0,200,0,1)",
          "layer": "above",
          "type": "circle",
          "x0": 5,
          "x1": 6,
          "xref": "x",
          "y0": -1.5,
          "y1": -0.5,
          "yref": "y"
         },
         {
          "fillcolor": "rgba(0,200,0,1)",
          "layer": "above",
          "type": "circle",
          "x0": 5,
          "x1": 6,
          "xref": "x",
          "y0": 0.5,
          "y1": 1.5,
          "yref": "y"
         },
         {
          "fillcolor": "rgba(0,200,0,1)",
          "layer": "above",
          "type": "circle",
          "x0": 5,
          "x1": 6,
          "xref": "x",
          "y0": 2.5,
          "y1": 3.5,
          "yref": "y"
         },
         {
          "fillcolor": "rgba(0,200,0,1)",
          "layer": "above",
          "type": "circle",
          "x0": 10,
          "x1": 11,
          "xref": "x",
          "y0": -3.5,
          "y1": -2.5,
          "yref": "y"
         },
         {
          "fillcolor": "rgba(0,200,0,1)",
          "layer": "above",
          "type": "circle",
          "x0": 10,
          "x1": 11,
          "xref": "x",
          "y0": -1.5,
          "y1": -0.5,
          "yref": "y"
         },
         {
          "fillcolor": "rgba(0,200,0,1)",
          "layer": "above",
          "type": "circle",
          "x0": 10,
          "x1": 11,
          "xref": "x",
          "y0": 0.5,
          "y1": 1.5,
          "yref": "y"
         },
         {
          "fillcolor": "rgba(0,200,0,1)",
          "layer": "above",
          "type": "circle",
          "x0": 10,
          "x1": 11,
          "xref": "x",
          "y0": 2.5,
          "y1": 3.5,
          "yref": "y"
         },
         {
          "fillcolor": "rgba(0,200,0,1)",
          "layer": "above",
          "type": "circle",
          "x0": 15,
          "x1": 16,
          "xref": "x",
          "y0": -0.5,
          "y1": 0.5,
          "yref": "y"
         }
        ],
        "template": {
         "data": {
          "bar": [
           {
            "error_x": {
             "color": "#2a3f5f"
            },
            "error_y": {
             "color": "#2a3f5f"
            },
            "marker": {
             "line": {
              "color": "#E5ECF6",
              "width": 0.5
             },
             "pattern": {
              "fillmode": "overlay",
              "size": 10,
              "solidity": 0.2
             }
            },
            "type": "bar"
           }
          ],
          "barpolar": [
           {
            "marker": {
             "line": {
              "color": "#E5ECF6",
              "width": 0.5
             },
             "pattern": {
              "fillmode": "overlay",
              "size": 10,
              "solidity": 0.2
             }
            },
            "type": "barpolar"
           }
          ],
          "carpet": [
           {
            "aaxis": {
             "endlinecolor": "#2a3f5f",
             "gridcolor": "white",
             "linecolor": "white",
             "minorgridcolor": "white",
             "startlinecolor": "#2a3f5f"
            },
            "baxis": {
             "endlinecolor": "#2a3f5f",
             "gridcolor": "white",
             "linecolor": "white",
             "minorgridcolor": "white",
             "startlinecolor": "#2a3f5f"
            },
            "type": "carpet"
           }
          ],
          "choropleth": [
           {
            "colorbar": {
             "outlinewidth": 0,
             "ticks": ""
            },
            "type": "choropleth"
           }
          ],
          "contour": [
           {
            "colorbar": {
             "outlinewidth": 0,
             "ticks": ""
            },
            "colorscale": [
             [
              0,
              "#0d0887"
             ],
             [
              0.1111111111111111,
              "#46039f"
             ],
             [
              0.2222222222222222,
              "#7201a8"
             ],
             [
              0.3333333333333333,
              "#9c179e"
             ],
             [
              0.4444444444444444,
              "#bd3786"
             ],
             [
              0.5555555555555556,
              "#d8576b"
             ],
             [
              0.6666666666666666,
              "#ed7953"
             ],
             [
              0.7777777777777778,
              "#fb9f3a"
             ],
             [
              0.8888888888888888,
              "#fdca26"
             ],
             [
              1,
              "#f0f921"
             ]
            ],
            "type": "contour"
           }
          ],
          "contourcarpet": [
           {
            "colorbar": {
             "outlinewidth": 0,
             "ticks": ""
            },
            "type": "contourcarpet"
           }
          ],
          "heatmap": [
           {
            "colorbar": {
             "outlinewidth": 0,
             "ticks": ""
            },
            "colorscale": [
             [
              0,
              "#0d0887"
             ],
             [
              0.1111111111111111,
              "#46039f"
             ],
             [
              0.2222222222222222,
              "#7201a8"
             ],
             [
              0.3333333333333333,
              "#9c179e"
             ],
             [
              0.4444444444444444,
              "#bd3786"
             ],
             [
              0.5555555555555556,
              "#d8576b"
             ],
             [
              0.6666666666666666,
              "#ed7953"
             ],
             [
              0.7777777777777778,
              "#fb9f3a"
             ],
             [
              0.8888888888888888,
              "#fdca26"
             ],
             [
              1,
              "#f0f921"
             ]
            ],
            "type": "heatmap"
           }
          ],
          "heatmapgl": [
           {
            "colorbar": {
             "outlinewidth": 0,
             "ticks": ""
            },
            "colorscale": [
             [
              0,
              "#0d0887"
             ],
             [
              0.1111111111111111,
              "#46039f"
             ],
             [
              0.2222222222222222,
              "#7201a8"
             ],
             [
              0.3333333333333333,
              "#9c179e"
             ],
             [
              0.4444444444444444,
              "#bd3786"
             ],
             [
              0.5555555555555556,
              "#d8576b"
             ],
             [
              0.6666666666666666,
              "#ed7953"
             ],
             [
              0.7777777777777778,
              "#fb9f3a"
             ],
             [
              0.8888888888888888,
              "#fdca26"
             ],
             [
              1,
              "#f0f921"
             ]
            ],
            "type": "heatmapgl"
           }
          ],
          "histogram": [
           {
            "marker": {
             "pattern": {
              "fillmode": "overlay",
              "size": 10,
              "solidity": 0.2
             }
            },
            "type": "histogram"
           }
          ],
          "histogram2d": [
           {
            "colorbar": {
             "outlinewidth": 0,
             "ticks": ""
            },
            "colorscale": [
             [
              0,
              "#0d0887"
             ],
             [
              0.1111111111111111,
              "#46039f"
             ],
             [
              0.2222222222222222,
              "#7201a8"
             ],
             [
              0.3333333333333333,
              "#9c179e"
             ],
             [
              0.4444444444444444,
              "#bd3786"
             ],
             [
              0.5555555555555556,
              "#d8576b"
             ],
             [
              0.6666666666666666,
              "#ed7953"
             ],
             [
              0.7777777777777778,
              "#fb9f3a"
             ],
             [
              0.8888888888888888,
              "#fdca26"
             ],
             [
              1,
              "#f0f921"
             ]
            ],
            "type": "histogram2d"
           }
          ],
          "histogram2dcontour": [
           {
            "colorbar": {
             "outlinewidth": 0,
             "ticks": ""
            },
            "colorscale": [
             [
              0,
              "#0d0887"
             ],
             [
              0.1111111111111111,
              "#46039f"
             ],
             [
              0.2222222222222222,
              "#7201a8"
             ],
             [
              0.3333333333333333,
              "#9c179e"
             ],
             [
              0.4444444444444444,
              "#bd3786"
             ],
             [
              0.5555555555555556,
              "#d8576b"
             ],
             [
              0.6666666666666666,
              "#ed7953"
             ],
             [
              0.7777777777777778,
              "#fb9f3a"
             ],
             [
              0.8888888888888888,
              "#fdca26"
             ],
             [
              1,
              "#f0f921"
             ]
            ],
            "type": "histogram2dcontour"
           }
          ],
          "mesh3d": [
           {
            "colorbar": {
             "outlinewidth": 0,
             "ticks": ""
            },
            "type": "mesh3d"
           }
          ],
          "parcoords": [
           {
            "line": {
             "colorbar": {
              "outlinewidth": 0,
              "ticks": ""
             }
            },
            "type": "parcoords"
           }
          ],
          "pie": [
           {
            "automargin": true,
            "type": "pie"
           }
          ],
          "scatter": [
           {
            "fillpattern": {
             "fillmode": "overlay",
             "size": 10,
             "solidity": 0.2
            },
            "type": "scatter"
           }
          ],
          "scatter3d": [
           {
            "line": {
             "colorbar": {
              "outlinewidth": 0,
              "ticks": ""
             }
            },
            "marker": {
             "colorbar": {
              "outlinewidth": 0,
              "ticks": ""
             }
            },
            "type": "scatter3d"
           }
          ],
          "scattercarpet": [
           {
            "marker": {
             "colorbar": {
              "outlinewidth": 0,
              "ticks": ""
             }
            },
            "type": "scattercarpet"
           }
          ],
          "scattergeo": [
           {
            "marker": {
             "colorbar": {
              "outlinewidth": 0,
              "ticks": ""
             }
            },
            "type": "scattergeo"
           }
          ],
          "scattergl": [
           {
            "marker": {
             "colorbar": {
              "outlinewidth": 0,
              "ticks": ""
             }
            },
            "type": "scattergl"
           }
          ],
          "scattermapbox": [
           {
            "marker": {
             "colorbar": {
              "outlinewidth": 0,
              "ticks": ""
             }
            },
            "type": "scattermapbox"
           }
          ],
          "scatterpolar": [
           {
            "marker": {
             "colorbar": {
              "outlinewidth": 0,
              "ticks": ""
             }
            },
            "type": "scatterpolar"
           }
          ],
          "scatterpolargl": [
           {
            "marker": {
             "colorbar": {
              "outlinewidth": 0,
              "ticks": ""
             }
            },
            "type": "scatterpolargl"
           }
          ],
          "scatterternary": [
           {
            "marker": {
             "colorbar": {
              "outlinewidth": 0,
              "ticks": ""
             }
            },
            "type": "scatterternary"
           }
          ],
          "surface": [
           {
            "colorbar": {
             "outlinewidth": 0,
             "ticks": ""
            },
            "colorscale": [
             [
              0,
              "#0d0887"
             ],
             [
              0.1111111111111111,
              "#46039f"
             ],
             [
              0.2222222222222222,
              "#7201a8"
             ],
             [
              0.3333333333333333,
              "#9c179e"
             ],
             [
              0.4444444444444444,
              "#bd3786"
             ],
             [
              0.5555555555555556,
              "#d8576b"
             ],
             [
              0.6666666666666666,
              "#ed7953"
             ],
             [
              0.7777777777777778,
              "#fb9f3a"
             ],
             [
              0.8888888888888888,
              "#fdca26"
             ],
             [
              1,
              "#f0f921"
             ]
            ],
            "type": "surface"
           }
          ],
          "table": [
           {
            "cells": {
             "fill": {
              "color": "#EBF0F8"
             },
             "line": {
              "color": "white"
             }
            },
            "header": {
             "fill": {
              "color": "#C8D4E3"
             },
             "line": {
              "color": "white"
             }
            },
            "type": "table"
           }
          ]
         },
         "layout": {
          "annotationdefaults": {
           "arrowcolor": "#2a3f5f",
           "arrowhead": 0,
           "arrowwidth": 1
          },
          "autotypenumbers": "strict",
          "coloraxis": {
           "colorbar": {
            "outlinewidth": 0,
            "ticks": ""
           }
          },
          "colorscale": {
           "diverging": [
            [
             0,
             "#8e0152"
            ],
            [
             0.1,
             "#c51b7d"
            ],
            [
             0.2,
             "#de77ae"
            ],
            [
             0.3,
             "#f1b6da"
            ],
            [
             0.4,
             "#fde0ef"
            ],
            [
             0.5,
             "#f7f7f7"
            ],
            [
             0.6,
             "#e6f5d0"
            ],
            [
             0.7,
             "#b8e186"
            ],
            [
             0.8,
             "#7fbc41"
            ],
            [
             0.9,
             "#4d9221"
            ],
            [
             1,
             "#276419"
            ]
           ],
           "sequential": [
            [
             0,
             "#0d0887"
            ],
            [
             0.1111111111111111,
             "#46039f"
            ],
            [
             0.2222222222222222,
             "#7201a8"
            ],
            [
             0.3333333333333333,
             "#9c179e"
            ],
            [
             0.4444444444444444,
             "#bd3786"
            ],
            [
             0.5555555555555556,
             "#d8576b"
            ],
            [
             0.6666666666666666,
             "#ed7953"
            ],
            [
             0.7777777777777778,
             "#fb9f3a"
            ],
            [
             0.8888888888888888,
             "#fdca26"
            ],
            [
             1,
             "#f0f921"
            ]
           ],
           "sequentialminus": [
            [
             0,
             "#0d0887"
            ],
            [
             0.1111111111111111,
             "#46039f"
            ],
            [
             0.2222222222222222,
             "#7201a8"
            ],
            [
             0.3333333333333333,
             "#9c179e"
            ],
            [
             0.4444444444444444,
             "#bd3786"
            ],
            [
             0.5555555555555556,
             "#d8576b"
            ],
            [
             0.6666666666666666,
             "#ed7953"
            ],
            [
             0.7777777777777778,
             "#fb9f3a"
            ],
            [
             0.8888888888888888,
             "#fdca26"
            ],
            [
             1,
             "#f0f921"
            ]
           ]
          },
          "colorway": [
           "#636efa",
           "#EF553B",
           "#00cc96",
           "#ab63fa",
           "#FFA15A",
           "#19d3f3",
           "#FF6692",
           "#B6E880",
           "#FF97FF",
           "#FECB52"
          ],
          "font": {
           "color": "#2a3f5f"
          },
          "geo": {
           "bgcolor": "white",
           "lakecolor": "white",
           "landcolor": "#E5ECF6",
           "showlakes": true,
           "showland": true,
           "subunitcolor": "white"
          },
          "hoverlabel": {
           "align": "left"
          },
          "hovermode": "closest",
          "mapbox": {
           "style": "light"
          },
          "paper_bgcolor": "white",
          "plot_bgcolor": "#E5ECF6",
          "polar": {
           "angularaxis": {
            "gridcolor": "white",
            "linecolor": "white",
            "ticks": ""
           },
           "bgcolor": "#E5ECF6",
           "radialaxis": {
            "gridcolor": "white",
            "linecolor": "white",
            "ticks": ""
           }
          },
          "scene": {
           "xaxis": {
            "backgroundcolor": "#E5ECF6",
            "gridcolor": "white",
            "gridwidth": 2,
            "linecolor": "white",
            "showbackground": true,
            "ticks": "",
            "zerolinecolor": "white"
           },
           "yaxis": {
            "backgroundcolor": "#E5ECF6",
            "gridcolor": "white",
            "gridwidth": 2,
            "linecolor": "white",
            "showbackground": true,
            "ticks": "",
            "zerolinecolor": "white"
           },
           "zaxis": {
            "backgroundcolor": "#E5ECF6",
            "gridcolor": "white",
            "gridwidth": 2,
            "linecolor": "white",
            "showbackground": true,
            "ticks": "",
            "zerolinecolor": "white"
           }
          },
          "shapedefaults": {
           "line": {
            "color": "#2a3f5f"
           }
          },
          "ternary": {
           "aaxis": {
            "gridcolor": "white",
            "linecolor": "white",
            "ticks": ""
           },
           "baxis": {
            "gridcolor": "white",
            "linecolor": "white",
            "ticks": ""
           },
           "bgcolor": "#E5ECF6",
           "caxis": {
            "gridcolor": "white",
            "linecolor": "white",
            "ticks": ""
           }
          },
          "title": {
           "x": 0.05
          },
          "xaxis": {
           "automargin": true,
           "gridcolor": "white",
           "linecolor": "white",
           "ticks": "",
           "title": {
            "standoff": 15
           },
           "zerolinecolor": "white",
           "zerolinewidth": 2
          },
          "yaxis": {
           "automargin": true,
           "gridcolor": "white",
           "linecolor": "white",
           "ticks": "",
           "title": {
            "standoff": 15
           },
           "zerolinecolor": "white",
           "zerolinewidth": 2
          }
         }
        },
        "xaxis": {
         "range": [
          0,
          20
         ]
        },
        "yaxis": {
         "range": [
          -5,
          5
         ],
         "scaleanchor": "x",
         "scaleratio": 1
        }
       }
      }
     },
     "metadata": {},
     "output_type": "display_data"
    }
   ],
   "source": [
    "utils.draw_neural_network(neural_network)"
   ]
  },
  {
   "cell_type": "code",
   "execution_count": 50,
   "id": "14fe5891",
   "metadata": {},
   "outputs": [
    {
     "data": {
      "text/plain": [
       "array([0.77137246])"
      ]
     },
     "execution_count": 50,
     "metadata": {},
     "output_type": "execute_result"
    }
   ],
   "source": [
    "neural_network.predict(X_train[0])"
   ]
  },
  {
   "cell_type": "code",
   "execution_count": 51,
   "id": "39b95b5e",
   "metadata": {},
   "outputs": [
    {
     "name": "stdout",
     "output_type": "stream",
     "text": [
      "Epoch 0, Average Loss: 0.359129\n",
      "Epoch 10, Average Loss: 0.330617\n",
      "Epoch 20, Average Loss: 0.315520\n",
      "Epoch 30, Average Loss: 0.303436\n",
      "Epoch 40, Average Loss: 0.292592\n",
      "Epoch 50, Average Loss: 0.277026\n",
      "Epoch 60, Average Loss: 0.246962\n",
      "Epoch 70, Average Loss: 0.194844\n",
      "Epoch 80, Average Loss: 0.134014\n",
      "Epoch 90, Average Loss: 0.082960\n",
      "Epoch 100, Average Loss: 0.052338\n",
      "Epoch 110, Average Loss: 0.035726\n",
      "Epoch 120, Average Loss: 0.026205\n",
      "Epoch 130, Average Loss: 0.020300\n",
      "Epoch 140, Average Loss: 0.016376\n",
      "Epoch 150, Average Loss: 0.013619\n",
      "Epoch 160, Average Loss: 0.011596\n",
      "Epoch 170, Average Loss: 0.010058\n",
      "Epoch 180, Average Loss: 0.008855\n",
      "Epoch 190, Average Loss: 0.007892\n",
      "Epoch 200, Average Loss: 0.007105\n",
      "Epoch 210, Average Loss: 0.006452\n",
      "Epoch 220, Average Loss: 0.005902\n",
      "Epoch 230, Average Loss: 0.005434\n",
      "Epoch 240, Average Loss: 0.005030\n",
      "Epoch 250, Average Loss: 0.004679\n",
      "Epoch 260, Average Loss: 0.004371\n",
      "Epoch 270, Average Loss: 0.004099\n",
      "Epoch 280, Average Loss: 0.003857\n",
      "Epoch 290, Average Loss: 0.003641\n",
      "Epoch 300, Average Loss: 0.003447\n",
      "Epoch 310, Average Loss: 0.003271\n",
      "Epoch 320, Average Loss: 0.003112\n",
      "Epoch 330, Average Loss: 0.002966\n",
      "Epoch 340, Average Loss: 0.002833\n",
      "Epoch 350, Average Loss: 0.002711\n",
      "Epoch 360, Average Loss: 0.002598\n",
      "Epoch 370, Average Loss: 0.002495\n",
      "Epoch 380, Average Loss: 0.002398\n",
      "Epoch 390, Average Loss: 0.002309\n",
      "Epoch 400, Average Loss: 0.002225\n",
      "Epoch 410, Average Loss: 0.002148\n",
      "Epoch 420, Average Loss: 0.002075\n",
      "Epoch 430, Average Loss: 0.002007\n",
      "Epoch 440, Average Loss: 0.001943\n",
      "Epoch 450, Average Loss: 0.001882\n",
      "Epoch 460, Average Loss: 0.001826\n",
      "Epoch 470, Average Loss: 0.001772\n",
      "Epoch 480, Average Loss: 0.001722\n",
      "Epoch 490, Average Loss: 0.001674\n",
      "Epoch 500, Average Loss: 0.001628\n",
      "Epoch 510, Average Loss: 0.001585\n",
      "Epoch 520, Average Loss: 0.001544\n",
      "Epoch 530, Average Loss: 0.001505\n",
      "Epoch 540, Average Loss: 0.001468\n",
      "Epoch 550, Average Loss: 0.001433\n",
      "Epoch 560, Average Loss: 0.001399\n",
      "Epoch 570, Average Loss: 0.001366\n",
      "Epoch 580, Average Loss: 0.001336\n",
      "Epoch 590, Average Loss: 0.001306\n",
      "Epoch 600, Average Loss: 0.001278\n",
      "Epoch 610, Average Loss: 0.001250\n",
      "Epoch 620, Average Loss: 0.001224\n",
      "Epoch 630, Average Loss: 0.001199\n",
      "Epoch 640, Average Loss: 0.001175\n",
      "Epoch 650, Average Loss: 0.001152\n",
      "Epoch 660, Average Loss: 0.001130\n",
      "Epoch 670, Average Loss: 0.001108\n",
      "Epoch 680, Average Loss: 0.001088\n",
      "Epoch 690, Average Loss: 0.001068\n",
      "Epoch 700, Average Loss: 0.001048\n",
      "Epoch 710, Average Loss: 0.001030\n",
      "Epoch 720, Average Loss: 0.001012\n",
      "Epoch 730, Average Loss: 0.000994\n",
      "Epoch 740, Average Loss: 0.000977\n",
      "Epoch 750, Average Loss: 0.000961\n",
      "Epoch 760, Average Loss: 0.000945\n",
      "Epoch 770, Average Loss: 0.000930\n",
      "Epoch 780, Average Loss: 0.000915\n",
      "Epoch 790, Average Loss: 0.000901\n",
      "Epoch 800, Average Loss: 0.000887\n",
      "Epoch 810, Average Loss: 0.000874\n",
      "Epoch 820, Average Loss: 0.000860\n",
      "Epoch 830, Average Loss: 0.000848\n",
      "Epoch 840, Average Loss: 0.000835\n",
      "Epoch 850, Average Loss: 0.000823\n",
      "Epoch 860, Average Loss: 0.000812\n",
      "Epoch 870, Average Loss: 0.000800\n",
      "Epoch 880, Average Loss: 0.000789\n",
      "Epoch 890, Average Loss: 0.000778\n",
      "Epoch 900, Average Loss: 0.000768\n",
      "Epoch 910, Average Loss: 0.000758\n",
      "Epoch 920, Average Loss: 0.000748\n",
      "Epoch 930, Average Loss: 0.000738\n",
      "Epoch 940, Average Loss: 0.000728\n",
      "Epoch 950, Average Loss: 0.000719\n",
      "Epoch 960, Average Loss: 0.000710\n",
      "Epoch 970, Average Loss: 0.000701\n",
      "Epoch 980, Average Loss: 0.000693\n",
      "Epoch 990, Average Loss: 0.000684\n"
     ]
    }
   ],
   "source": [
    "neural_network.train(X_train, y_train, epochs=1000, learning_rate=1.0)"
   ]
  },
  {
   "cell_type": "code",
   "execution_count": null,
   "id": "8c54e6d6",
   "metadata": {},
   "outputs": [
    {
     "name": "stdout",
     "output_type": "stream",
     "text": [
      "Input: [0 0] | Target: [0] | Prediction: 0.0274\n",
      "\n",
      "Final Accuracy: 100.0%\n",
      "Input: [0 1] | Target: [1] | Prediction: 0.9745\n",
      "\n",
      "Final Accuracy: 100.0%\n",
      "Input: [1 0] | Target: [1] | Prediction: 0.9720\n",
      "\n",
      "Final Accuracy: 100.0%\n",
      "Input: [1 1] | Target: [0] | Prediction: 0.0226\n",
      "\n",
      "Final Accuracy: 100.0%\n"
     ]
    }
   ],
   "source": [
    "for i, x in enumerate(X_train):\n",
    "    prediction = neural_network.predict(x)\n",
    "    print(f\"Input: {x} | Target: {y_train[i]} | Prediction: {prediction[0]:.4f}\")\n",
    "    \n",
    "    predictions = []\n",
    "    for x in X_train:\n",
    "        pred = neural_network.predict(x)[0]\n",
    "        predictions.append(1 if pred > 0.5 else 0)\n",
    "    \n",
    "    accuracy = np.mean(predictions == y_train.flatten())\n",
    "    print(f\"\\nFinal Accuracy: {accuracy * 100:.1f}%\")"
   ]
  },
  {
   "cell_type": "code",
   "execution_count": null,
   "id": "b23c147f",
   "metadata": {},
   "outputs": [],
   "source": []
  }
 ],
 "metadata": {
  "kernelspec": {
   "display_name": "Python 3",
   "language": "python",
   "name": "python3"
  },
  "language_info": {
   "codemirror_mode": {
    "name": "ipython",
    "version": 3
   },
   "file_extension": ".py",
   "mimetype": "text/x-python",
   "name": "python",
   "nbconvert_exporter": "python",
   "pygments_lexer": "ipython3",
   "version": "3.11.2"
  }
 },
 "nbformat": 4,
 "nbformat_minor": 5
}
