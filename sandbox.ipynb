{
 "cells": [
  {
   "cell_type": "code",
   "execution_count": 3,
   "id": "e797490f",
   "metadata": {},
   "outputs": [],
   "source": [
    "from neuron import Neuron"
   ]
  },
  {
   "cell_type": "code",
   "execution_count": 4,
   "id": "6ec8d421",
   "metadata": {},
   "outputs": [],
   "source": [
    "inputs = [0.1, 0.4, 0.2]"
   ]
  },
  {
   "cell_type": "code",
   "execution_count": 5,
   "id": "8f90144d",
   "metadata": {},
   "outputs": [],
   "source": [
    "neuron = Neuron(len(inputs))"
   ]
  },
  {
   "cell_type": "code",
   "execution_count": 6,
   "id": "3e6fbb4a",
   "metadata": {},
   "outputs": [
    {
     "data": {
      "text/plain": [
       "0.6080504428547426"
      ]
     },
     "execution_count": 6,
     "metadata": {},
     "output_type": "execute_result"
    }
   ],
   "source": [
    "neuron.feedforward(inputs)"
   ]
  },
  {
   "cell_type": "code",
   "execution_count": 7,
   "id": "78eb96a5",
   "metadata": {},
   "outputs": [],
   "source": [
    "from layer import Layer"
   ]
  },
  {
   "cell_type": "code",
   "execution_count": 8,
   "id": "28cc7b98",
   "metadata": {},
   "outputs": [],
   "source": [
    "layer = Layer(num_neurons=5, neuron_input_size=3)"
   ]
  },
  {
   "cell_type": "code",
   "execution_count": 9,
   "id": "1df26915",
   "metadata": {},
   "outputs": [
    {
     "data": {
      "text/plain": [
       "array([0.68197795, 0.93650751, 0.82754328, 0.76385474, 0.8029651 ])"
      ]
     },
     "execution_count": 9,
     "metadata": {},
     "output_type": "execute_result"
    }
   ],
   "source": [
    "layer.feedforward(inputs)"
   ]
  },
  {
   "cell_type": "code",
   "execution_count": 10,
   "id": "bf0e7466",
   "metadata": {},
   "outputs": [],
   "source": [
    "from neural_network import NeuralNetwork"
   ]
  },
  {
   "cell_type": "code",
   "execution_count": 11,
   "id": "a2ee9d95",
   "metadata": {},
   "outputs": [],
   "source": [
    "config = [len(inputs), 10, 11, 15, 1]"
   ]
  },
  {
   "cell_type": "code",
   "execution_count": 12,
   "id": "7ee03bd7",
   "metadata": {},
   "outputs": [],
   "source": [
    "neural_network = NeuralNetwork(config)"
   ]
  },
  {
   "cell_type": "code",
   "execution_count": 13,
   "id": "d41025fd",
   "metadata": {},
   "outputs": [
    {
     "data": {
      "text/plain": [
       "array([0.14139356])"
      ]
     },
     "execution_count": 13,
     "metadata": {},
     "output_type": "execute_result"
    }
   ],
   "source": [
    "neural_network.feedforward(inputs)"
   ]
  },
  {
   "cell_type": "code",
   "execution_count": 14,
   "id": "90e34f5f",
   "metadata": {},
   "outputs": [],
   "source": [
    "import utils"
   ]
  },
  {
   "cell_type": "code",
   "execution_count": 15,
   "id": "3e5f4b78",
   "metadata": {},
   "outputs": [
    {
     "data": {
      "application/vnd.plotly.v1+json": {
       "config": {
        "plotlyServerURL": "https://plot.ly"
       },
       "data": [],
       "layout": {
        "shapes": [
         {
          "layer": "above",
          "line": {
           "color": "gray",
           "width": 1
          },
          "type": "line",
          "x0": 0.5,
          "x1": 5.5,
          "xref": "x",
          "y0": -2,
          "y1": -9,
          "yref": "y"
         },
         {
          "layer": "above",
          "line": {
           "color": "gray",
           "width": 1
          },
          "type": "line",
          "x0": 0.5,
          "x1": 5.5,
          "xref": "x",
          "y0": -2,
          "y1": -7,
          "yref": "y"
         },
         {
          "layer": "above",
          "line": {
           "color": "gray",
           "width": 1
          },
          "type": "line",
          "x0": 0.5,
          "x1": 5.5,
          "xref": "x",
          "y0": -2,
          "y1": -5,
          "yref": "y"
         },
         {
          "layer": "above",
          "line": {
           "color": "gray",
           "width": 1
          },
          "type": "line",
          "x0": 0.5,
          "x1": 5.5,
          "xref": "x",
          "y0": -2,
          "y1": -3,
          "yref": "y"
         },
         {
          "layer": "above",
          "line": {
           "color": "gray",
           "width": 1
          },
          "type": "line",
          "x0": 0.5,
          "x1": 5.5,
          "xref": "x",
          "y0": -2,
          "y1": -1,
          "yref": "y"
         },
         {
          "layer": "above",
          "line": {
           "color": "gray",
           "width": 1
          },
          "type": "line",
          "x0": 0.5,
          "x1": 5.5,
          "xref": "x",
          "y0": -2,
          "y1": 1,
          "yref": "y"
         },
         {
          "layer": "above",
          "line": {
           "color": "gray",
           "width": 1
          },
          "type": "line",
          "x0": 0.5,
          "x1": 5.5,
          "xref": "x",
          "y0": -2,
          "y1": 3,
          "yref": "y"
         },
         {
          "layer": "above",
          "line": {
           "color": "gray",
           "width": 1
          },
          "type": "line",
          "x0": 0.5,
          "x1": 5.5,
          "xref": "x",
          "y0": -2,
          "y1": 5,
          "yref": "y"
         },
         {
          "layer": "above",
          "line": {
           "color": "gray",
           "width": 1
          },
          "type": "line",
          "x0": 0.5,
          "x1": 5.5,
          "xref": "x",
          "y0": -2,
          "y1": 7,
          "yref": "y"
         },
         {
          "layer": "above",
          "line": {
           "color": "gray",
           "width": 1
          },
          "type": "line",
          "x0": 0.5,
          "x1": 5.5,
          "xref": "x",
          "y0": -2,
          "y1": 9,
          "yref": "y"
         },
         {
          "layer": "above",
          "line": {
           "color": "gray",
           "width": 1
          },
          "type": "line",
          "x0": 0.5,
          "x1": 5.5,
          "xref": "x",
          "y0": 0,
          "y1": -9,
          "yref": "y"
         },
         {
          "layer": "above",
          "line": {
           "color": "gray",
           "width": 1
          },
          "type": "line",
          "x0": 0.5,
          "x1": 5.5,
          "xref": "x",
          "y0": 0,
          "y1": -7,
          "yref": "y"
         },
         {
          "layer": "above",
          "line": {
           "color": "gray",
           "width": 1
          },
          "type": "line",
          "x0": 0.5,
          "x1": 5.5,
          "xref": "x",
          "y0": 0,
          "y1": -5,
          "yref": "y"
         },
         {
          "layer": "above",
          "line": {
           "color": "gray",
           "width": 1
          },
          "type": "line",
          "x0": 0.5,
          "x1": 5.5,
          "xref": "x",
          "y0": 0,
          "y1": -3,
          "yref": "y"
         },
         {
          "layer": "above",
          "line": {
           "color": "gray",
           "width": 1
          },
          "type": "line",
          "x0": 0.5,
          "x1": 5.5,
          "xref": "x",
          "y0": 0,
          "y1": -1,
          "yref": "y"
         },
         {
          "layer": "above",
          "line": {
           "color": "gray",
           "width": 1
          },
          "type": "line",
          "x0": 0.5,
          "x1": 5.5,
          "xref": "x",
          "y0": 0,
          "y1": 1,
          "yref": "y"
         },
         {
          "layer": "above",
          "line": {
           "color": "gray",
           "width": 1
          },
          "type": "line",
          "x0": 0.5,
          "x1": 5.5,
          "xref": "x",
          "y0": 0,
          "y1": 3,
          "yref": "y"
         },
         {
          "layer": "above",
          "line": {
           "color": "gray",
           "width": 1
          },
          "type": "line",
          "x0": 0.5,
          "x1": 5.5,
          "xref": "x",
          "y0": 0,
          "y1": 5,
          "yref": "y"
         },
         {
          "layer": "above",
          "line": {
           "color": "gray",
           "width": 1
          },
          "type": "line",
          "x0": 0.5,
          "x1": 5.5,
          "xref": "x",
          "y0": 0,
          "y1": 7,
          "yref": "y"
         },
         {
          "layer": "above",
          "line": {
           "color": "gray",
           "width": 1
          },
          "type": "line",
          "x0": 0.5,
          "x1": 5.5,
          "xref": "x",
          "y0": 0,
          "y1": 9,
          "yref": "y"
         },
         {
          "layer": "above",
          "line": {
           "color": "gray",
           "width": 1
          },
          "type": "line",
          "x0": 0.5,
          "x1": 5.5,
          "xref": "x",
          "y0": 2,
          "y1": -9,
          "yref": "y"
         },
         {
          "layer": "above",
          "line": {
           "color": "gray",
           "width": 1
          },
          "type": "line",
          "x0": 0.5,
          "x1": 5.5,
          "xref": "x",
          "y0": 2,
          "y1": -7,
          "yref": "y"
         },
         {
          "layer": "above",
          "line": {
           "color": "gray",
           "width": 1
          },
          "type": "line",
          "x0": 0.5,
          "x1": 5.5,
          "xref": "x",
          "y0": 2,
          "y1": -5,
          "yref": "y"
         },
         {
          "layer": "above",
          "line": {
           "color": "gray",
           "width": 1
          },
          "type": "line",
          "x0": 0.5,
          "x1": 5.5,
          "xref": "x",
          "y0": 2,
          "y1": -3,
          "yref": "y"
         },
         {
          "layer": "above",
          "line": {
           "color": "gray",
           "width": 1
          },
          "type": "line",
          "x0": 0.5,
          "x1": 5.5,
          "xref": "x",
          "y0": 2,
          "y1": -1,
          "yref": "y"
         },
         {
          "layer": "above",
          "line": {
           "color": "gray",
           "width": 1
          },
          "type": "line",
          "x0": 0.5,
          "x1": 5.5,
          "xref": "x",
          "y0": 2,
          "y1": 1,
          "yref": "y"
         },
         {
          "layer": "above",
          "line": {
           "color": "gray",
           "width": 1
          },
          "type": "line",
          "x0": 0.5,
          "x1": 5.5,
          "xref": "x",
          "y0": 2,
          "y1": 3,
          "yref": "y"
         },
         {
          "layer": "above",
          "line": {
           "color": "gray",
           "width": 1
          },
          "type": "line",
          "x0": 0.5,
          "x1": 5.5,
          "xref": "x",
          "y0": 2,
          "y1": 5,
          "yref": "y"
         },
         {
          "layer": "above",
          "line": {
           "color": "gray",
           "width": 1
          },
          "type": "line",
          "x0": 0.5,
          "x1": 5.5,
          "xref": "x",
          "y0": 2,
          "y1": 7,
          "yref": "y"
         },
         {
          "layer": "above",
          "line": {
           "color": "gray",
           "width": 1
          },
          "type": "line",
          "x0": 0.5,
          "x1": 5.5,
          "xref": "x",
          "y0": 2,
          "y1": 9,
          "yref": "y"
         },
         {
          "layer": "above",
          "line": {
           "color": "gray",
           "width": 1
          },
          "type": "line",
          "x0": 5.5,
          "x1": 10.5,
          "xref": "x",
          "y0": -9,
          "y1": -10,
          "yref": "y"
         },
         {
          "layer": "above",
          "line": {
           "color": "gray",
           "width": 1
          },
          "type": "line",
          "x0": 5.5,
          "x1": 10.5,
          "xref": "x",
          "y0": -9,
          "y1": -8,
          "yref": "y"
         },
         {
          "layer": "above",
          "line": {
           "color": "gray",
           "width": 1
          },
          "type": "line",
          "x0": 5.5,
          "x1": 10.5,
          "xref": "x",
          "y0": -9,
          "y1": -6,
          "yref": "y"
         },
         {
          "layer": "above",
          "line": {
           "color": "gray",
           "width": 1
          },
          "type": "line",
          "x0": 5.5,
          "x1": 10.5,
          "xref": "x",
          "y0": -9,
          "y1": -4,
          "yref": "y"
         },
         {
          "layer": "above",
          "line": {
           "color": "gray",
           "width": 1
          },
          "type": "line",
          "x0": 5.5,
          "x1": 10.5,
          "xref": "x",
          "y0": -9,
          "y1": -2,
          "yref": "y"
         },
         {
          "layer": "above",
          "line": {
           "color": "gray",
           "width": 1
          },
          "type": "line",
          "x0": 5.5,
          "x1": 10.5,
          "xref": "x",
          "y0": -9,
          "y1": 0,
          "yref": "y"
         },
         {
          "layer": "above",
          "line": {
           "color": "gray",
           "width": 1
          },
          "type": "line",
          "x0": 5.5,
          "x1": 10.5,
          "xref": "x",
          "y0": -9,
          "y1": 2,
          "yref": "y"
         },
         {
          "layer": "above",
          "line": {
           "color": "gray",
           "width": 1
          },
          "type": "line",
          "x0": 5.5,
          "x1": 10.5,
          "xref": "x",
          "y0": -9,
          "y1": 4,
          "yref": "y"
         },
         {
          "layer": "above",
          "line": {
           "color": "gray",
           "width": 1
          },
          "type": "line",
          "x0": 5.5,
          "x1": 10.5,
          "xref": "x",
          "y0": -9,
          "y1": 6,
          "yref": "y"
         },
         {
          "layer": "above",
          "line": {
           "color": "gray",
           "width": 1
          },
          "type": "line",
          "x0": 5.5,
          "x1": 10.5,
          "xref": "x",
          "y0": -9,
          "y1": 8,
          "yref": "y"
         },
         {
          "layer": "above",
          "line": {
           "color": "gray",
           "width": 1
          },
          "type": "line",
          "x0": 5.5,
          "x1": 10.5,
          "xref": "x",
          "y0": -9,
          "y1": 10,
          "yref": "y"
         },
         {
          "layer": "above",
          "line": {
           "color": "gray",
           "width": 1
          },
          "type": "line",
          "x0": 5.5,
          "x1": 10.5,
          "xref": "x",
          "y0": -7,
          "y1": -10,
          "yref": "y"
         },
         {
          "layer": "above",
          "line": {
           "color": "gray",
           "width": 1
          },
          "type": "line",
          "x0": 5.5,
          "x1": 10.5,
          "xref": "x",
          "y0": -7,
          "y1": -8,
          "yref": "y"
         },
         {
          "layer": "above",
          "line": {
           "color": "gray",
           "width": 1
          },
          "type": "line",
          "x0": 5.5,
          "x1": 10.5,
          "xref": "x",
          "y0": -7,
          "y1": -6,
          "yref": "y"
         },
         {
          "layer": "above",
          "line": {
           "color": "gray",
           "width": 1
          },
          "type": "line",
          "x0": 5.5,
          "x1": 10.5,
          "xref": "x",
          "y0": -7,
          "y1": -4,
          "yref": "y"
         },
         {
          "layer": "above",
          "line": {
           "color": "gray",
           "width": 1
          },
          "type": "line",
          "x0": 5.5,
          "x1": 10.5,
          "xref": "x",
          "y0": -7,
          "y1": -2,
          "yref": "y"
         },
         {
          "layer": "above",
          "line": {
           "color": "gray",
           "width": 1
          },
          "type": "line",
          "x0": 5.5,
          "x1": 10.5,
          "xref": "x",
          "y0": -7,
          "y1": 0,
          "yref": "y"
         },
         {
          "layer": "above",
          "line": {
           "color": "gray",
           "width": 1
          },
          "type": "line",
          "x0": 5.5,
          "x1": 10.5,
          "xref": "x",
          "y0": -7,
          "y1": 2,
          "yref": "y"
         },
         {
          "layer": "above",
          "line": {
           "color": "gray",
           "width": 1
          },
          "type": "line",
          "x0": 5.5,
          "x1": 10.5,
          "xref": "x",
          "y0": -7,
          "y1": 4,
          "yref": "y"
         },
         {
          "layer": "above",
          "line": {
           "color": "gray",
           "width": 1
          },
          "type": "line",
          "x0": 5.5,
          "x1": 10.5,
          "xref": "x",
          "y0": -7,
          "y1": 6,
          "yref": "y"
         },
         {
          "layer": "above",
          "line": {
           "color": "gray",
           "width": 1
          },
          "type": "line",
          "x0": 5.5,
          "x1": 10.5,
          "xref": "x",
          "y0": -7,
          "y1": 8,
          "yref": "y"
         },
         {
          "layer": "above",
          "line": {
           "color": "gray",
           "width": 1
          },
          "type": "line",
          "x0": 5.5,
          "x1": 10.5,
          "xref": "x",
          "y0": -7,
          "y1": 10,
          "yref": "y"
         },
         {
          "layer": "above",
          "line": {
           "color": "gray",
           "width": 1
          },
          "type": "line",
          "x0": 5.5,
          "x1": 10.5,
          "xref": "x",
          "y0": -5,
          "y1": -10,
          "yref": "y"
         },
         {
          "layer": "above",
          "line": {
           "color": "gray",
           "width": 1
          },
          "type": "line",
          "x0": 5.5,
          "x1": 10.5,
          "xref": "x",
          "y0": -5,
          "y1": -8,
          "yref": "y"
         },
         {
          "layer": "above",
          "line": {
           "color": "gray",
           "width": 1
          },
          "type": "line",
          "x0": 5.5,
          "x1": 10.5,
          "xref": "x",
          "y0": -5,
          "y1": -6,
          "yref": "y"
         },
         {
          "layer": "above",
          "line": {
           "color": "gray",
           "width": 1
          },
          "type": "line",
          "x0": 5.5,
          "x1": 10.5,
          "xref": "x",
          "y0": -5,
          "y1": -4,
          "yref": "y"
         },
         {
          "layer": "above",
          "line": {
           "color": "gray",
           "width": 1
          },
          "type": "line",
          "x0": 5.5,
          "x1": 10.5,
          "xref": "x",
          "y0": -5,
          "y1": -2,
          "yref": "y"
         },
         {
          "layer": "above",
          "line": {
           "color": "gray",
           "width": 1
          },
          "type": "line",
          "x0": 5.5,
          "x1": 10.5,
          "xref": "x",
          "y0": -5,
          "y1": 0,
          "yref": "y"
         },
         {
          "layer": "above",
          "line": {
           "color": "gray",
           "width": 1
          },
          "type": "line",
          "x0": 5.5,
          "x1": 10.5,
          "xref": "x",
          "y0": -5,
          "y1": 2,
          "yref": "y"
         },
         {
          "layer": "above",
          "line": {
           "color": "gray",
           "width": 1
          },
          "type": "line",
          "x0": 5.5,
          "x1": 10.5,
          "xref": "x",
          "y0": -5,
          "y1": 4,
          "yref": "y"
         },
         {
          "layer": "above",
          "line": {
           "color": "gray",
           "width": 1
          },
          "type": "line",
          "x0": 5.5,
          "x1": 10.5,
          "xref": "x",
          "y0": -5,
          "y1": 6,
          "yref": "y"
         },
         {
          "layer": "above",
          "line": {
           "color": "gray",
           "width": 1
          },
          "type": "line",
          "x0": 5.5,
          "x1": 10.5,
          "xref": "x",
          "y0": -5,
          "y1": 8,
          "yref": "y"
         },
         {
          "layer": "above",
          "line": {
           "color": "gray",
           "width": 1
          },
          "type": "line",
          "x0": 5.5,
          "x1": 10.5,
          "xref": "x",
          "y0": -5,
          "y1": 10,
          "yref": "y"
         },
         {
          "layer": "above",
          "line": {
           "color": "gray",
           "width": 1
          },
          "type": "line",
          "x0": 5.5,
          "x1": 10.5,
          "xref": "x",
          "y0": -3,
          "y1": -10,
          "yref": "y"
         },
         {
          "layer": "above",
          "line": {
           "color": "gray",
           "width": 1
          },
          "type": "line",
          "x0": 5.5,
          "x1": 10.5,
          "xref": "x",
          "y0": -3,
          "y1": -8,
          "yref": "y"
         },
         {
          "layer": "above",
          "line": {
           "color": "gray",
           "width": 1
          },
          "type": "line",
          "x0": 5.5,
          "x1": 10.5,
          "xref": "x",
          "y0": -3,
          "y1": -6,
          "yref": "y"
         },
         {
          "layer": "above",
          "line": {
           "color": "gray",
           "width": 1
          },
          "type": "line",
          "x0": 5.5,
          "x1": 10.5,
          "xref": "x",
          "y0": -3,
          "y1": -4,
          "yref": "y"
         },
         {
          "layer": "above",
          "line": {
           "color": "gray",
           "width": 1
          },
          "type": "line",
          "x0": 5.5,
          "x1": 10.5,
          "xref": "x",
          "y0": -3,
          "y1": -2,
          "yref": "y"
         },
         {
          "layer": "above",
          "line": {
           "color": "gray",
           "width": 1
          },
          "type": "line",
          "x0": 5.5,
          "x1": 10.5,
          "xref": "x",
          "y0": -3,
          "y1": 0,
          "yref": "y"
         },
         {
          "layer": "above",
          "line": {
           "color": "gray",
           "width": 1
          },
          "type": "line",
          "x0": 5.5,
          "x1": 10.5,
          "xref": "x",
          "y0": -3,
          "y1": 2,
          "yref": "y"
         },
         {
          "layer": "above",
          "line": {
           "color": "gray",
           "width": 1
          },
          "type": "line",
          "x0": 5.5,
          "x1": 10.5,
          "xref": "x",
          "y0": -3,
          "y1": 4,
          "yref": "y"
         },
         {
          "layer": "above",
          "line": {
           "color": "gray",
           "width": 1
          },
          "type": "line",
          "x0": 5.5,
          "x1": 10.5,
          "xref": "x",
          "y0": -3,
          "y1": 6,
          "yref": "y"
         },
         {
          "layer": "above",
          "line": {
           "color": "gray",
           "width": 1
          },
          "type": "line",
          "x0": 5.5,
          "x1": 10.5,
          "xref": "x",
          "y0": -3,
          "y1": 8,
          "yref": "y"
         },
         {
          "layer": "above",
          "line": {
           "color": "gray",
           "width": 1
          },
          "type": "line",
          "x0": 5.5,
          "x1": 10.5,
          "xref": "x",
          "y0": -3,
          "y1": 10,
          "yref": "y"
         },
         {
          "layer": "above",
          "line": {
           "color": "gray",
           "width": 1
          },
          "type": "line",
          "x0": 5.5,
          "x1": 10.5,
          "xref": "x",
          "y0": -1,
          "y1": -10,
          "yref": "y"
         },
         {
          "layer": "above",
          "line": {
           "color": "gray",
           "width": 1
          },
          "type": "line",
          "x0": 5.5,
          "x1": 10.5,
          "xref": "x",
          "y0": -1,
          "y1": -8,
          "yref": "y"
         },
         {
          "layer": "above",
          "line": {
           "color": "gray",
           "width": 1
          },
          "type": "line",
          "x0": 5.5,
          "x1": 10.5,
          "xref": "x",
          "y0": -1,
          "y1": -6,
          "yref": "y"
         },
         {
          "layer": "above",
          "line": {
           "color": "gray",
           "width": 1
          },
          "type": "line",
          "x0": 5.5,
          "x1": 10.5,
          "xref": "x",
          "y0": -1,
          "y1": -4,
          "yref": "y"
         },
         {
          "layer": "above",
          "line": {
           "color": "gray",
           "width": 1
          },
          "type": "line",
          "x0": 5.5,
          "x1": 10.5,
          "xref": "x",
          "y0": -1,
          "y1": -2,
          "yref": "y"
         },
         {
          "layer": "above",
          "line": {
           "color": "gray",
           "width": 1
          },
          "type": "line",
          "x0": 5.5,
          "x1": 10.5,
          "xref": "x",
          "y0": -1,
          "y1": 0,
          "yref": "y"
         },
         {
          "layer": "above",
          "line": {
           "color": "gray",
           "width": 1
          },
          "type": "line",
          "x0": 5.5,
          "x1": 10.5,
          "xref": "x",
          "y0": -1,
          "y1": 2,
          "yref": "y"
         },
         {
          "layer": "above",
          "line": {
           "color": "gray",
           "width": 1
          },
          "type": "line",
          "x0": 5.5,
          "x1": 10.5,
          "xref": "x",
          "y0": -1,
          "y1": 4,
          "yref": "y"
         },
         {
          "layer": "above",
          "line": {
           "color": "gray",
           "width": 1
          },
          "type": "line",
          "x0": 5.5,
          "x1": 10.5,
          "xref": "x",
          "y0": -1,
          "y1": 6,
          "yref": "y"
         },
         {
          "layer": "above",
          "line": {
           "color": "gray",
           "width": 1
          },
          "type": "line",
          "x0": 5.5,
          "x1": 10.5,
          "xref": "x",
          "y0": -1,
          "y1": 8,
          "yref": "y"
         },
         {
          "layer": "above",
          "line": {
           "color": "gray",
           "width": 1
          },
          "type": "line",
          "x0": 5.5,
          "x1": 10.5,
          "xref": "x",
          "y0": -1,
          "y1": 10,
          "yref": "y"
         },
         {
          "layer": "above",
          "line": {
           "color": "gray",
           "width": 1
          },
          "type": "line",
          "x0": 5.5,
          "x1": 10.5,
          "xref": "x",
          "y0": 1,
          "y1": -10,
          "yref": "y"
         },
         {
          "layer": "above",
          "line": {
           "color": "gray",
           "width": 1
          },
          "type": "line",
          "x0": 5.5,
          "x1": 10.5,
          "xref": "x",
          "y0": 1,
          "y1": -8,
          "yref": "y"
         },
         {
          "layer": "above",
          "line": {
           "color": "gray",
           "width": 1
          },
          "type": "line",
          "x0": 5.5,
          "x1": 10.5,
          "xref": "x",
          "y0": 1,
          "y1": -6,
          "yref": "y"
         },
         {
          "layer": "above",
          "line": {
           "color": "gray",
           "width": 1
          },
          "type": "line",
          "x0": 5.5,
          "x1": 10.5,
          "xref": "x",
          "y0": 1,
          "y1": -4,
          "yref": "y"
         },
         {
          "layer": "above",
          "line": {
           "color": "gray",
           "width": 1
          },
          "type": "line",
          "x0": 5.5,
          "x1": 10.5,
          "xref": "x",
          "y0": 1,
          "y1": -2,
          "yref": "y"
         },
         {
          "layer": "above",
          "line": {
           "color": "gray",
           "width": 1
          },
          "type": "line",
          "x0": 5.5,
          "x1": 10.5,
          "xref": "x",
          "y0": 1,
          "y1": 0,
          "yref": "y"
         },
         {
          "layer": "above",
          "line": {
           "color": "gray",
           "width": 1
          },
          "type": "line",
          "x0": 5.5,
          "x1": 10.5,
          "xref": "x",
          "y0": 1,
          "y1": 2,
          "yref": "y"
         },
         {
          "layer": "above",
          "line": {
           "color": "gray",
           "width": 1
          },
          "type": "line",
          "x0": 5.5,
          "x1": 10.5,
          "xref": "x",
          "y0": 1,
          "y1": 4,
          "yref": "y"
         },
         {
          "layer": "above",
          "line": {
           "color": "gray",
           "width": 1
          },
          "type": "line",
          "x0": 5.5,
          "x1": 10.5,
          "xref": "x",
          "y0": 1,
          "y1": 6,
          "yref": "y"
         },
         {
          "layer": "above",
          "line": {
           "color": "gray",
           "width": 1
          },
          "type": "line",
          "x0": 5.5,
          "x1": 10.5,
          "xref": "x",
          "y0": 1,
          "y1": 8,
          "yref": "y"
         },
         {
          "layer": "above",
          "line": {
           "color": "gray",
           "width": 1
          },
          "type": "line",
          "x0": 5.5,
          "x1": 10.5,
          "xref": "x",
          "y0": 1,
          "y1": 10,
          "yref": "y"
         },
         {
          "layer": "above",
          "line": {
           "color": "gray",
           "width": 1
          },
          "type": "line",
          "x0": 5.5,
          "x1": 10.5,
          "xref": "x",
          "y0": 3,
          "y1": -10,
          "yref": "y"
         },
         {
          "layer": "above",
          "line": {
           "color": "gray",
           "width": 1
          },
          "type": "line",
          "x0": 5.5,
          "x1": 10.5,
          "xref": "x",
          "y0": 3,
          "y1": -8,
          "yref": "y"
         },
         {
          "layer": "above",
          "line": {
           "color": "gray",
           "width": 1
          },
          "type": "line",
          "x0": 5.5,
          "x1": 10.5,
          "xref": "x",
          "y0": 3,
          "y1": -6,
          "yref": "y"
         },
         {
          "layer": "above",
          "line": {
           "color": "gray",
           "width": 1
          },
          "type": "line",
          "x0": 5.5,
          "x1": 10.5,
          "xref": "x",
          "y0": 3,
          "y1": -4,
          "yref": "y"
         },
         {
          "layer": "above",
          "line": {
           "color": "gray",
           "width": 1
          },
          "type": "line",
          "x0": 5.5,
          "x1": 10.5,
          "xref": "x",
          "y0": 3,
          "y1": -2,
          "yref": "y"
         },
         {
          "layer": "above",
          "line": {
           "color": "gray",
           "width": 1
          },
          "type": "line",
          "x0": 5.5,
          "x1": 10.5,
          "xref": "x",
          "y0": 3,
          "y1": 0,
          "yref": "y"
         },
         {
          "layer": "above",
          "line": {
           "color": "gray",
           "width": 1
          },
          "type": "line",
          "x0": 5.5,
          "x1": 10.5,
          "xref": "x",
          "y0": 3,
          "y1": 2,
          "yref": "y"
         },
         {
          "layer": "above",
          "line": {
           "color": "gray",
           "width": 1
          },
          "type": "line",
          "x0": 5.5,
          "x1": 10.5,
          "xref": "x",
          "y0": 3,
          "y1": 4,
          "yref": "y"
         },
         {
          "layer": "above",
          "line": {
           "color": "gray",
           "width": 1
          },
          "type": "line",
          "x0": 5.5,
          "x1": 10.5,
          "xref": "x",
          "y0": 3,
          "y1": 6,
          "yref": "y"
         },
         {
          "layer": "above",
          "line": {
           "color": "gray",
           "width": 1
          },
          "type": "line",
          "x0": 5.5,
          "x1": 10.5,
          "xref": "x",
          "y0": 3,
          "y1": 8,
          "yref": "y"
         },
         {
          "layer": "above",
          "line": {
           "color": "gray",
           "width": 1
          },
          "type": "line",
          "x0": 5.5,
          "x1": 10.5,
          "xref": "x",
          "y0": 3,
          "y1": 10,
          "yref": "y"
         },
         {
          "layer": "above",
          "line": {
           "color": "gray",
           "width": 1
          },
          "type": "line",
          "x0": 5.5,
          "x1": 10.5,
          "xref": "x",
          "y0": 5,
          "y1": -10,
          "yref": "y"
         },
         {
          "layer": "above",
          "line": {
           "color": "gray",
           "width": 1
          },
          "type": "line",
          "x0": 5.5,
          "x1": 10.5,
          "xref": "x",
          "y0": 5,
          "y1": -8,
          "yref": "y"
         },
         {
          "layer": "above",
          "line": {
           "color": "gray",
           "width": 1
          },
          "type": "line",
          "x0": 5.5,
          "x1": 10.5,
          "xref": "x",
          "y0": 5,
          "y1": -6,
          "yref": "y"
         },
         {
          "layer": "above",
          "line": {
           "color": "gray",
           "width": 1
          },
          "type": "line",
          "x0": 5.5,
          "x1": 10.5,
          "xref": "x",
          "y0": 5,
          "y1": -4,
          "yref": "y"
         },
         {
          "layer": "above",
          "line": {
           "color": "gray",
           "width": 1
          },
          "type": "line",
          "x0": 5.5,
          "x1": 10.5,
          "xref": "x",
          "y0": 5,
          "y1": -2,
          "yref": "y"
         },
         {
          "layer": "above",
          "line": {
           "color": "gray",
           "width": 1
          },
          "type": "line",
          "x0": 5.5,
          "x1": 10.5,
          "xref": "x",
          "y0": 5,
          "y1": 0,
          "yref": "y"
         },
         {
          "layer": "above",
          "line": {
           "color": "gray",
           "width": 1
          },
          "type": "line",
          "x0": 5.5,
          "x1": 10.5,
          "xref": "x",
          "y0": 5,
          "y1": 2,
          "yref": "y"
         },
         {
          "layer": "above",
          "line": {
           "color": "gray",
           "width": 1
          },
          "type": "line",
          "x0": 5.5,
          "x1": 10.5,
          "xref": "x",
          "y0": 5,
          "y1": 4,
          "yref": "y"
         },
         {
          "layer": "above",
          "line": {
           "color": "gray",
           "width": 1
          },
          "type": "line",
          "x0": 5.5,
          "x1": 10.5,
          "xref": "x",
          "y0": 5,
          "y1": 6,
          "yref": "y"
         },
         {
          "layer": "above",
          "line": {
           "color": "gray",
           "width": 1
          },
          "type": "line",
          "x0": 5.5,
          "x1": 10.5,
          "xref": "x",
          "y0": 5,
          "y1": 8,
          "yref": "y"
         },
         {
          "layer": "above",
          "line": {
           "color": "gray",
           "width": 1
          },
          "type": "line",
          "x0": 5.5,
          "x1": 10.5,
          "xref": "x",
          "y0": 5,
          "y1": 10,
          "yref": "y"
         },
         {
          "layer": "above",
          "line": {
           "color": "gray",
           "width": 1
          },
          "type": "line",
          "x0": 5.5,
          "x1": 10.5,
          "xref": "x",
          "y0": 7,
          "y1": -10,
          "yref": "y"
         },
         {
          "layer": "above",
          "line": {
           "color": "gray",
           "width": 1
          },
          "type": "line",
          "x0": 5.5,
          "x1": 10.5,
          "xref": "x",
          "y0": 7,
          "y1": -8,
          "yref": "y"
         },
         {
          "layer": "above",
          "line": {
           "color": "gray",
           "width": 1
          },
          "type": "line",
          "x0": 5.5,
          "x1": 10.5,
          "xref": "x",
          "y0": 7,
          "y1": -6,
          "yref": "y"
         },
         {
          "layer": "above",
          "line": {
           "color": "gray",
           "width": 1
          },
          "type": "line",
          "x0": 5.5,
          "x1": 10.5,
          "xref": "x",
          "y0": 7,
          "y1": -4,
          "yref": "y"
         },
         {
          "layer": "above",
          "line": {
           "color": "gray",
           "width": 1
          },
          "type": "line",
          "x0": 5.5,
          "x1": 10.5,
          "xref": "x",
          "y0": 7,
          "y1": -2,
          "yref": "y"
         },
         {
          "layer": "above",
          "line": {
           "color": "gray",
           "width": 1
          },
          "type": "line",
          "x0": 5.5,
          "x1": 10.5,
          "xref": "x",
          "y0": 7,
          "y1": 0,
          "yref": "y"
         },
         {
          "layer": "above",
          "line": {
           "color": "gray",
           "width": 1
          },
          "type": "line",
          "x0": 5.5,
          "x1": 10.5,
          "xref": "x",
          "y0": 7,
          "y1": 2,
          "yref": "y"
         },
         {
          "layer": "above",
          "line": {
           "color": "gray",
           "width": 1
          },
          "type": "line",
          "x0": 5.5,
          "x1": 10.5,
          "xref": "x",
          "y0": 7,
          "y1": 4,
          "yref": "y"
         },
         {
          "layer": "above",
          "line": {
           "color": "gray",
           "width": 1
          },
          "type": "line",
          "x0": 5.5,
          "x1": 10.5,
          "xref": "x",
          "y0": 7,
          "y1": 6,
          "yref": "y"
         },
         {
          "layer": "above",
          "line": {
           "color": "gray",
           "width": 1
          },
          "type": "line",
          "x0": 5.5,
          "x1": 10.5,
          "xref": "x",
          "y0": 7,
          "y1": 8,
          "yref": "y"
         },
         {
          "layer": "above",
          "line": {
           "color": "gray",
           "width": 1
          },
          "type": "line",
          "x0": 5.5,
          "x1": 10.5,
          "xref": "x",
          "y0": 7,
          "y1": 10,
          "yref": "y"
         },
         {
          "layer": "above",
          "line": {
           "color": "gray",
           "width": 1
          },
          "type": "line",
          "x0": 5.5,
          "x1": 10.5,
          "xref": "x",
          "y0": 9,
          "y1": -10,
          "yref": "y"
         },
         {
          "layer": "above",
          "line": {
           "color": "gray",
           "width": 1
          },
          "type": "line",
          "x0": 5.5,
          "x1": 10.5,
          "xref": "x",
          "y0": 9,
          "y1": -8,
          "yref": "y"
         },
         {
          "layer": "above",
          "line": {
           "color": "gray",
           "width": 1
          },
          "type": "line",
          "x0": 5.5,
          "x1": 10.5,
          "xref": "x",
          "y0": 9,
          "y1": -6,
          "yref": "y"
         },
         {
          "layer": "above",
          "line": {
           "color": "gray",
           "width": 1
          },
          "type": "line",
          "x0": 5.5,
          "x1": 10.5,
          "xref": "x",
          "y0": 9,
          "y1": -4,
          "yref": "y"
         },
         {
          "layer": "above",
          "line": {
           "color": "gray",
           "width": 1
          },
          "type": "line",
          "x0": 5.5,
          "x1": 10.5,
          "xref": "x",
          "y0": 9,
          "y1": -2,
          "yref": "y"
         },
         {
          "layer": "above",
          "line": {
           "color": "gray",
           "width": 1
          },
          "type": "line",
          "x0": 5.5,
          "x1": 10.5,
          "xref": "x",
          "y0": 9,
          "y1": 0,
          "yref": "y"
         },
         {
          "layer": "above",
          "line": {
           "color": "gray",
           "width": 1
          },
          "type": "line",
          "x0": 5.5,
          "x1": 10.5,
          "xref": "x",
          "y0": 9,
          "y1": 2,
          "yref": "y"
         },
         {
          "layer": "above",
          "line": {
           "color": "gray",
           "width": 1
          },
          "type": "line",
          "x0": 5.5,
          "x1": 10.5,
          "xref": "x",
          "y0": 9,
          "y1": 4,
          "yref": "y"
         },
         {
          "layer": "above",
          "line": {
           "color": "gray",
           "width": 1
          },
          "type": "line",
          "x0": 5.5,
          "x1": 10.5,
          "xref": "x",
          "y0": 9,
          "y1": 6,
          "yref": "y"
         },
         {
          "layer": "above",
          "line": {
           "color": "gray",
           "width": 1
          },
          "type": "line",
          "x0": 5.5,
          "x1": 10.5,
          "xref": "x",
          "y0": 9,
          "y1": 8,
          "yref": "y"
         },
         {
          "layer": "above",
          "line": {
           "color": "gray",
           "width": 1
          },
          "type": "line",
          "x0": 5.5,
          "x1": 10.5,
          "xref": "x",
          "y0": 9,
          "y1": 10,
          "yref": "y"
         },
         {
          "layer": "above",
          "line": {
           "color": "gray",
           "width": 1
          },
          "type": "line",
          "x0": 10.5,
          "x1": 15.5,
          "xref": "x",
          "y0": -10,
          "y1": -10,
          "yref": "y"
         },
         {
          "layer": "above",
          "line": {
           "color": "gray",
           "width": 1
          },
          "type": "line",
          "x0": 10.5,
          "x1": 15.5,
          "xref": "x",
          "y0": -10,
          "y1": -8,
          "yref": "y"
         },
         {
          "layer": "above",
          "line": {
           "color": "gray",
           "width": 1
          },
          "type": "line",
          "x0": 10.5,
          "x1": 15.5,
          "xref": "x",
          "y0": -10,
          "y1": -6,
          "yref": "y"
         },
         {
          "layer": "above",
          "line": {
           "color": "gray",
           "width": 1
          },
          "type": "line",
          "x0": 10.5,
          "x1": 15.5,
          "xref": "x",
          "y0": -10,
          "y1": -4,
          "yref": "y"
         },
         {
          "layer": "above",
          "line": {
           "color": "gray",
           "width": 1
          },
          "type": "line",
          "x0": 10.5,
          "x1": 15.5,
          "xref": "x",
          "y0": -10,
          "y1": -2,
          "yref": "y"
         },
         {
          "layer": "above",
          "line": {
           "color": "gray",
           "width": 1
          },
          "type": "line",
          "x0": 10.5,
          "x1": 15.5,
          "xref": "x",
          "y0": -10,
          "y1": 2,
          "yref": "y"
         },
         {
          "layer": "above",
          "line": {
           "color": "gray",
           "width": 1
          },
          "type": "line",
          "x0": 10.5,
          "x1": 15.5,
          "xref": "x",
          "y0": -10,
          "y1": 4,
          "yref": "y"
         },
         {
          "layer": "above",
          "line": {
           "color": "gray",
           "width": 1
          },
          "type": "line",
          "x0": 10.5,
          "x1": 15.5,
          "xref": "x",
          "y0": -10,
          "y1": 6,
          "yref": "y"
         },
         {
          "layer": "above",
          "line": {
           "color": "gray",
           "width": 1
          },
          "type": "line",
          "x0": 10.5,
          "x1": 15.5,
          "xref": "x",
          "y0": -10,
          "y1": 8,
          "yref": "y"
         },
         {
          "layer": "above",
          "line": {
           "color": "gray",
           "width": 1
          },
          "type": "line",
          "x0": 10.5,
          "x1": 15.5,
          "xref": "x",
          "y0": -10,
          "y1": 10,
          "yref": "y"
         },
         {
          "layer": "above",
          "line": {
           "color": "gray",
           "width": 1
          },
          "type": "line",
          "x0": 10.5,
          "x1": 15.5,
          "xref": "x",
          "y0": -8,
          "y1": -10,
          "yref": "y"
         },
         {
          "layer": "above",
          "line": {
           "color": "gray",
           "width": 1
          },
          "type": "line",
          "x0": 10.5,
          "x1": 15.5,
          "xref": "x",
          "y0": -8,
          "y1": -8,
          "yref": "y"
         },
         {
          "layer": "above",
          "line": {
           "color": "gray",
           "width": 1
          },
          "type": "line",
          "x0": 10.5,
          "x1": 15.5,
          "xref": "x",
          "y0": -8,
          "y1": -6,
          "yref": "y"
         },
         {
          "layer": "above",
          "line": {
           "color": "gray",
           "width": 1
          },
          "type": "line",
          "x0": 10.5,
          "x1": 15.5,
          "xref": "x",
          "y0": -8,
          "y1": -4,
          "yref": "y"
         },
         {
          "layer": "above",
          "line": {
           "color": "gray",
           "width": 1
          },
          "type": "line",
          "x0": 10.5,
          "x1": 15.5,
          "xref": "x",
          "y0": -8,
          "y1": -2,
          "yref": "y"
         },
         {
          "layer": "above",
          "line": {
           "color": "gray",
           "width": 1
          },
          "type": "line",
          "x0": 10.5,
          "x1": 15.5,
          "xref": "x",
          "y0": -8,
          "y1": 2,
          "yref": "y"
         },
         {
          "layer": "above",
          "line": {
           "color": "gray",
           "width": 1
          },
          "type": "line",
          "x0": 10.5,
          "x1": 15.5,
          "xref": "x",
          "y0": -8,
          "y1": 4,
          "yref": "y"
         },
         {
          "layer": "above",
          "line": {
           "color": "gray",
           "width": 1
          },
          "type": "line",
          "x0": 10.5,
          "x1": 15.5,
          "xref": "x",
          "y0": -8,
          "y1": 6,
          "yref": "y"
         },
         {
          "layer": "above",
          "line": {
           "color": "gray",
           "width": 1
          },
          "type": "line",
          "x0": 10.5,
          "x1": 15.5,
          "xref": "x",
          "y0": -8,
          "y1": 8,
          "yref": "y"
         },
         {
          "layer": "above",
          "line": {
           "color": "gray",
           "width": 1
          },
          "type": "line",
          "x0": 10.5,
          "x1": 15.5,
          "xref": "x",
          "y0": -8,
          "y1": 10,
          "yref": "y"
         },
         {
          "layer": "above",
          "line": {
           "color": "gray",
           "width": 1
          },
          "type": "line",
          "x0": 10.5,
          "x1": 15.5,
          "xref": "x",
          "y0": -6,
          "y1": -10,
          "yref": "y"
         },
         {
          "layer": "above",
          "line": {
           "color": "gray",
           "width": 1
          },
          "type": "line",
          "x0": 10.5,
          "x1": 15.5,
          "xref": "x",
          "y0": -6,
          "y1": -8,
          "yref": "y"
         },
         {
          "layer": "above",
          "line": {
           "color": "gray",
           "width": 1
          },
          "type": "line",
          "x0": 10.5,
          "x1": 15.5,
          "xref": "x",
          "y0": -6,
          "y1": -6,
          "yref": "y"
         },
         {
          "layer": "above",
          "line": {
           "color": "gray",
           "width": 1
          },
          "type": "line",
          "x0": 10.5,
          "x1": 15.5,
          "xref": "x",
          "y0": -6,
          "y1": -4,
          "yref": "y"
         },
         {
          "layer": "above",
          "line": {
           "color": "gray",
           "width": 1
          },
          "type": "line",
          "x0": 10.5,
          "x1": 15.5,
          "xref": "x",
          "y0": -6,
          "y1": -2,
          "yref": "y"
         },
         {
          "layer": "above",
          "line": {
           "color": "gray",
           "width": 1
          },
          "type": "line",
          "x0": 10.5,
          "x1": 15.5,
          "xref": "x",
          "y0": -6,
          "y1": 2,
          "yref": "y"
         },
         {
          "layer": "above",
          "line": {
           "color": "gray",
           "width": 1
          },
          "type": "line",
          "x0": 10.5,
          "x1": 15.5,
          "xref": "x",
          "y0": -6,
          "y1": 4,
          "yref": "y"
         },
         {
          "layer": "above",
          "line": {
           "color": "gray",
           "width": 1
          },
          "type": "line",
          "x0": 10.5,
          "x1": 15.5,
          "xref": "x",
          "y0": -6,
          "y1": 6,
          "yref": "y"
         },
         {
          "layer": "above",
          "line": {
           "color": "gray",
           "width": 1
          },
          "type": "line",
          "x0": 10.5,
          "x1": 15.5,
          "xref": "x",
          "y0": -6,
          "y1": 8,
          "yref": "y"
         },
         {
          "layer": "above",
          "line": {
           "color": "gray",
           "width": 1
          },
          "type": "line",
          "x0": 10.5,
          "x1": 15.5,
          "xref": "x",
          "y0": -6,
          "y1": 10,
          "yref": "y"
         },
         {
          "layer": "above",
          "line": {
           "color": "gray",
           "width": 1
          },
          "type": "line",
          "x0": 10.5,
          "x1": 15.5,
          "xref": "x",
          "y0": -4,
          "y1": -10,
          "yref": "y"
         },
         {
          "layer": "above",
          "line": {
           "color": "gray",
           "width": 1
          },
          "type": "line",
          "x0": 10.5,
          "x1": 15.5,
          "xref": "x",
          "y0": -4,
          "y1": -8,
          "yref": "y"
         },
         {
          "layer": "above",
          "line": {
           "color": "gray",
           "width": 1
          },
          "type": "line",
          "x0": 10.5,
          "x1": 15.5,
          "xref": "x",
          "y0": -4,
          "y1": -6,
          "yref": "y"
         },
         {
          "layer": "above",
          "line": {
           "color": "gray",
           "width": 1
          },
          "type": "line",
          "x0": 10.5,
          "x1": 15.5,
          "xref": "x",
          "y0": -4,
          "y1": -4,
          "yref": "y"
         },
         {
          "layer": "above",
          "line": {
           "color": "gray",
           "width": 1
          },
          "type": "line",
          "x0": 10.5,
          "x1": 15.5,
          "xref": "x",
          "y0": -4,
          "y1": -2,
          "yref": "y"
         },
         {
          "layer": "above",
          "line": {
           "color": "gray",
           "width": 1
          },
          "type": "line",
          "x0": 10.5,
          "x1": 15.5,
          "xref": "x",
          "y0": -4,
          "y1": 2,
          "yref": "y"
         },
         {
          "layer": "above",
          "line": {
           "color": "gray",
           "width": 1
          },
          "type": "line",
          "x0": 10.5,
          "x1": 15.5,
          "xref": "x",
          "y0": -4,
          "y1": 4,
          "yref": "y"
         },
         {
          "layer": "above",
          "line": {
           "color": "gray",
           "width": 1
          },
          "type": "line",
          "x0": 10.5,
          "x1": 15.5,
          "xref": "x",
          "y0": -4,
          "y1": 6,
          "yref": "y"
         },
         {
          "layer": "above",
          "line": {
           "color": "gray",
           "width": 1
          },
          "type": "line",
          "x0": 10.5,
          "x1": 15.5,
          "xref": "x",
          "y0": -4,
          "y1": 8,
          "yref": "y"
         },
         {
          "layer": "above",
          "line": {
           "color": "gray",
           "width": 1
          },
          "type": "line",
          "x0": 10.5,
          "x1": 15.5,
          "xref": "x",
          "y0": -4,
          "y1": 10,
          "yref": "y"
         },
         {
          "layer": "above",
          "line": {
           "color": "gray",
           "width": 1
          },
          "type": "line",
          "x0": 10.5,
          "x1": 15.5,
          "xref": "x",
          "y0": -2,
          "y1": -10,
          "yref": "y"
         },
         {
          "layer": "above",
          "line": {
           "color": "gray",
           "width": 1
          },
          "type": "line",
          "x0": 10.5,
          "x1": 15.5,
          "xref": "x",
          "y0": -2,
          "y1": -8,
          "yref": "y"
         },
         {
          "layer": "above",
          "line": {
           "color": "gray",
           "width": 1
          },
          "type": "line",
          "x0": 10.5,
          "x1": 15.5,
          "xref": "x",
          "y0": -2,
          "y1": -6,
          "yref": "y"
         },
         {
          "layer": "above",
          "line": {
           "color": "gray",
           "width": 1
          },
          "type": "line",
          "x0": 10.5,
          "x1": 15.5,
          "xref": "x",
          "y0": -2,
          "y1": -4,
          "yref": "y"
         },
         {
          "layer": "above",
          "line": {
           "color": "gray",
           "width": 1
          },
          "type": "line",
          "x0": 10.5,
          "x1": 15.5,
          "xref": "x",
          "y0": -2,
          "y1": -2,
          "yref": "y"
         },
         {
          "layer": "above",
          "line": {
           "color": "gray",
           "width": 1
          },
          "type": "line",
          "x0": 10.5,
          "x1": 15.5,
          "xref": "x",
          "y0": -2,
          "y1": 2,
          "yref": "y"
         },
         {
          "layer": "above",
          "line": {
           "color": "gray",
           "width": 1
          },
          "type": "line",
          "x0": 10.5,
          "x1": 15.5,
          "xref": "x",
          "y0": -2,
          "y1": 4,
          "yref": "y"
         },
         {
          "layer": "above",
          "line": {
           "color": "gray",
           "width": 1
          },
          "type": "line",
          "x0": 10.5,
          "x1": 15.5,
          "xref": "x",
          "y0": -2,
          "y1": 6,
          "yref": "y"
         },
         {
          "layer": "above",
          "line": {
           "color": "gray",
           "width": 1
          },
          "type": "line",
          "x0": 10.5,
          "x1": 15.5,
          "xref": "x",
          "y0": -2,
          "y1": 8,
          "yref": "y"
         },
         {
          "layer": "above",
          "line": {
           "color": "gray",
           "width": 1
          },
          "type": "line",
          "x0": 10.5,
          "x1": 15.5,
          "xref": "x",
          "y0": -2,
          "y1": 10,
          "yref": "y"
         },
         {
          "layer": "above",
          "line": {
           "color": "gray",
           "width": 1
          },
          "type": "line",
          "x0": 10.5,
          "x1": 15.5,
          "xref": "x",
          "y0": 0,
          "y1": -10,
          "yref": "y"
         },
         {
          "layer": "above",
          "line": {
           "color": "gray",
           "width": 1
          },
          "type": "line",
          "x0": 10.5,
          "x1": 15.5,
          "xref": "x",
          "y0": 0,
          "y1": -8,
          "yref": "y"
         },
         {
          "layer": "above",
          "line": {
           "color": "gray",
           "width": 1
          },
          "type": "line",
          "x0": 10.5,
          "x1": 15.5,
          "xref": "x",
          "y0": 0,
          "y1": -6,
          "yref": "y"
         },
         {
          "layer": "above",
          "line": {
           "color": "gray",
           "width": 1
          },
          "type": "line",
          "x0": 10.5,
          "x1": 15.5,
          "xref": "x",
          "y0": 0,
          "y1": -4,
          "yref": "y"
         },
         {
          "layer": "above",
          "line": {
           "color": "gray",
           "width": 1
          },
          "type": "line",
          "x0": 10.5,
          "x1": 15.5,
          "xref": "x",
          "y0": 0,
          "y1": -2,
          "yref": "y"
         },
         {
          "layer": "above",
          "line": {
           "color": "gray",
           "width": 1
          },
          "type": "line",
          "x0": 10.5,
          "x1": 15.5,
          "xref": "x",
          "y0": 0,
          "y1": 2,
          "yref": "y"
         },
         {
          "layer": "above",
          "line": {
           "color": "gray",
           "width": 1
          },
          "type": "line",
          "x0": 10.5,
          "x1": 15.5,
          "xref": "x",
          "y0": 0,
          "y1": 4,
          "yref": "y"
         },
         {
          "layer": "above",
          "line": {
           "color": "gray",
           "width": 1
          },
          "type": "line",
          "x0": 10.5,
          "x1": 15.5,
          "xref": "x",
          "y0": 0,
          "y1": 6,
          "yref": "y"
         },
         {
          "layer": "above",
          "line": {
           "color": "gray",
           "width": 1
          },
          "type": "line",
          "x0": 10.5,
          "x1": 15.5,
          "xref": "x",
          "y0": 0,
          "y1": 8,
          "yref": "y"
         },
         {
          "layer": "above",
          "line": {
           "color": "gray",
           "width": 1
          },
          "type": "line",
          "x0": 10.5,
          "x1": 15.5,
          "xref": "x",
          "y0": 0,
          "y1": 10,
          "yref": "y"
         },
         {
          "layer": "above",
          "line": {
           "color": "gray",
           "width": 1
          },
          "type": "line",
          "x0": 10.5,
          "x1": 15.5,
          "xref": "x",
          "y0": 2,
          "y1": -10,
          "yref": "y"
         },
         {
          "layer": "above",
          "line": {
           "color": "gray",
           "width": 1
          },
          "type": "line",
          "x0": 10.5,
          "x1": 15.5,
          "xref": "x",
          "y0": 2,
          "y1": -8,
          "yref": "y"
         },
         {
          "layer": "above",
          "line": {
           "color": "gray",
           "width": 1
          },
          "type": "line",
          "x0": 10.5,
          "x1": 15.5,
          "xref": "x",
          "y0": 2,
          "y1": -6,
          "yref": "y"
         },
         {
          "layer": "above",
          "line": {
           "color": "gray",
           "width": 1
          },
          "type": "line",
          "x0": 10.5,
          "x1": 15.5,
          "xref": "x",
          "y0": 2,
          "y1": -4,
          "yref": "y"
         },
         {
          "layer": "above",
          "line": {
           "color": "gray",
           "width": 1
          },
          "type": "line",
          "x0": 10.5,
          "x1": 15.5,
          "xref": "x",
          "y0": 2,
          "y1": -2,
          "yref": "y"
         },
         {
          "layer": "above",
          "line": {
           "color": "gray",
           "width": 1
          },
          "type": "line",
          "x0": 10.5,
          "x1": 15.5,
          "xref": "x",
          "y0": 2,
          "y1": 2,
          "yref": "y"
         },
         {
          "layer": "above",
          "line": {
           "color": "gray",
           "width": 1
          },
          "type": "line",
          "x0": 10.5,
          "x1": 15.5,
          "xref": "x",
          "y0": 2,
          "y1": 4,
          "yref": "y"
         },
         {
          "layer": "above",
          "line": {
           "color": "gray",
           "width": 1
          },
          "type": "line",
          "x0": 10.5,
          "x1": 15.5,
          "xref": "x",
          "y0": 2,
          "y1": 6,
          "yref": "y"
         },
         {
          "layer": "above",
          "line": {
           "color": "gray",
           "width": 1
          },
          "type": "line",
          "x0": 10.5,
          "x1": 15.5,
          "xref": "x",
          "y0": 2,
          "y1": 8,
          "yref": "y"
         },
         {
          "layer": "above",
          "line": {
           "color": "gray",
           "width": 1
          },
          "type": "line",
          "x0": 10.5,
          "x1": 15.5,
          "xref": "x",
          "y0": 2,
          "y1": 10,
          "yref": "y"
         },
         {
          "layer": "above",
          "line": {
           "color": "gray",
           "width": 1
          },
          "type": "line",
          "x0": 10.5,
          "x1": 15.5,
          "xref": "x",
          "y0": 4,
          "y1": -10,
          "yref": "y"
         },
         {
          "layer": "above",
          "line": {
           "color": "gray",
           "width": 1
          },
          "type": "line",
          "x0": 10.5,
          "x1": 15.5,
          "xref": "x",
          "y0": 4,
          "y1": -8,
          "yref": "y"
         },
         {
          "layer": "above",
          "line": {
           "color": "gray",
           "width": 1
          },
          "type": "line",
          "x0": 10.5,
          "x1": 15.5,
          "xref": "x",
          "y0": 4,
          "y1": -6,
          "yref": "y"
         },
         {
          "layer": "above",
          "line": {
           "color": "gray",
           "width": 1
          },
          "type": "line",
          "x0": 10.5,
          "x1": 15.5,
          "xref": "x",
          "y0": 4,
          "y1": -4,
          "yref": "y"
         },
         {
          "layer": "above",
          "line": {
           "color": "gray",
           "width": 1
          },
          "type": "line",
          "x0": 10.5,
          "x1": 15.5,
          "xref": "x",
          "y0": 4,
          "y1": -2,
          "yref": "y"
         },
         {
          "layer": "above",
          "line": {
           "color": "gray",
           "width": 1
          },
          "type": "line",
          "x0": 10.5,
          "x1": 15.5,
          "xref": "x",
          "y0": 4,
          "y1": 2,
          "yref": "y"
         },
         {
          "layer": "above",
          "line": {
           "color": "gray",
           "width": 1
          },
          "type": "line",
          "x0": 10.5,
          "x1": 15.5,
          "xref": "x",
          "y0": 4,
          "y1": 4,
          "yref": "y"
         },
         {
          "layer": "above",
          "line": {
           "color": "gray",
           "width": 1
          },
          "type": "line",
          "x0": 10.5,
          "x1": 15.5,
          "xref": "x",
          "y0": 4,
          "y1": 6,
          "yref": "y"
         },
         {
          "layer": "above",
          "line": {
           "color": "gray",
           "width": 1
          },
          "type": "line",
          "x0": 10.5,
          "x1": 15.5,
          "xref": "x",
          "y0": 4,
          "y1": 8,
          "yref": "y"
         },
         {
          "layer": "above",
          "line": {
           "color": "gray",
           "width": 1
          },
          "type": "line",
          "x0": 10.5,
          "x1": 15.5,
          "xref": "x",
          "y0": 4,
          "y1": 10,
          "yref": "y"
         },
         {
          "layer": "above",
          "line": {
           "color": "gray",
           "width": 1
          },
          "type": "line",
          "x0": 10.5,
          "x1": 15.5,
          "xref": "x",
          "y0": 6,
          "y1": -10,
          "yref": "y"
         },
         {
          "layer": "above",
          "line": {
           "color": "gray",
           "width": 1
          },
          "type": "line",
          "x0": 10.5,
          "x1": 15.5,
          "xref": "x",
          "y0": 6,
          "y1": -8,
          "yref": "y"
         },
         {
          "layer": "above",
          "line": {
           "color": "gray",
           "width": 1
          },
          "type": "line",
          "x0": 10.5,
          "x1": 15.5,
          "xref": "x",
          "y0": 6,
          "y1": -6,
          "yref": "y"
         },
         {
          "layer": "above",
          "line": {
           "color": "gray",
           "width": 1
          },
          "type": "line",
          "x0": 10.5,
          "x1": 15.5,
          "xref": "x",
          "y0": 6,
          "y1": -4,
          "yref": "y"
         },
         {
          "layer": "above",
          "line": {
           "color": "gray",
           "width": 1
          },
          "type": "line",
          "x0": 10.5,
          "x1": 15.5,
          "xref": "x",
          "y0": 6,
          "y1": -2,
          "yref": "y"
         },
         {
          "layer": "above",
          "line": {
           "color": "gray",
           "width": 1
          },
          "type": "line",
          "x0": 10.5,
          "x1": 15.5,
          "xref": "x",
          "y0": 6,
          "y1": 2,
          "yref": "y"
         },
         {
          "layer": "above",
          "line": {
           "color": "gray",
           "width": 1
          },
          "type": "line",
          "x0": 10.5,
          "x1": 15.5,
          "xref": "x",
          "y0": 6,
          "y1": 4,
          "yref": "y"
         },
         {
          "layer": "above",
          "line": {
           "color": "gray",
           "width": 1
          },
          "type": "line",
          "x0": 10.5,
          "x1": 15.5,
          "xref": "x",
          "y0": 6,
          "y1": 6,
          "yref": "y"
         },
         {
          "layer": "above",
          "line": {
           "color": "gray",
           "width": 1
          },
          "type": "line",
          "x0": 10.5,
          "x1": 15.5,
          "xref": "x",
          "y0": 6,
          "y1": 8,
          "yref": "y"
         },
         {
          "layer": "above",
          "line": {
           "color": "gray",
           "width": 1
          },
          "type": "line",
          "x0": 10.5,
          "x1": 15.5,
          "xref": "x",
          "y0": 6,
          "y1": 10,
          "yref": "y"
         },
         {
          "layer": "above",
          "line": {
           "color": "gray",
           "width": 1
          },
          "type": "line",
          "x0": 10.5,
          "x1": 15.5,
          "xref": "x",
          "y0": 8,
          "y1": -10,
          "yref": "y"
         },
         {
          "layer": "above",
          "line": {
           "color": "gray",
           "width": 1
          },
          "type": "line",
          "x0": 10.5,
          "x1": 15.5,
          "xref": "x",
          "y0": 8,
          "y1": -8,
          "yref": "y"
         },
         {
          "layer": "above",
          "line": {
           "color": "gray",
           "width": 1
          },
          "type": "line",
          "x0": 10.5,
          "x1": 15.5,
          "xref": "x",
          "y0": 8,
          "y1": -6,
          "yref": "y"
         },
         {
          "layer": "above",
          "line": {
           "color": "gray",
           "width": 1
          },
          "type": "line",
          "x0": 10.5,
          "x1": 15.5,
          "xref": "x",
          "y0": 8,
          "y1": -4,
          "yref": "y"
         },
         {
          "layer": "above",
          "line": {
           "color": "gray",
           "width": 1
          },
          "type": "line",
          "x0": 10.5,
          "x1": 15.5,
          "xref": "x",
          "y0": 8,
          "y1": -2,
          "yref": "y"
         },
         {
          "layer": "above",
          "line": {
           "color": "gray",
           "width": 1
          },
          "type": "line",
          "x0": 10.5,
          "x1": 15.5,
          "xref": "x",
          "y0": 8,
          "y1": 2,
          "yref": "y"
         },
         {
          "layer": "above",
          "line": {
           "color": "gray",
           "width": 1
          },
          "type": "line",
          "x0": 10.5,
          "x1": 15.5,
          "xref": "x",
          "y0": 8,
          "y1": 4,
          "yref": "y"
         },
         {
          "layer": "above",
          "line": {
           "color": "gray",
           "width": 1
          },
          "type": "line",
          "x0": 10.5,
          "x1": 15.5,
          "xref": "x",
          "y0": 8,
          "y1": 6,
          "yref": "y"
         },
         {
          "layer": "above",
          "line": {
           "color": "gray",
           "width": 1
          },
          "type": "line",
          "x0": 10.5,
          "x1": 15.5,
          "xref": "x",
          "y0": 8,
          "y1": 8,
          "yref": "y"
         },
         {
          "layer": "above",
          "line": {
           "color": "gray",
           "width": 1
          },
          "type": "line",
          "x0": 10.5,
          "x1": 15.5,
          "xref": "x",
          "y0": 8,
          "y1": 10,
          "yref": "y"
         },
         {
          "layer": "above",
          "line": {
           "color": "gray",
           "width": 1
          },
          "type": "line",
          "x0": 10.5,
          "x1": 15.5,
          "xref": "x",
          "y0": 10,
          "y1": -10,
          "yref": "y"
         },
         {
          "layer": "above",
          "line": {
           "color": "gray",
           "width": 1
          },
          "type": "line",
          "x0": 10.5,
          "x1": 15.5,
          "xref": "x",
          "y0": 10,
          "y1": -8,
          "yref": "y"
         },
         {
          "layer": "above",
          "line": {
           "color": "gray",
           "width": 1
          },
          "type": "line",
          "x0": 10.5,
          "x1": 15.5,
          "xref": "x",
          "y0": 10,
          "y1": -6,
          "yref": "y"
         },
         {
          "layer": "above",
          "line": {
           "color": "gray",
           "width": 1
          },
          "type": "line",
          "x0": 10.5,
          "x1": 15.5,
          "xref": "x",
          "y0": 10,
          "y1": -4,
          "yref": "y"
         },
         {
          "layer": "above",
          "line": {
           "color": "gray",
           "width": 1
          },
          "type": "line",
          "x0": 10.5,
          "x1": 15.5,
          "xref": "x",
          "y0": 10,
          "y1": -2,
          "yref": "y"
         },
         {
          "layer": "above",
          "line": {
           "color": "gray",
           "width": 1
          },
          "type": "line",
          "x0": 10.5,
          "x1": 15.5,
          "xref": "x",
          "y0": 10,
          "y1": 2,
          "yref": "y"
         },
         {
          "layer": "above",
          "line": {
           "color": "gray",
           "width": 1
          },
          "type": "line",
          "x0": 10.5,
          "x1": 15.5,
          "xref": "x",
          "y0": 10,
          "y1": 4,
          "yref": "y"
         },
         {
          "layer": "above",
          "line": {
           "color": "gray",
           "width": 1
          },
          "type": "line",
          "x0": 10.5,
          "x1": 15.5,
          "xref": "x",
          "y0": 10,
          "y1": 6,
          "yref": "y"
         },
         {
          "layer": "above",
          "line": {
           "color": "gray",
           "width": 1
          },
          "type": "line",
          "x0": 10.5,
          "x1": 15.5,
          "xref": "x",
          "y0": 10,
          "y1": 8,
          "yref": "y"
         },
         {
          "layer": "above",
          "line": {
           "color": "gray",
           "width": 1
          },
          "type": "line",
          "x0": 10.5,
          "x1": 15.5,
          "xref": "x",
          "y0": 10,
          "y1": 10,
          "yref": "y"
         },
         {
          "layer": "above",
          "line": {
           "color": "gray",
           "width": 1
          },
          "type": "line",
          "x0": 15.5,
          "x1": 20.5,
          "xref": "x",
          "y0": -10,
          "y1": 0,
          "yref": "y"
         },
         {
          "layer": "above",
          "line": {
           "color": "gray",
           "width": 1
          },
          "type": "line",
          "x0": 15.5,
          "x1": 20.5,
          "xref": "x",
          "y0": -8,
          "y1": 0,
          "yref": "y"
         },
         {
          "layer": "above",
          "line": {
           "color": "gray",
           "width": 1
          },
          "type": "line",
          "x0": 15.5,
          "x1": 20.5,
          "xref": "x",
          "y0": -6,
          "y1": 0,
          "yref": "y"
         },
         {
          "layer": "above",
          "line": {
           "color": "gray",
           "width": 1
          },
          "type": "line",
          "x0": 15.5,
          "x1": 20.5,
          "xref": "x",
          "y0": -4,
          "y1": 0,
          "yref": "y"
         },
         {
          "layer": "above",
          "line": {
           "color": "gray",
           "width": 1
          },
          "type": "line",
          "x0": 15.5,
          "x1": 20.5,
          "xref": "x",
          "y0": -2,
          "y1": 0,
          "yref": "y"
         },
         {
          "layer": "above",
          "line": {
           "color": "gray",
           "width": 1
          },
          "type": "line",
          "x0": 15.5,
          "x1": 20.5,
          "xref": "x",
          "y0": 2,
          "y1": 0,
          "yref": "y"
         },
         {
          "layer": "above",
          "line": {
           "color": "gray",
           "width": 1
          },
          "type": "line",
          "x0": 15.5,
          "x1": 20.5,
          "xref": "x",
          "y0": 4,
          "y1": 0,
          "yref": "y"
         },
         {
          "layer": "above",
          "line": {
           "color": "gray",
           "width": 1
          },
          "type": "line",
          "x0": 15.5,
          "x1": 20.5,
          "xref": "x",
          "y0": 6,
          "y1": 0,
          "yref": "y"
         },
         {
          "layer": "above",
          "line": {
           "color": "gray",
           "width": 1
          },
          "type": "line",
          "x0": 15.5,
          "x1": 20.5,
          "xref": "x",
          "y0": 8,
          "y1": 0,
          "yref": "y"
         },
         {
          "layer": "above",
          "line": {
           "color": "gray",
           "width": 1
          },
          "type": "line",
          "x0": 15.5,
          "x1": 20.5,
          "xref": "x",
          "y0": 10,
          "y1": 0,
          "yref": "y"
         },
         {
          "fillcolor": "rgba(0,200,0,1)",
          "layer": "above",
          "type": "circle",
          "x0": 0,
          "x1": 1,
          "xref": "x",
          "y0": -2.5,
          "y1": -1.5,
          "yref": "y"
         },
         {
          "fillcolor": "rgba(0,200,0,1)",
          "layer": "above",
          "type": "circle",
          "x0": 0,
          "x1": 1,
          "xref": "x",
          "y0": -0.5,
          "y1": 0.5,
          "yref": "y"
         },
         {
          "fillcolor": "rgba(0,200,0,1)",
          "layer": "above",
          "type": "circle",
          "x0": 0,
          "x1": 1,
          "xref": "x",
          "y0": 1.5,
          "y1": 2.5,
          "yref": "y"
         },
         {
          "fillcolor": "rgba(0,200,0,1)",
          "layer": "above",
          "type": "circle",
          "x0": 5,
          "x1": 6,
          "xref": "x",
          "y0": -9.5,
          "y1": -8.5,
          "yref": "y"
         },
         {
          "fillcolor": "rgba(0,200,0,1)",
          "layer": "above",
          "type": "circle",
          "x0": 5,
          "x1": 6,
          "xref": "x",
          "y0": -7.5,
          "y1": -6.5,
          "yref": "y"
         },
         {
          "fillcolor": "rgba(0,200,0,1)",
          "layer": "above",
          "type": "circle",
          "x0": 5,
          "x1": 6,
          "xref": "x",
          "y0": -5.5,
          "y1": -4.5,
          "yref": "y"
         },
         {
          "fillcolor": "rgba(0,200,0,1)",
          "layer": "above",
          "type": "circle",
          "x0": 5,
          "x1": 6,
          "xref": "x",
          "y0": -3.5,
          "y1": -2.5,
          "yref": "y"
         },
         {
          "fillcolor": "rgba(0,200,0,1)",
          "layer": "above",
          "type": "circle",
          "x0": 5,
          "x1": 6,
          "xref": "x",
          "y0": -1.5,
          "y1": -0.5,
          "yref": "y"
         },
         {
          "fillcolor": "rgba(0,200,0,1)",
          "layer": "above",
          "type": "circle",
          "x0": 5,
          "x1": 6,
          "xref": "x",
          "y0": 0.5,
          "y1": 1.5,
          "yref": "y"
         },
         {
          "fillcolor": "rgba(0,200,0,1)",
          "layer": "above",
          "type": "circle",
          "x0": 5,
          "x1": 6,
          "xref": "x",
          "y0": 2.5,
          "y1": 3.5,
          "yref": "y"
         },
         {
          "fillcolor": "rgba(0,200,0,1)",
          "layer": "above",
          "type": "circle",
          "x0": 5,
          "x1": 6,
          "xref": "x",
          "y0": 4.5,
          "y1": 5.5,
          "yref": "y"
         },
         {
          "fillcolor": "rgba(0,200,0,1)",
          "layer": "above",
          "type": "circle",
          "x0": 5,
          "x1": 6,
          "xref": "x",
          "y0": 6.5,
          "y1": 7.5,
          "yref": "y"
         },
         {
          "fillcolor": "rgba(0,200,0,1)",
          "layer": "above",
          "type": "circle",
          "x0": 5,
          "x1": 6,
          "xref": "x",
          "y0": 8.5,
          "y1": 9.5,
          "yref": "y"
         },
         {
          "fillcolor": "rgba(0,200,0,1)",
          "layer": "above",
          "type": "circle",
          "x0": 10,
          "x1": 11,
          "xref": "x",
          "y0": -10.5,
          "y1": -9.5,
          "yref": "y"
         },
         {
          "fillcolor": "rgba(0,200,0,1)",
          "layer": "above",
          "type": "circle",
          "x0": 10,
          "x1": 11,
          "xref": "x",
          "y0": -8.5,
          "y1": -7.5,
          "yref": "y"
         },
         {
          "fillcolor": "rgba(0,200,0,1)",
          "layer": "above",
          "type": "circle",
          "x0": 10,
          "x1": 11,
          "xref": "x",
          "y0": -6.5,
          "y1": -5.5,
          "yref": "y"
         },
         {
          "fillcolor": "rgba(0,200,0,1)",
          "layer": "above",
          "type": "circle",
          "x0": 10,
          "x1": 11,
          "xref": "x",
          "y0": -4.5,
          "y1": -3.5,
          "yref": "y"
         },
         {
          "fillcolor": "rgba(0,200,0,1)",
          "layer": "above",
          "type": "circle",
          "x0": 10,
          "x1": 11,
          "xref": "x",
          "y0": -2.5,
          "y1": -1.5,
          "yref": "y"
         },
         {
          "fillcolor": "rgba(0,200,0,1)",
          "layer": "above",
          "type": "circle",
          "x0": 10,
          "x1": 11,
          "xref": "x",
          "y0": -0.5,
          "y1": 0.5,
          "yref": "y"
         },
         {
          "fillcolor": "rgba(0,200,0,1)",
          "layer": "above",
          "type": "circle",
          "x0": 10,
          "x1": 11,
          "xref": "x",
          "y0": 1.5,
          "y1": 2.5,
          "yref": "y"
         },
         {
          "fillcolor": "rgba(0,200,0,1)",
          "layer": "above",
          "type": "circle",
          "x0": 10,
          "x1": 11,
          "xref": "x",
          "y0": 3.5,
          "y1": 4.5,
          "yref": "y"
         },
         {
          "fillcolor": "rgba(0,200,0,1)",
          "layer": "above",
          "type": "circle",
          "x0": 10,
          "x1": 11,
          "xref": "x",
          "y0": 5.5,
          "y1": 6.5,
          "yref": "y"
         },
         {
          "fillcolor": "rgba(0,200,0,1)",
          "layer": "above",
          "type": "circle",
          "x0": 10,
          "x1": 11,
          "xref": "x",
          "y0": 7.5,
          "y1": 8.5,
          "yref": "y"
         },
         {
          "fillcolor": "rgba(0,200,0,1)",
          "layer": "above",
          "type": "circle",
          "x0": 10,
          "x1": 11,
          "xref": "x",
          "y0": 9.5,
          "y1": 10.5,
          "yref": "y"
         },
         {
          "fillcolor": "rgba(0,200,0,1)",
          "layer": "above",
          "type": "circle",
          "x0": 15,
          "x1": 16,
          "xref": "x",
          "y0": -10.5,
          "y1": -9.5,
          "yref": "y"
         },
         {
          "fillcolor": "rgba(0,200,0,1)",
          "layer": "above",
          "type": "circle",
          "x0": 15,
          "x1": 16,
          "xref": "x",
          "y0": -8.5,
          "y1": -7.5,
          "yref": "y"
         },
         {
          "fillcolor": "rgba(0,200,0,1)",
          "layer": "above",
          "type": "circle",
          "x0": 15,
          "x1": 16,
          "xref": "x",
          "y0": -6.5,
          "y1": -5.5,
          "yref": "y"
         },
         {
          "fillcolor": "rgba(0,200,0,1)",
          "layer": "above",
          "type": "circle",
          "x0": 15,
          "x1": 16,
          "xref": "x",
          "y0": -4.5,
          "y1": -3.5,
          "yref": "y"
         },
         {
          "fillcolor": "rgba(0,200,0,1)",
          "layer": "above",
          "type": "circle",
          "x0": 15,
          "x1": 16,
          "xref": "x",
          "y0": -2.5,
          "y1": -1.5,
          "yref": "y"
         },
         {
          "fillcolor": "rgba(50,50,50,1)",
          "layer": "above",
          "type": "circle",
          "x0": 15.4,
          "x1": 15.6,
          "xref": "x",
          "y0": -0.85,
          "y1": -0.65,
          "yref": "y"
         },
         {
          "fillcolor": "rgba(50,50,50,1)",
          "layer": "above",
          "type": "circle",
          "x0": 15.4,
          "x1": 15.6,
          "xref": "x",
          "y0": -0.1,
          "y1": 0.1,
          "yref": "y"
         },
         {
          "fillcolor": "rgba(50,50,50,1)",
          "layer": "above",
          "type": "circle",
          "x0": 15.4,
          "x1": 15.6,
          "xref": "x",
          "y0": 0.65,
          "y1": 0.85,
          "yref": "y"
         },
         {
          "fillcolor": "rgba(0,200,0,1)",
          "layer": "above",
          "type": "circle",
          "x0": 15,
          "x1": 16,
          "xref": "x",
          "y0": 1.5,
          "y1": 2.5,
          "yref": "y"
         },
         {
          "fillcolor": "rgba(0,200,0,1)",
          "layer": "above",
          "type": "circle",
          "x0": 15,
          "x1": 16,
          "xref": "x",
          "y0": 3.5,
          "y1": 4.5,
          "yref": "y"
         },
         {
          "fillcolor": "rgba(0,200,0,1)",
          "layer": "above",
          "type": "circle",
          "x0": 15,
          "x1": 16,
          "xref": "x",
          "y0": 5.5,
          "y1": 6.5,
          "yref": "y"
         },
         {
          "fillcolor": "rgba(0,200,0,1)",
          "layer": "above",
          "type": "circle",
          "x0": 15,
          "x1": 16,
          "xref": "x",
          "y0": 7.5,
          "y1": 8.5,
          "yref": "y"
         },
         {
          "fillcolor": "rgba(0,200,0,1)",
          "layer": "above",
          "type": "circle",
          "x0": 15,
          "x1": 16,
          "xref": "x",
          "y0": 9.5,
          "y1": 10.5,
          "yref": "y"
         },
         {
          "fillcolor": "rgba(0,200,0,1)",
          "layer": "above",
          "type": "circle",
          "x0": 20,
          "x1": 21,
          "xref": "x",
          "y0": -0.5,
          "y1": 0.5,
          "yref": "y"
         }
        ],
        "template": {
         "data": {
          "bar": [
           {
            "error_x": {
             "color": "#2a3f5f"
            },
            "error_y": {
             "color": "#2a3f5f"
            },
            "marker": {
             "line": {
              "color": "#E5ECF6",
              "width": 0.5
             },
             "pattern": {
              "fillmode": "overlay",
              "size": 10,
              "solidity": 0.2
             }
            },
            "type": "bar"
           }
          ],
          "barpolar": [
           {
            "marker": {
             "line": {
              "color": "#E5ECF6",
              "width": 0.5
             },
             "pattern": {
              "fillmode": "overlay",
              "size": 10,
              "solidity": 0.2
             }
            },
            "type": "barpolar"
           }
          ],
          "carpet": [
           {
            "aaxis": {
             "endlinecolor": "#2a3f5f",
             "gridcolor": "white",
             "linecolor": "white",
             "minorgridcolor": "white",
             "startlinecolor": "#2a3f5f"
            },
            "baxis": {
             "endlinecolor": "#2a3f5f",
             "gridcolor": "white",
             "linecolor": "white",
             "minorgridcolor": "white",
             "startlinecolor": "#2a3f5f"
            },
            "type": "carpet"
           }
          ],
          "choropleth": [
           {
            "colorbar": {
             "outlinewidth": 0,
             "ticks": ""
            },
            "type": "choropleth"
           }
          ],
          "contour": [
           {
            "colorbar": {
             "outlinewidth": 0,
             "ticks": ""
            },
            "colorscale": [
             [
              0,
              "#0d0887"
             ],
             [
              0.1111111111111111,
              "#46039f"
             ],
             [
              0.2222222222222222,
              "#7201a8"
             ],
             [
              0.3333333333333333,
              "#9c179e"
             ],
             [
              0.4444444444444444,
              "#bd3786"
             ],
             [
              0.5555555555555556,
              "#d8576b"
             ],
             [
              0.6666666666666666,
              "#ed7953"
             ],
             [
              0.7777777777777778,
              "#fb9f3a"
             ],
             [
              0.8888888888888888,
              "#fdca26"
             ],
             [
              1,
              "#f0f921"
             ]
            ],
            "type": "contour"
           }
          ],
          "contourcarpet": [
           {
            "colorbar": {
             "outlinewidth": 0,
             "ticks": ""
            },
            "type": "contourcarpet"
           }
          ],
          "heatmap": [
           {
            "colorbar": {
             "outlinewidth": 0,
             "ticks": ""
            },
            "colorscale": [
             [
              0,
              "#0d0887"
             ],
             [
              0.1111111111111111,
              "#46039f"
             ],
             [
              0.2222222222222222,
              "#7201a8"
             ],
             [
              0.3333333333333333,
              "#9c179e"
             ],
             [
              0.4444444444444444,
              "#bd3786"
             ],
             [
              0.5555555555555556,
              "#d8576b"
             ],
             [
              0.6666666666666666,
              "#ed7953"
             ],
             [
              0.7777777777777778,
              "#fb9f3a"
             ],
             [
              0.8888888888888888,
              "#fdca26"
             ],
             [
              1,
              "#f0f921"
             ]
            ],
            "type": "heatmap"
           }
          ],
          "heatmapgl": [
           {
            "colorbar": {
             "outlinewidth": 0,
             "ticks": ""
            },
            "colorscale": [
             [
              0,
              "#0d0887"
             ],
             [
              0.1111111111111111,
              "#46039f"
             ],
             [
              0.2222222222222222,
              "#7201a8"
             ],
             [
              0.3333333333333333,
              "#9c179e"
             ],
             [
              0.4444444444444444,
              "#bd3786"
             ],
             [
              0.5555555555555556,
              "#d8576b"
             ],
             [
              0.6666666666666666,
              "#ed7953"
             ],
             [
              0.7777777777777778,
              "#fb9f3a"
             ],
             [
              0.8888888888888888,
              "#fdca26"
             ],
             [
              1,
              "#f0f921"
             ]
            ],
            "type": "heatmapgl"
           }
          ],
          "histogram": [
           {
            "marker": {
             "pattern": {
              "fillmode": "overlay",
              "size": 10,
              "solidity": 0.2
             }
            },
            "type": "histogram"
           }
          ],
          "histogram2d": [
           {
            "colorbar": {
             "outlinewidth": 0,
             "ticks": ""
            },
            "colorscale": [
             [
              0,
              "#0d0887"
             ],
             [
              0.1111111111111111,
              "#46039f"
             ],
             [
              0.2222222222222222,
              "#7201a8"
             ],
             [
              0.3333333333333333,
              "#9c179e"
             ],
             [
              0.4444444444444444,
              "#bd3786"
             ],
             [
              0.5555555555555556,
              "#d8576b"
             ],
             [
              0.6666666666666666,
              "#ed7953"
             ],
             [
              0.7777777777777778,
              "#fb9f3a"
             ],
             [
              0.8888888888888888,
              "#fdca26"
             ],
             [
              1,
              "#f0f921"
             ]
            ],
            "type": "histogram2d"
           }
          ],
          "histogram2dcontour": [
           {
            "colorbar": {
             "outlinewidth": 0,
             "ticks": ""
            },
            "colorscale": [
             [
              0,
              "#0d0887"
             ],
             [
              0.1111111111111111,
              "#46039f"
             ],
             [
              0.2222222222222222,
              "#7201a8"
             ],
             [
              0.3333333333333333,
              "#9c179e"
             ],
             [
              0.4444444444444444,
              "#bd3786"
             ],
             [
              0.5555555555555556,
              "#d8576b"
             ],
             [
              0.6666666666666666,
              "#ed7953"
             ],
             [
              0.7777777777777778,
              "#fb9f3a"
             ],
             [
              0.8888888888888888,
              "#fdca26"
             ],
             [
              1,
              "#f0f921"
             ]
            ],
            "type": "histogram2dcontour"
           }
          ],
          "mesh3d": [
           {
            "colorbar": {
             "outlinewidth": 0,
             "ticks": ""
            },
            "type": "mesh3d"
           }
          ],
          "parcoords": [
           {
            "line": {
             "colorbar": {
              "outlinewidth": 0,
              "ticks": ""
             }
            },
            "type": "parcoords"
           }
          ],
          "pie": [
           {
            "automargin": true,
            "type": "pie"
           }
          ],
          "scatter": [
           {
            "fillpattern": {
             "fillmode": "overlay",
             "size": 10,
             "solidity": 0.2
            },
            "type": "scatter"
           }
          ],
          "scatter3d": [
           {
            "line": {
             "colorbar": {
              "outlinewidth": 0,
              "ticks": ""
             }
            },
            "marker": {
             "colorbar": {
              "outlinewidth": 0,
              "ticks": ""
             }
            },
            "type": "scatter3d"
           }
          ],
          "scattercarpet": [
           {
            "marker": {
             "colorbar": {
              "outlinewidth": 0,
              "ticks": ""
             }
            },
            "type": "scattercarpet"
           }
          ],
          "scattergeo": [
           {
            "marker": {
             "colorbar": {
              "outlinewidth": 0,
              "ticks": ""
             }
            },
            "type": "scattergeo"
           }
          ],
          "scattergl": [
           {
            "marker": {
             "colorbar": {
              "outlinewidth": 0,
              "ticks": ""
             }
            },
            "type": "scattergl"
           }
          ],
          "scattermapbox": [
           {
            "marker": {
             "colorbar": {
              "outlinewidth": 0,
              "ticks": ""
             }
            },
            "type": "scattermapbox"
           }
          ],
          "scatterpolar": [
           {
            "marker": {
             "colorbar": {
              "outlinewidth": 0,
              "ticks": ""
             }
            },
            "type": "scatterpolar"
           }
          ],
          "scatterpolargl": [
           {
            "marker": {
             "colorbar": {
              "outlinewidth": 0,
              "ticks": ""
             }
            },
            "type": "scatterpolargl"
           }
          ],
          "scatterternary": [
           {
            "marker": {
             "colorbar": {
              "outlinewidth": 0,
              "ticks": ""
             }
            },
            "type": "scatterternary"
           }
          ],
          "surface": [
           {
            "colorbar": {
             "outlinewidth": 0,
             "ticks": ""
            },
            "colorscale": [
             [
              0,
              "#0d0887"
             ],
             [
              0.1111111111111111,
              "#46039f"
             ],
             [
              0.2222222222222222,
              "#7201a8"
             ],
             [
              0.3333333333333333,
              "#9c179e"
             ],
             [
              0.4444444444444444,
              "#bd3786"
             ],
             [
              0.5555555555555556,
              "#d8576b"
             ],
             [
              0.6666666666666666,
              "#ed7953"
             ],
             [
              0.7777777777777778,
              "#fb9f3a"
             ],
             [
              0.8888888888888888,
              "#fdca26"
             ],
             [
              1,
              "#f0f921"
             ]
            ],
            "type": "surface"
           }
          ],
          "table": [
           {
            "cells": {
             "fill": {
              "color": "#EBF0F8"
             },
             "line": {
              "color": "white"
             }
            },
            "header": {
             "fill": {
              "color": "#C8D4E3"
             },
             "line": {
              "color": "white"
             }
            },
            "type": "table"
           }
          ]
         },
         "layout": {
          "annotationdefaults": {
           "arrowcolor": "#2a3f5f",
           "arrowhead": 0,
           "arrowwidth": 1
          },
          "autotypenumbers": "strict",
          "coloraxis": {
           "colorbar": {
            "outlinewidth": 0,
            "ticks": ""
           }
          },
          "colorscale": {
           "diverging": [
            [
             0,
             "#8e0152"
            ],
            [
             0.1,
             "#c51b7d"
            ],
            [
             0.2,
             "#de77ae"
            ],
            [
             0.3,
             "#f1b6da"
            ],
            [
             0.4,
             "#fde0ef"
            ],
            [
             0.5,
             "#f7f7f7"
            ],
            [
             0.6,
             "#e6f5d0"
            ],
            [
             0.7,
             "#b8e186"
            ],
            [
             0.8,
             "#7fbc41"
            ],
            [
             0.9,
             "#4d9221"
            ],
            [
             1,
             "#276419"
            ]
           ],
           "sequential": [
            [
             0,
             "#0d0887"
            ],
            [
             0.1111111111111111,
             "#46039f"
            ],
            [
             0.2222222222222222,
             "#7201a8"
            ],
            [
             0.3333333333333333,
             "#9c179e"
            ],
            [
             0.4444444444444444,
             "#bd3786"
            ],
            [
             0.5555555555555556,
             "#d8576b"
            ],
            [
             0.6666666666666666,
             "#ed7953"
            ],
            [
             0.7777777777777778,
             "#fb9f3a"
            ],
            [
             0.8888888888888888,
             "#fdca26"
            ],
            [
             1,
             "#f0f921"
            ]
           ],
           "sequentialminus": [
            [
             0,
             "#0d0887"
            ],
            [
             0.1111111111111111,
             "#46039f"
            ],
            [
             0.2222222222222222,
             "#7201a8"
            ],
            [
             0.3333333333333333,
             "#9c179e"
            ],
            [
             0.4444444444444444,
             "#bd3786"
            ],
            [
             0.5555555555555556,
             "#d8576b"
            ],
            [
             0.6666666666666666,
             "#ed7953"
            ],
            [
             0.7777777777777778,
             "#fb9f3a"
            ],
            [
             0.8888888888888888,
             "#fdca26"
            ],
            [
             1,
             "#f0f921"
            ]
           ]
          },
          "colorway": [
           "#636efa",
           "#EF553B",
           "#00cc96",
           "#ab63fa",
           "#FFA15A",
           "#19d3f3",
           "#FF6692",
           "#B6E880",
           "#FF97FF",
           "#FECB52"
          ],
          "font": {
           "color": "#2a3f5f"
          },
          "geo": {
           "bgcolor": "white",
           "lakecolor": "white",
           "landcolor": "#E5ECF6",
           "showlakes": true,
           "showland": true,
           "subunitcolor": "white"
          },
          "hoverlabel": {
           "align": "left"
          },
          "hovermode": "closest",
          "mapbox": {
           "style": "light"
          },
          "paper_bgcolor": "white",
          "plot_bgcolor": "#E5ECF6",
          "polar": {
           "angularaxis": {
            "gridcolor": "white",
            "linecolor": "white",
            "ticks": ""
           },
           "bgcolor": "#E5ECF6",
           "radialaxis": {
            "gridcolor": "white",
            "linecolor": "white",
            "ticks": ""
           }
          },
          "scene": {
           "xaxis": {
            "backgroundcolor": "#E5ECF6",
            "gridcolor": "white",
            "gridwidth": 2,
            "linecolor": "white",
            "showbackground": true,
            "ticks": "",
            "zerolinecolor": "white"
           },
           "yaxis": {
            "backgroundcolor": "#E5ECF6",
            "gridcolor": "white",
            "gridwidth": 2,
            "linecolor": "white",
            "showbackground": true,
            "ticks": "",
            "zerolinecolor": "white"
           },
           "zaxis": {
            "backgroundcolor": "#E5ECF6",
            "gridcolor": "white",
            "gridwidth": 2,
            "linecolor": "white",
            "showbackground": true,
            "ticks": "",
            "zerolinecolor": "white"
           }
          },
          "shapedefaults": {
           "line": {
            "color": "#2a3f5f"
           }
          },
          "ternary": {
           "aaxis": {
            "gridcolor": "white",
            "linecolor": "white",
            "ticks": ""
           },
           "baxis": {
            "gridcolor": "white",
            "linecolor": "white",
            "ticks": ""
           },
           "bgcolor": "#E5ECF6",
           "caxis": {
            "gridcolor": "white",
            "linecolor": "white",
            "ticks": ""
           }
          },
          "title": {
           "x": 0.05
          },
          "xaxis": {
           "automargin": true,
           "gridcolor": "white",
           "linecolor": "white",
           "ticks": "",
           "title": {
            "standoff": 15
           },
           "zerolinecolor": "white",
           "zerolinewidth": 2
          },
          "yaxis": {
           "automargin": true,
           "gridcolor": "white",
           "linecolor": "white",
           "ticks": "",
           "title": {
            "standoff": 15
           },
           "zerolinecolor": "white",
           "zerolinewidth": 2
          }
         }
        },
        "xaxis": {
         "range": [
          0,
          25
         ]
        },
        "yaxis": {
         "range": [
          -11,
          11
         ],
         "scaleanchor": "x",
         "scaleratio": 1
        }
       }
      }
     },
     "metadata": {},
     "output_type": "display_data"
    }
   ],
   "source": [
    "utils.draw_neural_network(neural_network)"
   ]
  },
  {
   "cell_type": "code",
   "execution_count": null,
   "id": "c7b52fc7",
   "metadata": {},
   "outputs": [],
   "source": []
  }
 ],
 "metadata": {
  "kernelspec": {
   "display_name": "Python 3",
   "language": "python",
   "name": "python3"
  },
  "language_info": {
   "codemirror_mode": {
    "name": "ipython",
    "version": 3
   },
   "file_extension": ".py",
   "mimetype": "text/x-python",
   "name": "python",
   "nbconvert_exporter": "python",
   "pygments_lexer": "ipython3",
   "version": "3.11.2"
  }
 },
 "nbformat": 4,
 "nbformat_minor": 5
}
